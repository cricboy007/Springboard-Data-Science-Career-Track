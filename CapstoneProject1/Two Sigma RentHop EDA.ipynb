{
 "cells": [
  {
   "cell_type": "code",
   "execution_count": 157,
   "metadata": {
    "ExecuteTime": {
     "end_time": "2018-05-25T02:50:04.883697Z",
     "start_time": "2018-05-25T02:50:04.871665Z"
    }
   },
   "outputs": [],
   "source": [
    "import numpy as np # scientific computing with Python\n",
    "import pandas as pd # data processing and data analysis tools\n",
    "\n",
    "import matplotlib.pyplot as plt\n",
    "% matplotlib inline\n",
    "\n",
    "import seaborn as sns\n"
   ]
  },
  {
   "cell_type": "code",
   "execution_count": 158,
   "metadata": {
    "ExecuteTime": {
     "end_time": "2018-05-25T02:50:06.200231Z",
     "start_time": "2018-05-25T02:50:04.885702Z"
    }
   },
   "outputs": [
    {
     "data": {
      "text/html": [
       "<div>\n",
       "<style scoped>\n",
       "    .dataframe tbody tr th:only-of-type {\n",
       "        vertical-align: middle;\n",
       "    }\n",
       "\n",
       "    .dataframe tbody tr th {\n",
       "        vertical-align: top;\n",
       "    }\n",
       "\n",
       "    .dataframe thead th {\n",
       "        text-align: right;\n",
       "    }\n",
       "</style>\n",
       "<table border=\"1\" class=\"dataframe\">\n",
       "  <thead>\n",
       "    <tr style=\"text-align: right;\">\n",
       "      <th></th>\n",
       "      <th>bathrooms</th>\n",
       "      <th>bedrooms</th>\n",
       "      <th>building_id</th>\n",
       "      <th>created</th>\n",
       "      <th>description</th>\n",
       "      <th>display_address</th>\n",
       "      <th>features</th>\n",
       "      <th>interest_level</th>\n",
       "      <th>latitude</th>\n",
       "      <th>listing_id</th>\n",
       "      <th>longitude</th>\n",
       "      <th>manager_id</th>\n",
       "      <th>photos</th>\n",
       "      <th>price</th>\n",
       "      <th>street_address</th>\n",
       "    </tr>\n",
       "  </thead>\n",
       "  <tbody>\n",
       "    <tr>\n",
       "      <th>10</th>\n",
       "      <td>1.5</td>\n",
       "      <td>3</td>\n",
       "      <td>53a5b119ba8f7b61d4e010512e0dfc85</td>\n",
       "      <td>2016-06-24 07:54:24</td>\n",
       "      <td>A Brand New 3 Bedroom 1.5 bath ApartmentEnjoy ...</td>\n",
       "      <td>Metropolitan Avenue</td>\n",
       "      <td>[]</td>\n",
       "      <td>medium</td>\n",
       "      <td>40.7145</td>\n",
       "      <td>7211212</td>\n",
       "      <td>-73.9425</td>\n",
       "      <td>5ba989232d0489da1b5f2c45f6688adc</td>\n",
       "      <td>[https://photos.renthop.com/2/7211212_1ed4542e...</td>\n",
       "      <td>3000</td>\n",
       "      <td>792 Metropolitan Avenue</td>\n",
       "    </tr>\n",
       "    <tr>\n",
       "      <th>10000</th>\n",
       "      <td>1.0</td>\n",
       "      <td>2</td>\n",
       "      <td>c5c8a357cba207596b04d1afd1e4f130</td>\n",
       "      <td>2016-06-12 12:19:27</td>\n",
       "      <td></td>\n",
       "      <td>Columbus Avenue</td>\n",
       "      <td>[Doorman, Elevator, Fitness Center, Cats Allow...</td>\n",
       "      <td>low</td>\n",
       "      <td>40.7947</td>\n",
       "      <td>7150865</td>\n",
       "      <td>-73.9667</td>\n",
       "      <td>7533621a882f71e25173b27e3139d83d</td>\n",
       "      <td>[https://photos.renthop.com/2/7150865_be3306c5...</td>\n",
       "      <td>5465</td>\n",
       "      <td>808 Columbus Avenue</td>\n",
       "    </tr>\n",
       "    <tr>\n",
       "      <th>100004</th>\n",
       "      <td>1.0</td>\n",
       "      <td>1</td>\n",
       "      <td>c3ba40552e2120b0acfc3cb5730bb2aa</td>\n",
       "      <td>2016-04-17 03:26:41</td>\n",
       "      <td>Top Top West Village location, beautiful Pre-w...</td>\n",
       "      <td>W 13 Street</td>\n",
       "      <td>[Laundry In Building, Dishwasher, Hardwood Flo...</td>\n",
       "      <td>high</td>\n",
       "      <td>40.7388</td>\n",
       "      <td>6887163</td>\n",
       "      <td>-74.0018</td>\n",
       "      <td>d9039c43983f6e564b1482b273bd7b01</td>\n",
       "      <td>[https://photos.renthop.com/2/6887163_de85c427...</td>\n",
       "      <td>2850</td>\n",
       "      <td>241 W 13 Street</td>\n",
       "    </tr>\n",
       "    <tr>\n",
       "      <th>100007</th>\n",
       "      <td>1.0</td>\n",
       "      <td>1</td>\n",
       "      <td>28d9ad350afeaab8027513a3e52ac8d5</td>\n",
       "      <td>2016-04-18 02:22:02</td>\n",
       "      <td>Building Amenities - Garage - Garden - fitness...</td>\n",
       "      <td>East 49th Street</td>\n",
       "      <td>[Hardwood Floors, No Fee]</td>\n",
       "      <td>low</td>\n",
       "      <td>40.7539</td>\n",
       "      <td>6888711</td>\n",
       "      <td>-73.9677</td>\n",
       "      <td>1067e078446a7897d2da493d2f741316</td>\n",
       "      <td>[https://photos.renthop.com/2/6888711_6e660cee...</td>\n",
       "      <td>3275</td>\n",
       "      <td>333 East 49th Street</td>\n",
       "    </tr>\n",
       "    <tr>\n",
       "      <th>100013</th>\n",
       "      <td>1.0</td>\n",
       "      <td>4</td>\n",
       "      <td>0</td>\n",
       "      <td>2016-04-28 01:32:41</td>\n",
       "      <td>Beautifully renovated 3 bedroom flex 4 bedroom...</td>\n",
       "      <td>West 143rd Street</td>\n",
       "      <td>[Pre-War]</td>\n",
       "      <td>low</td>\n",
       "      <td>40.8241</td>\n",
       "      <td>6934781</td>\n",
       "      <td>-73.9493</td>\n",
       "      <td>98e13ad4b495b9613cef886d79a6291f</td>\n",
       "      <td>[https://photos.renthop.com/2/6934781_1fa4b41a...</td>\n",
       "      <td>3350</td>\n",
       "      <td>500 West 143rd Street</td>\n",
       "    </tr>\n",
       "  </tbody>\n",
       "</table>\n",
       "</div>"
      ],
      "text/plain": [
       "        bathrooms  bedrooms                       building_id  \\\n",
       "10            1.5         3  53a5b119ba8f7b61d4e010512e0dfc85   \n",
       "10000         1.0         2  c5c8a357cba207596b04d1afd1e4f130   \n",
       "100004        1.0         1  c3ba40552e2120b0acfc3cb5730bb2aa   \n",
       "100007        1.0         1  28d9ad350afeaab8027513a3e52ac8d5   \n",
       "100013        1.0         4                                 0   \n",
       "\n",
       "                    created  \\\n",
       "10      2016-06-24 07:54:24   \n",
       "10000   2016-06-12 12:19:27   \n",
       "100004  2016-04-17 03:26:41   \n",
       "100007  2016-04-18 02:22:02   \n",
       "100013  2016-04-28 01:32:41   \n",
       "\n",
       "                                              description  \\\n",
       "10      A Brand New 3 Bedroom 1.5 bath ApartmentEnjoy ...   \n",
       "10000                                                       \n",
       "100004  Top Top West Village location, beautiful Pre-w...   \n",
       "100007  Building Amenities - Garage - Garden - fitness...   \n",
       "100013  Beautifully renovated 3 bedroom flex 4 bedroom...   \n",
       "\n",
       "            display_address  \\\n",
       "10      Metropolitan Avenue   \n",
       "10000       Columbus Avenue   \n",
       "100004          W 13 Street   \n",
       "100007     East 49th Street   \n",
       "100013    West 143rd Street   \n",
       "\n",
       "                                                 features interest_level  \\\n",
       "10                                                     []         medium   \n",
       "10000   [Doorman, Elevator, Fitness Center, Cats Allow...            low   \n",
       "100004  [Laundry In Building, Dishwasher, Hardwood Flo...           high   \n",
       "100007                          [Hardwood Floors, No Fee]            low   \n",
       "100013                                          [Pre-War]            low   \n",
       "\n",
       "        latitude  listing_id  longitude                        manager_id  \\\n",
       "10       40.7145     7211212   -73.9425  5ba989232d0489da1b5f2c45f6688adc   \n",
       "10000    40.7947     7150865   -73.9667  7533621a882f71e25173b27e3139d83d   \n",
       "100004   40.7388     6887163   -74.0018  d9039c43983f6e564b1482b273bd7b01   \n",
       "100007   40.7539     6888711   -73.9677  1067e078446a7897d2da493d2f741316   \n",
       "100013   40.8241     6934781   -73.9493  98e13ad4b495b9613cef886d79a6291f   \n",
       "\n",
       "                                                   photos  price  \\\n",
       "10      [https://photos.renthop.com/2/7211212_1ed4542e...   3000   \n",
       "10000   [https://photos.renthop.com/2/7150865_be3306c5...   5465   \n",
       "100004  [https://photos.renthop.com/2/6887163_de85c427...   2850   \n",
       "100007  [https://photos.renthop.com/2/6888711_6e660cee...   3275   \n",
       "100013  [https://photos.renthop.com/2/6934781_1fa4b41a...   3350   \n",
       "\n",
       "                 street_address  \n",
       "10      792 Metropolitan Avenue  \n",
       "10000       808 Columbus Avenue  \n",
       "100004          241 W 13 Street  \n",
       "100007     333 East 49th Street  \n",
       "100013    500 West 143rd Street  "
      ]
     },
     "execution_count": 158,
     "metadata": {},
     "output_type": "execute_result"
    }
   ],
   "source": [
    "# https://www.kaggle.com/c/two-sigma-connect-rental-listing-inquiries/data\n",
    "\n",
    "train = pd.read_json(\"../Two Sigma/train.json\")\n",
    "train.head()"
   ]
  },
  {
   "cell_type": "code",
   "execution_count": 159,
   "metadata": {
    "ExecuteTime": {
     "end_time": "2018-05-25T02:50:08.322839Z",
     "start_time": "2018-05-25T02:50:06.202205Z"
    }
   },
   "outputs": [
    {
     "data": {
      "text/html": [
       "<div>\n",
       "<style scoped>\n",
       "    .dataframe tbody tr th:only-of-type {\n",
       "        vertical-align: middle;\n",
       "    }\n",
       "\n",
       "    .dataframe tbody tr th {\n",
       "        vertical-align: top;\n",
       "    }\n",
       "\n",
       "    .dataframe thead th {\n",
       "        text-align: right;\n",
       "    }\n",
       "</style>\n",
       "<table border=\"1\" class=\"dataframe\">\n",
       "  <thead>\n",
       "    <tr style=\"text-align: right;\">\n",
       "      <th></th>\n",
       "      <th>0</th>\n",
       "      <th>1</th>\n",
       "      <th>100</th>\n",
       "      <th>1000</th>\n",
       "      <th>100000</th>\n",
       "    </tr>\n",
       "  </thead>\n",
       "  <tbody>\n",
       "    <tr>\n",
       "      <th>bathrooms</th>\n",
       "      <td>1</td>\n",
       "      <td>1</td>\n",
       "      <td>1</td>\n",
       "      <td>1</td>\n",
       "      <td>2</td>\n",
       "    </tr>\n",
       "    <tr>\n",
       "      <th>bedrooms</th>\n",
       "      <td>1</td>\n",
       "      <td>2</td>\n",
       "      <td>1</td>\n",
       "      <td>2</td>\n",
       "      <td>2</td>\n",
       "    </tr>\n",
       "    <tr>\n",
       "      <th>building_id</th>\n",
       "      <td>79780be1514f645d7e6be99a3de696c5</td>\n",
       "      <td>0</td>\n",
       "      <td>3dbbb69fd52e0d25131aa1cd459c87eb</td>\n",
       "      <td>783d21d013a7e655bddc4ed0d461cc5e</td>\n",
       "      <td>6134e7c4dd1a98d9aee36623c9872b49</td>\n",
       "    </tr>\n",
       "    <tr>\n",
       "      <th>created</th>\n",
       "      <td>2016-06-11 05:29:41</td>\n",
       "      <td>2016-06-24 06:36:34</td>\n",
       "      <td>2016-06-03 04:29:40</td>\n",
       "      <td>2016-06-11 06:17:35</td>\n",
       "      <td>2016-04-12 05:24:17</td>\n",
       "    </tr>\n",
       "    <tr>\n",
       "      <th>description</th>\n",
       "      <td>Large with awesome terrace--accessible via bed...</td>\n",
       "      <td>Prime Soho - between Bleecker and Houston - Ne...</td>\n",
       "      <td>New York chic has reached a new level ...</td>\n",
       "      <td>Step into this fantastic new Construction in t...</td>\n",
       "      <td>~Take a stroll in Central Park, enjoy the ente...</td>\n",
       "    </tr>\n",
       "    <tr>\n",
       "      <th>display_address</th>\n",
       "      <td>Suffolk Street</td>\n",
       "      <td>Thompson Street</td>\n",
       "      <td>101 East 10th Street</td>\n",
       "      <td>South Third Street\\r</td>\n",
       "      <td>Midtown West, 8th Ave</td>\n",
       "    </tr>\n",
       "    <tr>\n",
       "      <th>features</th>\n",
       "      <td>[Elevator, Laundry in Building, Laundry in Uni...</td>\n",
       "      <td>[Pre-War, Dogs Allowed, Cats Allowed]</td>\n",
       "      <td>[Doorman, Elevator, No Fee]</td>\n",
       "      <td>[Roof Deck, Balcony, Elevator, Laundry in Buil...</td>\n",
       "      <td>[Common Outdoor Space, Cats Allowed, Dogs Allo...</td>\n",
       "    </tr>\n",
       "    <tr>\n",
       "      <th>latitude</th>\n",
       "      <td>40.7185</td>\n",
       "      <td>40.7278</td>\n",
       "      <td>40.7306</td>\n",
       "      <td>40.7109</td>\n",
       "      <td>40.765</td>\n",
       "    </tr>\n",
       "    <tr>\n",
       "      <th>listing_id</th>\n",
       "      <td>7142618</td>\n",
       "      <td>7210040</td>\n",
       "      <td>7103890</td>\n",
       "      <td>7143442</td>\n",
       "      <td>6860601</td>\n",
       "    </tr>\n",
       "    <tr>\n",
       "      <th>longitude</th>\n",
       "      <td>-73.9865</td>\n",
       "      <td>-74</td>\n",
       "      <td>-73.989</td>\n",
       "      <td>-73.9571</td>\n",
       "      <td>-73.9845</td>\n",
       "    </tr>\n",
       "    <tr>\n",
       "      <th>manager_id</th>\n",
       "      <td>b1b1852c416d78d7765d746cb1b8921f</td>\n",
       "      <td>d0b5648017832b2427eeb9956d966a14</td>\n",
       "      <td>9ca6f3baa475c37a3b3521a394d65467</td>\n",
       "      <td>0b9d5db96db8472d7aeb67c67338c4d2</td>\n",
       "      <td>b5eda0eb31b042ce2124fd9e9fcfce2f</td>\n",
       "    </tr>\n",
       "    <tr>\n",
       "      <th>photos</th>\n",
       "      <td>[https://photos.renthop.com/2/7142618_1c45a2c8...</td>\n",
       "      <td>[https://photos.renthop.com/2/7210040_d824cc71...</td>\n",
       "      <td>[https://photos.renthop.com/2/7103890_85b33077...</td>\n",
       "      <td>[https://photos.renthop.com/2/7143442_0879e9e0...</td>\n",
       "      <td>[https://photos.renthop.com/2/6860601_c96164d8...</td>\n",
       "    </tr>\n",
       "    <tr>\n",
       "      <th>price</th>\n",
       "      <td>2950</td>\n",
       "      <td>2850</td>\n",
       "      <td>3758</td>\n",
       "      <td>3300</td>\n",
       "      <td>4900</td>\n",
       "    </tr>\n",
       "    <tr>\n",
       "      <th>street_address</th>\n",
       "      <td>99 Suffolk Street</td>\n",
       "      <td>176 Thompson Street</td>\n",
       "      <td>101 East 10th Street</td>\n",
       "      <td>251  South Third Street\\r</td>\n",
       "      <td>260 West 54th Street</td>\n",
       "    </tr>\n",
       "  </tbody>\n",
       "</table>\n",
       "</div>"
      ],
      "text/plain": [
       "                                                            0       \\\n",
       "bathrooms                                                        1   \n",
       "bedrooms                                                         1   \n",
       "building_id                       79780be1514f645d7e6be99a3de696c5   \n",
       "created                                        2016-06-11 05:29:41   \n",
       "description      Large with awesome terrace--accessible via bed...   \n",
       "display_address                                     Suffolk Street   \n",
       "features         [Elevator, Laundry in Building, Laundry in Uni...   \n",
       "latitude                                                   40.7185   \n",
       "listing_id                                                 7142618   \n",
       "longitude                                                 -73.9865   \n",
       "manager_id                        b1b1852c416d78d7765d746cb1b8921f   \n",
       "photos           [https://photos.renthop.com/2/7142618_1c45a2c8...   \n",
       "price                                                         2950   \n",
       "street_address                                   99 Suffolk Street   \n",
       "\n",
       "                                                            1       \\\n",
       "bathrooms                                                        1   \n",
       "bedrooms                                                         2   \n",
       "building_id                                                      0   \n",
       "created                                        2016-06-24 06:36:34   \n",
       "description      Prime Soho - between Bleecker and Houston - Ne...   \n",
       "display_address                                    Thompson Street   \n",
       "features                     [Pre-War, Dogs Allowed, Cats Allowed]   \n",
       "latitude                                                   40.7278   \n",
       "listing_id                                                 7210040   \n",
       "longitude                                                      -74   \n",
       "manager_id                        d0b5648017832b2427eeb9956d966a14   \n",
       "photos           [https://photos.renthop.com/2/7210040_d824cc71...   \n",
       "price                                                         2850   \n",
       "street_address                                 176 Thompson Street   \n",
       "\n",
       "                                                            100     \\\n",
       "bathrooms                                                        1   \n",
       "bedrooms                                                         1   \n",
       "building_id                       3dbbb69fd52e0d25131aa1cd459c87eb   \n",
       "created                                        2016-06-03 04:29:40   \n",
       "description              New York chic has reached a new level ...   \n",
       "display_address                               101 East 10th Street   \n",
       "features                               [Doorman, Elevator, No Fee]   \n",
       "latitude                                                   40.7306   \n",
       "listing_id                                                 7103890   \n",
       "longitude                                                  -73.989   \n",
       "manager_id                        9ca6f3baa475c37a3b3521a394d65467   \n",
       "photos           [https://photos.renthop.com/2/7103890_85b33077...   \n",
       "price                                                         3758   \n",
       "street_address                                101 East 10th Street   \n",
       "\n",
       "                                                            1000    \\\n",
       "bathrooms                                                        1   \n",
       "bedrooms                                                         2   \n",
       "building_id                       783d21d013a7e655bddc4ed0d461cc5e   \n",
       "created                                        2016-06-11 06:17:35   \n",
       "description      Step into this fantastic new Construction in t...   \n",
       "display_address                               South Third Street\\r   \n",
       "features         [Roof Deck, Balcony, Elevator, Laundry in Buil...   \n",
       "latitude                                                   40.7109   \n",
       "listing_id                                                 7143442   \n",
       "longitude                                                 -73.9571   \n",
       "manager_id                        0b9d5db96db8472d7aeb67c67338c4d2   \n",
       "photos           [https://photos.renthop.com/2/7143442_0879e9e0...   \n",
       "price                                                         3300   \n",
       "street_address                           251  South Third Street\\r   \n",
       "\n",
       "                                                            100000  \n",
       "bathrooms                                                        2  \n",
       "bedrooms                                                         2  \n",
       "building_id                       6134e7c4dd1a98d9aee36623c9872b49  \n",
       "created                                        2016-04-12 05:24:17  \n",
       "description      ~Take a stroll in Central Park, enjoy the ente...  \n",
       "display_address                              Midtown West, 8th Ave  \n",
       "features         [Common Outdoor Space, Cats Allowed, Dogs Allo...  \n",
       "latitude                                                    40.765  \n",
       "listing_id                                                 6860601  \n",
       "longitude                                                 -73.9845  \n",
       "manager_id                        b5eda0eb31b042ce2124fd9e9fcfce2f  \n",
       "photos           [https://photos.renthop.com/2/6860601_c96164d8...  \n",
       "price                                                         4900  \n",
       "street_address                                260 West 54th Street  "
      ]
     },
     "execution_count": 159,
     "metadata": {},
     "output_type": "execute_result"
    }
   ],
   "source": [
    "test = pd.read_json(\"../Two Sigma/test.json\")\n",
    "test.head().T"
   ]
  },
  {
   "cell_type": "code",
   "execution_count": 160,
   "metadata": {
    "ExecuteTime": {
     "end_time": "2018-05-25T02:50:08.329859Z",
     "start_time": "2018-05-25T02:50:08.324846Z"
    }
   },
   "outputs": [
    {
     "data": {
      "text/plain": [
       "(49352, 15)"
      ]
     },
     "execution_count": 160,
     "metadata": {},
     "output_type": "execute_result"
    }
   ],
   "source": [
    "train.shape"
   ]
  },
  {
   "cell_type": "code",
   "execution_count": 161,
   "metadata": {
    "ExecuteTime": {
     "end_time": "2018-05-25T02:50:08.349913Z",
     "start_time": "2018-05-25T02:50:08.337880Z"
    }
   },
   "outputs": [
    {
     "data": {
      "text/plain": [
       "(74659, 14)"
      ]
     },
     "execution_count": 161,
     "metadata": {},
     "output_type": "execute_result"
    }
   ],
   "source": [
    "test.shape"
   ]
  },
  {
   "cell_type": "code",
   "execution_count": 162,
   "metadata": {
    "ExecuteTime": {
     "end_time": "2018-05-25T02:50:08.402051Z",
     "start_time": "2018-05-25T02:50:08.352919Z"
    }
   },
   "outputs": [
    {
     "name": "stdout",
     "output_type": "stream",
     "text": [
      "<class 'pandas.core.frame.DataFrame'>\n",
      "Int64Index: 49352 entries, 10 to 99994\n",
      "Data columns (total 15 columns):\n",
      "bathrooms          49352 non-null float64\n",
      "bedrooms           49352 non-null int64\n",
      "building_id        49352 non-null object\n",
      "created            49352 non-null object\n",
      "description        49352 non-null object\n",
      "display_address    49352 non-null object\n",
      "features           49352 non-null object\n",
      "interest_level     49352 non-null object\n",
      "latitude           49352 non-null float64\n",
      "listing_id         49352 non-null int64\n",
      "longitude          49352 non-null float64\n",
      "manager_id         49352 non-null object\n",
      "photos             49352 non-null object\n",
      "price              49352 non-null int64\n",
      "street_address     49352 non-null object\n",
      "dtypes: float64(3), int64(3), object(9)\n",
      "memory usage: 6.0+ MB\n"
     ]
    }
   ],
   "source": [
    "# info method provides information about dataset like \n",
    "# total values in each column, null/not null, datatype, memory occupied etc\n",
    "train.info()"
   ]
  },
  {
   "cell_type": "code",
   "execution_count": 163,
   "metadata": {
    "ExecuteTime": {
     "end_time": "2018-05-25T02:50:08.411075Z",
     "start_time": "2018-05-25T02:50:08.404056Z"
    }
   },
   "outputs": [
    {
     "data": {
      "text/plain": [
       "float64    3\n",
       "int64      3\n",
       "object     9\n",
       "dtype: int64"
      ]
     },
     "execution_count": 163,
     "metadata": {},
     "output_type": "execute_result"
    }
   ],
   "source": [
    "# How many columns with different datatypes are there?\n",
    "train.get_dtype_counts()"
   ]
  },
  {
   "cell_type": "code",
   "execution_count": 164,
   "metadata": {
    "ExecuteTime": {
     "end_time": "2018-05-25T02:50:08.455192Z",
     "start_time": "2018-05-25T02:50:08.414082Z"
    }
   },
   "outputs": [
    {
     "data": {
      "text/html": [
       "<div>\n",
       "<style scoped>\n",
       "    .dataframe tbody tr th:only-of-type {\n",
       "        vertical-align: middle;\n",
       "    }\n",
       "\n",
       "    .dataframe tbody tr th {\n",
       "        vertical-align: top;\n",
       "    }\n",
       "\n",
       "    .dataframe thead th {\n",
       "        text-align: right;\n",
       "    }\n",
       "</style>\n",
       "<table border=\"1\" class=\"dataframe\">\n",
       "  <thead>\n",
       "    <tr style=\"text-align: right;\">\n",
       "      <th></th>\n",
       "      <th>bathrooms</th>\n",
       "      <th>bedrooms</th>\n",
       "      <th>latitude</th>\n",
       "      <th>listing_id</th>\n",
       "      <th>longitude</th>\n",
       "      <th>price</th>\n",
       "    </tr>\n",
       "  </thead>\n",
       "  <tbody>\n",
       "    <tr>\n",
       "      <th>count</th>\n",
       "      <td>49352.00000</td>\n",
       "      <td>49352.000000</td>\n",
       "      <td>49352.000000</td>\n",
       "      <td>4.935200e+04</td>\n",
       "      <td>49352.000000</td>\n",
       "      <td>4.935200e+04</td>\n",
       "    </tr>\n",
       "    <tr>\n",
       "      <th>mean</th>\n",
       "      <td>1.21218</td>\n",
       "      <td>1.541640</td>\n",
       "      <td>40.741545</td>\n",
       "      <td>7.024055e+06</td>\n",
       "      <td>-73.955716</td>\n",
       "      <td>3.830174e+03</td>\n",
       "    </tr>\n",
       "    <tr>\n",
       "      <th>std</th>\n",
       "      <td>0.50142</td>\n",
       "      <td>1.115018</td>\n",
       "      <td>0.638535</td>\n",
       "      <td>1.262746e+05</td>\n",
       "      <td>1.177912</td>\n",
       "      <td>2.206687e+04</td>\n",
       "    </tr>\n",
       "    <tr>\n",
       "      <th>min</th>\n",
       "      <td>0.00000</td>\n",
       "      <td>0.000000</td>\n",
       "      <td>0.000000</td>\n",
       "      <td>6.811957e+06</td>\n",
       "      <td>-118.271000</td>\n",
       "      <td>4.300000e+01</td>\n",
       "    </tr>\n",
       "    <tr>\n",
       "      <th>25%</th>\n",
       "      <td>1.00000</td>\n",
       "      <td>1.000000</td>\n",
       "      <td>40.728300</td>\n",
       "      <td>6.915888e+06</td>\n",
       "      <td>-73.991700</td>\n",
       "      <td>2.500000e+03</td>\n",
       "    </tr>\n",
       "    <tr>\n",
       "      <th>50%</th>\n",
       "      <td>1.00000</td>\n",
       "      <td>1.000000</td>\n",
       "      <td>40.751800</td>\n",
       "      <td>7.021070e+06</td>\n",
       "      <td>-73.977900</td>\n",
       "      <td>3.150000e+03</td>\n",
       "    </tr>\n",
       "    <tr>\n",
       "      <th>75%</th>\n",
       "      <td>1.00000</td>\n",
       "      <td>2.000000</td>\n",
       "      <td>40.774300</td>\n",
       "      <td>7.128733e+06</td>\n",
       "      <td>-73.954800</td>\n",
       "      <td>4.100000e+03</td>\n",
       "    </tr>\n",
       "    <tr>\n",
       "      <th>max</th>\n",
       "      <td>10.00000</td>\n",
       "      <td>8.000000</td>\n",
       "      <td>44.883500</td>\n",
       "      <td>7.753784e+06</td>\n",
       "      <td>0.000000</td>\n",
       "      <td>4.490000e+06</td>\n",
       "    </tr>\n",
       "  </tbody>\n",
       "</table>\n",
       "</div>"
      ],
      "text/plain": [
       "         bathrooms      bedrooms      latitude    listing_id     longitude  \\\n",
       "count  49352.00000  49352.000000  49352.000000  4.935200e+04  49352.000000   \n",
       "mean       1.21218      1.541640     40.741545  7.024055e+06    -73.955716   \n",
       "std        0.50142      1.115018      0.638535  1.262746e+05      1.177912   \n",
       "min        0.00000      0.000000      0.000000  6.811957e+06   -118.271000   \n",
       "25%        1.00000      1.000000     40.728300  6.915888e+06    -73.991700   \n",
       "50%        1.00000      1.000000     40.751800  7.021070e+06    -73.977900   \n",
       "75%        1.00000      2.000000     40.774300  7.128733e+06    -73.954800   \n",
       "max       10.00000      8.000000     44.883500  7.753784e+06      0.000000   \n",
       "\n",
       "              price  \n",
       "count  4.935200e+04  \n",
       "mean   3.830174e+03  \n",
       "std    2.206687e+04  \n",
       "min    4.300000e+01  \n",
       "25%    2.500000e+03  \n",
       "50%    3.150000e+03  \n",
       "75%    4.100000e+03  \n",
       "max    4.490000e+06  "
      ]
     },
     "execution_count": 164,
     "metadata": {},
     "output_type": "execute_result"
    }
   ],
   "source": [
    "# Describe gives statistical information about numerical columns in the dataset\n",
    "train.describe()"
   ]
  },
  {
   "cell_type": "markdown",
   "metadata": {},
   "source": [
    "There is max of bathrooms is 10 and the max of bedrooms is 8. \n",
    "The min of bathrooms and bedrooms are 0. \n",
    "Min of latitude is 0 and max is 44.88. Latitude is mostly around 40.7. \n",
    "Min of longitude is -118.27 and max is 0. \n",
    "Most of longitude is around -73.9. Min of prince is 43 and max is 4.49MM. \n",
    "It is very likely latitude, longitude and price has ourliers."
   ]
  },
  {
   "cell_type": "code",
   "execution_count": 165,
   "metadata": {
    "ExecuteTime": {
     "end_time": "2018-05-25T02:50:08.472237Z",
     "start_time": "2018-05-25T02:50:08.457197Z"
    }
   },
   "outputs": [
    {
     "data": {
      "text/plain": [
       "low       34284\n",
       "medium    11229\n",
       "high       3839\n",
       "Name: interest_level, dtype: int64"
      ]
     },
     "execution_count": 165,
     "metadata": {},
     "output_type": "execute_result"
    }
   ],
   "source": [
    "# distribution of interest_level\n",
    "train.interest_level.value_counts(dropna = False)"
   ]
  },
  {
   "cell_type": "markdown",
   "metadata": {},
   "source": [
    "The response variable interest_level is character with 3 levels, there is no missing value."
   ]
  },
  {
   "cell_type": "markdown",
   "metadata": {},
   "source": [
    "The 1st and 99th percentile of latitude is 40.6404 and 40.862047. So it is reasonable of thinking 0 and 44.8835 as ourliers. We will floor and cap latitude by its 1st and 99th percentile."
   ]
  },
  {
   "cell_type": "code",
   "execution_count": 167,
   "metadata": {
    "ExecuteTime": {
     "end_time": "2018-05-25T02:51:23.657153Z",
     "start_time": "2018-05-25T02:51:23.447227Z"
    }
   },
   "outputs": [
    {
     "name": "stdout",
     "output_type": "stream",
     "text": [
      "[40.6404, 40.86197203]\n"
     ]
    },
    {
     "data": {
      "image/png": "[encoded data removed]",
      "text/plain": [
       "<matplotlib.figure.Figure at 0x1fc379a3198>"
      ]
     },
     "metadata": {},
     "output_type": "display_data"
    }
   ],
   "source": [
    "lat_pct = np.percentile(train.latitude, [1, 99]).tolist()\n",
    "print(lat_pct)\n",
    "\n",
    "train['latitude'] = np.where(train['latitude'] < lat_pct[0], lat_pct[0], \n",
    "                             np.where(train['latitude'] > lat_pct[1], lat_pct[1], train['latitude']))\n",
    "\n",
    "train['latitude'].hist(bins = 50)\n",
    "plt.title(\"Number of listings Vs latitude\");\n",
    "plt.ylabel(\"Number of listings\")\n",
    "plt.xlabel(\"latitude\");"
   ]
  },
  {
   "cell_type": "markdown",
   "metadata": {
    "ExecuteTime": {
     "end_time": "2018-05-25T00:54:53.757790Z",
     "start_time": "2018-05-25T00:54:53.753011Z"
    }
   },
   "source": [
    "The 1st and 99th percentile of longitude is -74.0162 and -73.852651. So we will also floor and cap at these two numbers."
   ]
  },
  {
   "cell_type": "code",
   "execution_count": 168,
   "metadata": {
    "ExecuteTime": {
     "end_time": "2018-05-25T02:51:50.873531Z",
     "start_time": "2018-05-25T02:51:50.662598Z"
    }
   },
   "outputs": [
    {
     "name": "stdout",
     "output_type": "stream",
     "text": [
      "[-74.0162, -73.852651]\n"
     ]
    },
    {
     "data": {
      "image/png": "[encoded data removed]",
      "text/plain": [
       "<matplotlib.figure.Figure at 0x1fc37957358>"
      ]
     },
     "metadata": {},
     "output_type": "display_data"
    }
   ],
   "source": [
    "long_pct = np.percentile(train.longitude, [1, 99]).tolist()\n",
    "print(long_pct)\n",
    "\n",
    "train['longitude'] = np.where(train['longitude'] < long_pct[0], long_pct[0], \n",
    "                             np.where(train['longitude'] > long_pct[1], long_pct[1], train['longitude']))\n",
    "train['longitude'].hist(bins = 50)\n",
    "plt.title(\"Number of listings Vs longitude\");\n",
    "plt.ylabel(\"Number of listings\")\n",
    "plt.xlabel(\"longitude\");"
   ]
  },
  {
   "cell_type": "code",
   "execution_count": null,
   "metadata": {
    "ExecuteTime": {
     "end_time": "2018-05-25T02:10:09.833350Z",
     "start_time": "2018-05-25T02:10:06.900551Z"
    }
   },
   "outputs": [],
   "source": [
    "# Latitude and Longitude using Google Earth\n",
    "# Ref: https://www.kaggle.com/justindeed/google-earth-exploration\n",
    "\n",
    "import json\n",
    "import gpxpy as gpx\n",
    "import gpxpy.gpx\n",
    "\n",
    "gpx = gpxpy.gpx.GPX()\n",
    "\n",
    "for index, row in train.iterrows():\n",
    "    #print(row['latitude'], row['longitude'])\n",
    "    if row['interest_level'] == 'high': #opting for all nominals results in poor performance of Google Earth\n",
    "            gps_waypoint = gpxpy.gpx.GPXWaypoint(row['latitude'],row['longitude'],elevation=10)\n",
    "            gpx.waypoints.append(gps_waypoint)\n",
    "        \n",
    "filename = \"GoogleEarth.gpx\"\n",
    "FILE = open(filename,\"w\")\n",
    "FILE.writelines(gpx.to_xml())\n",
    "FILE.close()\n",
    "print ('Created GPX:')\n",
    "\n",
    "# Install google earth desktop \n",
    "# Open google earth pro \n",
    "# drag n drop generated gpx file on google earth window\n"
   ]
  },
  {
   "cell_type": "markdown",
   "metadata": {},
   "source": [
    "<img src='../Two Sigma/Mapped_Geo_Cordinates.jpg'>"
   ]
  },
  {
   "cell_type": "code",
   "execution_count": 170,
   "metadata": {
    "ExecuteTime": {
     "end_time": "2018-05-25T02:53:15.796223Z",
     "start_time": "2018-05-25T02:53:15.708952Z"
    }
   },
   "outputs": [
    {
     "data": {
      "image/png": "[encoded data removed]",
      "text/plain": [
       "<matplotlib.figure.Figure at 0x1fc379a8898>"
      ]
     },
     "metadata": {},
     "output_type": "display_data"
    }
   ],
   "source": [
    "#target variable\n",
    "labels = [\"low\",\"medium\",\"high\"]\n",
    "piesizes = train.interest_level.value_counts().values\n",
    "explode=[0.1,0,0]\n",
    "colors = ['lightblue','pink','yellow']\n",
    "patches,texts,autotexts= plt.pie(piesizes, labels=labels,colors=colors,explode=explode,autopct=\"%1.1f%%\", startangle=90)\n",
    "plt.title(\"Interest Level\")\n",
    "plt.show()"
   ]
  },
  {
   "cell_type": "markdown",
   "metadata": {},
   "source": [
    "Very few listings are with high interest."
   ]
  },
  {
   "cell_type": "code",
   "execution_count": 171,
   "metadata": {
    "ExecuteTime": {
     "end_time": "2018-05-25T02:53:23.976954Z",
     "start_time": "2018-05-25T02:53:23.453524Z"
    }
   },
   "outputs": [
    {
     "data": {
      "image/png": "[encoded data removed]",
      "text/plain": [
       "<matplotlib.figure.Figure at 0x1fc379c6748>"
      ]
     },
     "metadata": {},
     "output_type": "display_data"
    }
   ],
   "source": [
    "plt.figure(figsize=(7, 9))\n",
    "plt.scatter(range(train.shape[0]), train[\"price\"].values,color='cyan')\n",
    "plt.title(\"Distribution of Price\");"
   ]
  },
  {
   "cell_type": "markdown",
   "metadata": {},
   "source": [
    "Looks like there are some outliers in price column. lets remove them first."
   ]
  },
  {
   "cell_type": "code",
   "execution_count": 173,
   "metadata": {
    "ExecuteTime": {
     "end_time": "2018-05-25T02:56:19.911492Z",
     "start_time": "2018-05-25T02:56:19.701932Z"
    }
   },
   "outputs": [
    {
     "name": "stdout",
     "output_type": "stream",
     "text": [
      "[1475.0, 1800.0, 6895.0, 13000.0]\n"
     ]
    },
    {
     "data": {
      "image/png": "[encoded data removed]",
      "text/plain": [
       "<matplotlib.figure.Figure at 0x1fc377b2908>"
      ]
     },
     "metadata": {},
     "output_type": "display_data"
    }
   ],
   "source": [
    "price_pct = np.percentile(train.price, [1, 5, 95, 99]).tolist()\n",
    "print(price_pct)\n",
    "\n",
    "train['price'] = np.where(train['price'] < 500, 500, np.where(train['price'] > 20000, 20000, train['price']))\n",
    "\n",
    "train.price.hist(bins = 50)\n",
    "plt.title(\"Price Vs Number of listings\");\n",
    "plt.xlabel(\"Price\")\n",
    "plt.ylabel(\"Number of listings\");"
   ]
  },
  {
   "cell_type": "markdown",
   "metadata": {},
   "source": [
    "The 1st and 99th percentile of price is 1475 and 13000. To be reasonable, we can floor and cap at 500 to 20000 for price."
   ]
  },
  {
   "cell_type": "code",
   "execution_count": 174,
   "metadata": {
    "ExecuteTime": {
     "end_time": "2018-05-25T02:57:36.276739Z",
     "start_time": "2018-05-25T02:57:35.309133Z"
    }
   },
   "outputs": [
    {
     "data": {
      "image/png": "[encoded data removed]",
      "text/plain": [
       "<matplotlib.figure.Figure at 0x1fc377b0588>"
      ]
     },
     "metadata": {},
     "output_type": "display_data"
    }
   ],
   "source": [
    "order = ['low', 'medium', 'high']\n",
    "sns.stripplot(train[\"interest_level\"],train[\"price\"],jitter=True,order=order)\n",
    "plt.title(\"Price Vs Interest_level\");"
   ]
  },
  {
   "cell_type": "code",
   "execution_count": 175,
   "metadata": {
    "ExecuteTime": {
     "end_time": "2018-05-25T02:57:39.621038Z",
     "start_time": "2018-05-25T02:57:39.470638Z"
    }
   },
   "outputs": [
    {
     "data": {
      "image/png": "[encoded data removed]",
      "text/plain": [
       "<matplotlib.figure.Figure at 0x1fc37869518>"
      ]
     },
     "metadata": {},
     "output_type": "display_data"
    }
   ],
   "source": [
    "train[\"bedrooms\"].value_counts().plot(kind='bar',color='lightblue')\n",
    "plt.ylabel(\"Number of Occurences\")\n",
    "plt.xlabel(\"Number of Bedrooms\");"
   ]
  },
  {
   "cell_type": "code",
   "execution_count": 176,
   "metadata": {
    "ExecuteTime": {
     "end_time": "2018-05-25T02:57:44.845576Z",
     "start_time": "2018-05-25T02:57:43.909049Z"
    }
   },
   "outputs": [
    {
     "data": {
      "image/png": "[encoded data removed]",
      "text/plain": [
       "<matplotlib.figure.Figure at 0x1fc378cce48>"
      ]
     },
     "metadata": {},
     "output_type": "display_data"
    }
   ],
   "source": [
    "sns.stripplot(y=\"bedrooms\", x=\"interest_level\",data=train,jitter=True,order=order);"
   ]
  },
  {
   "cell_type": "code",
   "execution_count": 177,
   "metadata": {
    "ExecuteTime": {
     "end_time": "2018-05-25T02:57:49.040366Z",
     "start_time": "2018-05-25T02:57:48.053743Z"
    }
   },
   "outputs": [
    {
     "data": {
      "image/png": "[encoded data removed]",
      "text/plain": [
       "<matplotlib.figure.Figure at 0x1fc3796c6d8>"
      ]
     },
     "metadata": {},
     "output_type": "display_data"
    }
   ],
   "source": [
    "sns.stripplot(x=\"bedrooms\", y=\"price\",data=train,jitter=True);"
   ]
  },
  {
   "cell_type": "code",
   "execution_count": 178,
   "metadata": {
    "ExecuteTime": {
     "end_time": "2018-05-25T02:57:52.297773Z",
     "start_time": "2018-05-25T02:57:51.221913Z"
    }
   },
   "outputs": [
    {
     "data": {
      "image/png": "[encoded data removed]",
      "text/plain": [
       "<matplotlib.figure.Figure at 0x1fc30d1b748>"
      ]
     },
     "metadata": {},
     "output_type": "display_data"
    }
   ],
   "source": [
    "sns.stripplot(x=\"bathrooms\", y=\"price\",data=train, alpha=.5,jitter=True);"
   ]
  },
  {
   "cell_type": "code",
   "execution_count": 179,
   "metadata": {
    "ExecuteTime": {
     "end_time": "2018-05-25T02:57:54.768664Z",
     "start_time": "2018-05-25T02:57:53.856238Z"
    }
   },
   "outputs": [
    {
     "data": {
      "image/png": "[encoded data removed]",
      "text/plain": [
       "<matplotlib.figure.Figure at 0x1fc40b1d940>"
      ]
     },
     "metadata": {},
     "output_type": "display_data"
    }
   ],
   "source": [
    "sns.stripplot(y=\"bathrooms\", x=\"interest_level\",data=train,jitter=True,order=order);"
   ]
  },
  {
   "cell_type": "markdown",
   "metadata": {},
   "source": [
    "There is 1 house listing with 10 bathrooms. I think we can treat that as outlier. Lets remove it and plot again."
   ]
  },
  {
   "cell_type": "code",
   "execution_count": 180,
   "metadata": {
    "ExecuteTime": {
     "end_time": "2018-05-25T02:57:59.028752Z",
     "start_time": "2018-05-25T02:57:58.790087Z"
    }
   },
   "outputs": [
    {
     "data": {
      "image/png": "[encoded data removed]",
      "text/plain": [
       "<matplotlib.figure.Figure at 0x1fc40a39b00>"
      ]
     },
     "metadata": {},
     "output_type": "display_data"
    }
   ],
   "source": [
    "plt.figure(figsize=(12, 9))\n",
    "ax = sns.countplot(x='bedrooms', hue='interest_level', data=train)\n",
    "plt.ylabel('Interest_level frequency', fontsize=12)\n",
    "plt.xlabel('bedrooms', fontsize=12)\n",
    "plt.show()"
   ]
  },
  {
   "cell_type": "markdown",
   "metadata": {},
   "source": [
    "For each number of bedrooms(0, 1, 2...) we can count how many times high/low/medium occurs. From the graph below, the 1 bedroom occurs most, next by two bedrooms, and then 0 bedrooms."
   ]
  },
  {
   "cell_type": "markdown",
   "metadata": {
    "ExecuteTime": {
     "end_time": "2018-05-25T02:08:15.771984Z",
     "start_time": "2018-05-25T02:08:15.767973Z"
    }
   },
   "source": [
    "#### thigs to add\n",
    "Number of features to inetest level; \n",
    "Word Cloud "
   ]
  },
  {
   "cell_type": "code",
   "execution_count": null,
   "metadata": {},
   "outputs": [],
   "source": []
  }
 ],
 "metadata": {
  "kernelspec": {
   "display_name": "Python 3",
   "language": "python",
   "name": "python3"
  },
  "language_info": {
   "codemirror_mode": {
    "name": "ipython",
    "version": 3
   },
   "file_extension": ".py",
   "mimetype": "text/x-python",
   "name": "python",
   "nbconvert_exporter": "python",
   "pygments_lexer": "ipython3",
   "version": "3.6.4"
  }
 },
 "nbformat": 4,
 "nbformat_minor": 2
}
