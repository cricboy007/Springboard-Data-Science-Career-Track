{
 "cells": [
  {
   "cell_type": "code",
   "execution_count": 1,
   "metadata": {
    "ExecuteTime": {
     "end_time": "2018-11-08T15:14:48.745241Z",
     "start_time": "2018-11-08T15:14:39.961297Z"
    }
   },
   "outputs": [],
   "source": [
    "import pandas as pd\n",
    "import re\n",
    "import nltk\n",
    "dataset = pd.read_csv('Consumer_Complaints.csv', encoding='ISO-8859-1');"
   ]
  },
  {
   "cell_type": "code",
   "execution_count": 2,
   "metadata": {
    "ExecuteTime": {
     "end_time": "2018-11-08T15:14:48.853768Z",
     "start_time": "2018-11-08T15:14:48.819132Z"
    }
   },
   "outputs": [
    {
     "data": {
      "text/html": [
       "<div>\n",
       "<style scoped>\n",
       "    .dataframe tbody tr th:only-of-type {\n",
       "        vertical-align: middle;\n",
       "    }\n",
       "\n",
       "    .dataframe tbody tr th {\n",
       "        vertical-align: top;\n",
       "    }\n",
       "\n",
       "    .dataframe thead th {\n",
       "        text-align: right;\n",
       "    }\n",
       "</style>\n",
       "<table border=\"1\" class=\"dataframe\">\n",
       "  <thead>\n",
       "    <tr style=\"text-align: right;\">\n",
       "      <th></th>\n",
       "      <th>Date received</th>\n",
       "      <th>Product</th>\n",
       "      <th>Sub-product</th>\n",
       "      <th>Issue</th>\n",
       "      <th>Sub-issue</th>\n",
       "      <th>Consumer complaint narrative</th>\n",
       "      <th>Company public response</th>\n",
       "      <th>Company</th>\n",
       "      <th>State</th>\n",
       "      <th>ZIP code</th>\n",
       "      <th>Tags</th>\n",
       "      <th>Consumer consent provided?</th>\n",
       "      <th>Submitted via</th>\n",
       "      <th>Date sent to company</th>\n",
       "      <th>Company response to consumer</th>\n",
       "      <th>Timely response?</th>\n",
       "      <th>Consumer disputed?</th>\n",
       "      <th>Complaint ID</th>\n",
       "    </tr>\n",
       "  </thead>\n",
       "  <tbody>\n",
       "    <tr>\n",
       "      <th>0</th>\n",
       "      <td>03/12/2014</td>\n",
       "      <td>Mortgage</td>\n",
       "      <td>Other mortgage</td>\n",
       "      <td>Loan modification,collection,foreclosure</td>\n",
       "      <td>NaN</td>\n",
       "      <td>NaN</td>\n",
       "      <td>NaN</td>\n",
       "      <td>M&amp;T BANK CORPORATION</td>\n",
       "      <td>MI</td>\n",
       "      <td>48382</td>\n",
       "      <td>NaN</td>\n",
       "      <td>NaN</td>\n",
       "      <td>Referral</td>\n",
       "      <td>03/17/2014</td>\n",
       "      <td>Closed with explanation</td>\n",
       "      <td>Yes</td>\n",
       "      <td>No</td>\n",
       "      <td>759217</td>\n",
       "    </tr>\n",
       "    <tr>\n",
       "      <th>1</th>\n",
       "      <td>01/19/2017</td>\n",
       "      <td>Student loan</td>\n",
       "      <td>Federal student loan servicing</td>\n",
       "      <td>Dealing with my lender or servicer</td>\n",
       "      <td>Received bad information about my loan</td>\n",
       "      <td>When my loan was switched over to Navient i wa...</td>\n",
       "      <td>NaN</td>\n",
       "      <td>Navient Solutions, LLC.</td>\n",
       "      <td>LA</td>\n",
       "      <td>NaN</td>\n",
       "      <td>NaN</td>\n",
       "      <td>Consent provided</td>\n",
       "      <td>Web</td>\n",
       "      <td>01/19/2017</td>\n",
       "      <td>Closed with explanation</td>\n",
       "      <td>Yes</td>\n",
       "      <td>No</td>\n",
       "      <td>2296496</td>\n",
       "    </tr>\n",
       "    <tr>\n",
       "      <th>2</th>\n",
       "      <td>04/06/2018</td>\n",
       "      <td>Credit card or prepaid card</td>\n",
       "      <td>General-purpose credit card or charge card</td>\n",
       "      <td>Other features, terms, or problems</td>\n",
       "      <td>Other problem</td>\n",
       "      <td>I tried to sign up for a spending monitoring p...</td>\n",
       "      <td>NaN</td>\n",
       "      <td>CAPITAL ONE FINANCIAL CORPORATION</td>\n",
       "      <td>VA</td>\n",
       "      <td>NaN</td>\n",
       "      <td>Older American</td>\n",
       "      <td>Consent provided</td>\n",
       "      <td>Web</td>\n",
       "      <td>04/06/2018</td>\n",
       "      <td>Closed with explanation</td>\n",
       "      <td>Yes</td>\n",
       "      <td>NaN</td>\n",
       "      <td>2866101</td>\n",
       "    </tr>\n",
       "    <tr>\n",
       "      <th>3</th>\n",
       "      <td>06/08/2014</td>\n",
       "      <td>Credit card</td>\n",
       "      <td>NaN</td>\n",
       "      <td>Bankruptcy</td>\n",
       "      <td>NaN</td>\n",
       "      <td>NaN</td>\n",
       "      <td>NaN</td>\n",
       "      <td>AMERICAN EXPRESS COMPANY</td>\n",
       "      <td>ID</td>\n",
       "      <td>83854</td>\n",
       "      <td>Older American</td>\n",
       "      <td>NaN</td>\n",
       "      <td>Web</td>\n",
       "      <td>06/10/2014</td>\n",
       "      <td>Closed with explanation</td>\n",
       "      <td>Yes</td>\n",
       "      <td>Yes</td>\n",
       "      <td>885638</td>\n",
       "    </tr>\n",
       "    <tr>\n",
       "      <th>4</th>\n",
       "      <td>09/13/2014</td>\n",
       "      <td>Debt collection</td>\n",
       "      <td>Credit card</td>\n",
       "      <td>Communication tactics</td>\n",
       "      <td>Frequent or repeated calls</td>\n",
       "      <td>NaN</td>\n",
       "      <td>NaN</td>\n",
       "      <td>CITIBANK, N.A.</td>\n",
       "      <td>VA</td>\n",
       "      <td>23233</td>\n",
       "      <td>NaN</td>\n",
       "      <td>NaN</td>\n",
       "      <td>Web</td>\n",
       "      <td>09/13/2014</td>\n",
       "      <td>Closed with explanation</td>\n",
       "      <td>Yes</td>\n",
       "      <td>Yes</td>\n",
       "      <td>1027760</td>\n",
       "    </tr>\n",
       "  </tbody>\n",
       "</table>\n",
       "</div>"
      ],
      "text/plain": [
       "  Date received                      Product  \\\n",
       "0    03/12/2014                     Mortgage   \n",
       "1    01/19/2017                 Student loan   \n",
       "2    04/06/2018  Credit card or prepaid card   \n",
       "3    06/08/2014                  Credit card   \n",
       "4    09/13/2014              Debt collection   \n",
       "\n",
       "                                  Sub-product  \\\n",
       "0                              Other mortgage   \n",
       "1              Federal student loan servicing   \n",
       "2  General-purpose credit card or charge card   \n",
       "3                                         NaN   \n",
       "4                                 Credit card   \n",
       "\n",
       "                                      Issue  \\\n",
       "0  Loan modification,collection,foreclosure   \n",
       "1        Dealing with my lender or servicer   \n",
       "2        Other features, terms, or problems   \n",
       "3                                Bankruptcy   \n",
       "4                     Communication tactics   \n",
       "\n",
       "                                Sub-issue  \\\n",
       "0                                     NaN   \n",
       "1  Received bad information about my loan   \n",
       "2                           Other problem   \n",
       "3                                     NaN   \n",
       "4              Frequent or repeated calls   \n",
       "\n",
       "                        Consumer complaint narrative Company public response  \\\n",
       "0                                                NaN                     NaN   \n",
       "1  When my loan was switched over to Navient i wa...                     NaN   \n",
       "2  I tried to sign up for a spending monitoring p...                     NaN   \n",
       "3                                                NaN                     NaN   \n",
       "4                                                NaN                     NaN   \n",
       "\n",
       "                             Company State ZIP code            Tags  \\\n",
       "0               M&T BANK CORPORATION    MI    48382             NaN   \n",
       "1            Navient Solutions, LLC.    LA      NaN             NaN   \n",
       "2  CAPITAL ONE FINANCIAL CORPORATION    VA      NaN  Older American   \n",
       "3           AMERICAN EXPRESS COMPANY    ID    83854  Older American   \n",
       "4                     CITIBANK, N.A.    VA    23233             NaN   \n",
       "\n",
       "  Consumer consent provided? Submitted via Date sent to company  \\\n",
       "0                        NaN      Referral           03/17/2014   \n",
       "1           Consent provided           Web           01/19/2017   \n",
       "2           Consent provided           Web           04/06/2018   \n",
       "3                        NaN           Web           06/10/2014   \n",
       "4                        NaN           Web           09/13/2014   \n",
       "\n",
       "  Company response to consumer Timely response? Consumer disputed?  \\\n",
       "0      Closed with explanation              Yes                 No   \n",
       "1      Closed with explanation              Yes                 No   \n",
       "2      Closed with explanation              Yes                NaN   \n",
       "3      Closed with explanation              Yes                Yes   \n",
       "4      Closed with explanation              Yes                Yes   \n",
       "\n",
       "   Complaint ID  \n",
       "0        759217  \n",
       "1       2296496  \n",
       "2       2866101  \n",
       "3        885638  \n",
       "4       1027760  "
      ]
     },
     "execution_count": 2,
     "metadata": {},
     "output_type": "execute_result"
    }
   ],
   "source": [
    "dataset.head()"
   ]
  },
  {
   "cell_type": "code",
   "execution_count": 3,
   "metadata": {
    "ExecuteTime": {
     "end_time": "2018-11-08T15:14:53.384612Z",
     "start_time": "2018-11-08T15:14:53.106614Z"
    }
   },
   "outputs": [
    {
     "data": {
      "text/html": [
       "<div>\n",
       "<style scoped>\n",
       "    .dataframe tbody tr th:only-of-type {\n",
       "        vertical-align: middle;\n",
       "    }\n",
       "\n",
       "    .dataframe tbody tr th {\n",
       "        vertical-align: top;\n",
       "    }\n",
       "\n",
       "    .dataframe thead th {\n",
       "        text-align: right;\n",
       "    }\n",
       "</style>\n",
       "<table border=\"1\" class=\"dataframe\">\n",
       "  <thead>\n",
       "    <tr style=\"text-align: right;\">\n",
       "      <th></th>\n",
       "      <th>Date received</th>\n",
       "      <th>Product</th>\n",
       "      <th>Sub-product</th>\n",
       "      <th>Issue</th>\n",
       "      <th>Sub-issue</th>\n",
       "      <th>Consumer complaint narrative</th>\n",
       "      <th>Company public response</th>\n",
       "      <th>Company</th>\n",
       "      <th>State</th>\n",
       "      <th>ZIP code</th>\n",
       "      <th>Tags</th>\n",
       "      <th>Consumer consent provided?</th>\n",
       "      <th>Submitted via</th>\n",
       "      <th>Date sent to company</th>\n",
       "      <th>Company response to consumer</th>\n",
       "      <th>Timely response?</th>\n",
       "      <th>Consumer disputed?</th>\n",
       "      <th>Complaint ID</th>\n",
       "      <th>category_id</th>\n",
       "    </tr>\n",
       "  </thead>\n",
       "  <tbody>\n",
       "    <tr>\n",
       "      <th>0</th>\n",
       "      <td>03/12/2014</td>\n",
       "      <td>Mortgage</td>\n",
       "      <td>Other mortgage</td>\n",
       "      <td>Loan modification,collection,foreclosure</td>\n",
       "      <td>NaN</td>\n",
       "      <td>NaN</td>\n",
       "      <td>NaN</td>\n",
       "      <td>M&amp;T BANK CORPORATION</td>\n",
       "      <td>MI</td>\n",
       "      <td>48382</td>\n",
       "      <td>NaN</td>\n",
       "      <td>NaN</td>\n",
       "      <td>Referral</td>\n",
       "      <td>03/17/2014</td>\n",
       "      <td>Closed with explanation</td>\n",
       "      <td>Yes</td>\n",
       "      <td>No</td>\n",
       "      <td>759217</td>\n",
       "      <td>0</td>\n",
       "    </tr>\n",
       "    <tr>\n",
       "      <th>1</th>\n",
       "      <td>01/19/2017</td>\n",
       "      <td>Student loan</td>\n",
       "      <td>Federal student loan servicing</td>\n",
       "      <td>Dealing with my lender or servicer</td>\n",
       "      <td>Received bad information about my loan</td>\n",
       "      <td>When my loan was switched over to Navient i wa...</td>\n",
       "      <td>NaN</td>\n",
       "      <td>Navient Solutions, LLC.</td>\n",
       "      <td>LA</td>\n",
       "      <td>NaN</td>\n",
       "      <td>NaN</td>\n",
       "      <td>Consent provided</td>\n",
       "      <td>Web</td>\n",
       "      <td>01/19/2017</td>\n",
       "      <td>Closed with explanation</td>\n",
       "      <td>Yes</td>\n",
       "      <td>No</td>\n",
       "      <td>2296496</td>\n",
       "      <td>1</td>\n",
       "    </tr>\n",
       "    <tr>\n",
       "      <th>2</th>\n",
       "      <td>04/06/2018</td>\n",
       "      <td>Credit card or prepaid card</td>\n",
       "      <td>General-purpose credit card or charge card</td>\n",
       "      <td>Other features, terms, or problems</td>\n",
       "      <td>Other problem</td>\n",
       "      <td>I tried to sign up for a spending monitoring p...</td>\n",
       "      <td>NaN</td>\n",
       "      <td>CAPITAL ONE FINANCIAL CORPORATION</td>\n",
       "      <td>VA</td>\n",
       "      <td>NaN</td>\n",
       "      <td>Older American</td>\n",
       "      <td>Consent provided</td>\n",
       "      <td>Web</td>\n",
       "      <td>04/06/2018</td>\n",
       "      <td>Closed with explanation</td>\n",
       "      <td>Yes</td>\n",
       "      <td>NaN</td>\n",
       "      <td>2866101</td>\n",
       "      <td>2</td>\n",
       "    </tr>\n",
       "    <tr>\n",
       "      <th>3</th>\n",
       "      <td>06/08/2014</td>\n",
       "      <td>Credit card</td>\n",
       "      <td>NaN</td>\n",
       "      <td>Bankruptcy</td>\n",
       "      <td>NaN</td>\n",
       "      <td>NaN</td>\n",
       "      <td>NaN</td>\n",
       "      <td>AMERICAN EXPRESS COMPANY</td>\n",
       "      <td>ID</td>\n",
       "      <td>83854</td>\n",
       "      <td>Older American</td>\n",
       "      <td>NaN</td>\n",
       "      <td>Web</td>\n",
       "      <td>06/10/2014</td>\n",
       "      <td>Closed with explanation</td>\n",
       "      <td>Yes</td>\n",
       "      <td>Yes</td>\n",
       "      <td>885638</td>\n",
       "      <td>3</td>\n",
       "    </tr>\n",
       "    <tr>\n",
       "      <th>4</th>\n",
       "      <td>09/13/2014</td>\n",
       "      <td>Debt collection</td>\n",
       "      <td>Credit card</td>\n",
       "      <td>Communication tactics</td>\n",
       "      <td>Frequent or repeated calls</td>\n",
       "      <td>NaN</td>\n",
       "      <td>NaN</td>\n",
       "      <td>CITIBANK, N.A.</td>\n",
       "      <td>VA</td>\n",
       "      <td>23233</td>\n",
       "      <td>NaN</td>\n",
       "      <td>NaN</td>\n",
       "      <td>Web</td>\n",
       "      <td>09/13/2014</td>\n",
       "      <td>Closed with explanation</td>\n",
       "      <td>Yes</td>\n",
       "      <td>Yes</td>\n",
       "      <td>1027760</td>\n",
       "      <td>4</td>\n",
       "    </tr>\n",
       "  </tbody>\n",
       "</table>\n",
       "</div>"
      ],
      "text/plain": [
       "  Date received                      Product  \\\n",
       "0    03/12/2014                     Mortgage   \n",
       "1    01/19/2017                 Student loan   \n",
       "2    04/06/2018  Credit card or prepaid card   \n",
       "3    06/08/2014                  Credit card   \n",
       "4    09/13/2014              Debt collection   \n",
       "\n",
       "                                  Sub-product  \\\n",
       "0                              Other mortgage   \n",
       "1              Federal student loan servicing   \n",
       "2  General-purpose credit card or charge card   \n",
       "3                                         NaN   \n",
       "4                                 Credit card   \n",
       "\n",
       "                                      Issue  \\\n",
       "0  Loan modification,collection,foreclosure   \n",
       "1        Dealing with my lender or servicer   \n",
       "2        Other features, terms, or problems   \n",
       "3                                Bankruptcy   \n",
       "4                     Communication tactics   \n",
       "\n",
       "                                Sub-issue  \\\n",
       "0                                     NaN   \n",
       "1  Received bad information about my loan   \n",
       "2                           Other problem   \n",
       "3                                     NaN   \n",
       "4              Frequent or repeated calls   \n",
       "\n",
       "                        Consumer complaint narrative Company public response  \\\n",
       "0                                                NaN                     NaN   \n",
       "1  When my loan was switched over to Navient i wa...                     NaN   \n",
       "2  I tried to sign up for a spending monitoring p...                     NaN   \n",
       "3                                                NaN                     NaN   \n",
       "4                                                NaN                     NaN   \n",
       "\n",
       "                             Company State ZIP code            Tags  \\\n",
       "0               M&T BANK CORPORATION    MI    48382             NaN   \n",
       "1            Navient Solutions, LLC.    LA      NaN             NaN   \n",
       "2  CAPITAL ONE FINANCIAL CORPORATION    VA      NaN  Older American   \n",
       "3           AMERICAN EXPRESS COMPANY    ID    83854  Older American   \n",
       "4                     CITIBANK, N.A.    VA    23233             NaN   \n",
       "\n",
       "  Consumer consent provided? Submitted via Date sent to company  \\\n",
       "0                        NaN      Referral           03/17/2014   \n",
       "1           Consent provided           Web           01/19/2017   \n",
       "2           Consent provided           Web           04/06/2018   \n",
       "3                        NaN           Web           06/10/2014   \n",
       "4                        NaN           Web           09/13/2014   \n",
       "\n",
       "  Company response to consumer Timely response? Consumer disputed?  \\\n",
       "0      Closed with explanation              Yes                 No   \n",
       "1      Closed with explanation              Yes                 No   \n",
       "2      Closed with explanation              Yes                NaN   \n",
       "3      Closed with explanation              Yes                Yes   \n",
       "4      Closed with explanation              Yes                Yes   \n",
       "\n",
       "   Complaint ID  category_id  \n",
       "0        759217            0  \n",
       "1       2296496            1  \n",
       "2       2866101            2  \n",
       "3        885638            3  \n",
       "4       1027760            4  "
      ]
     },
     "execution_count": 3,
     "metadata": {},
     "output_type": "execute_result"
    }
   ],
   "source": [
    "dataset['category_id'] = pd.factorize(dataset['Product'])[0]\n",
    "category_id_dataset = dataset[['Product', 'category_id'\n",
    "                     ]].drop_duplicates().sort_values('category_id')\n",
    "category_to_id_dataset = dict(category_id_dataset.values)\n",
    "id_dataset_to_category = dict(category_id_dataset[['category_id', 'Product']].values)\n",
    "dataset.head()"
   ]
  },
  {
   "cell_type": "code",
   "execution_count": 4,
   "metadata": {
    "ExecuteTime": {
     "end_time": "2018-11-08T15:14:56.730470Z",
     "start_time": "2018-11-08T15:14:56.520868Z"
    }
   },
   "outputs": [],
   "source": [
    "dataset.dropna(subset=[\"Consumer complaint narrative\"], inplace = True)"
   ]
  },
  {
   "cell_type": "code",
   "execution_count": 5,
   "metadata": {
    "ExecuteTime": {
     "end_time": "2018-11-08T15:14:58.974650Z",
     "start_time": "2018-11-08T15:14:58.632578Z"
    }
   },
   "outputs": [
    {
     "name": "stdout",
     "output_type": "stream",
     "text": [
      "<class 'pandas.core.frame.DataFrame'>\n",
      "Int64Index: 335659 entries, 1 to 1152266\n",
      "Data columns (total 19 columns):\n",
      "Date received                   335659 non-null object\n",
      "Product                         335659 non-null object\n",
      "Sub-product                     283486 non-null object\n",
      "Issue                           335659 non-null object\n",
      "Sub-issue                       228534 non-null object\n",
      "Consumer complaint narrative    335659 non-null object\n",
      "Company public response         162153 non-null object\n",
      "Company                         335659 non-null object\n",
      "State                           334411 non-null object\n",
      "ZIP code                        264691 non-null object\n",
      "Tags                            57989 non-null object\n",
      "Consumer consent provided?      335659 non-null object\n",
      "Submitted via                   335659 non-null object\n",
      "Date sent to company            335659 non-null object\n",
      "Company response to consumer    335655 non-null object\n",
      "Timely response?                335659 non-null object\n",
      "Consumer disputed?              164088 non-null object\n",
      "Complaint ID                    335659 non-null int64\n",
      "category_id                     335659 non-null int64\n",
      "dtypes: int64(2), object(17)\n",
      "memory usage: 51.2+ MB\n"
     ]
    }
   ],
   "source": [
    "dataset.info()"
   ]
  },
  {
   "cell_type": "code",
   "execution_count": 6,
   "metadata": {
    "ExecuteTime": {
     "end_time": "2018-11-08T15:15:01.951526Z",
     "start_time": "2018-11-08T15:15:01.946512Z"
    }
   },
   "outputs": [
    {
     "data": {
      "text/plain": [
       "Index(['Date received', 'Product', 'Sub-product', 'Issue', 'Sub-issue',\n",
       "       'Consumer complaint narrative', 'Company public response', 'Company',\n",
       "       'State', 'ZIP code', 'Tags', 'Consumer consent provided?',\n",
       "       'Submitted via', 'Date sent to company', 'Company response to consumer',\n",
       "       'Timely response?', 'Consumer disputed?', 'Complaint ID',\n",
       "       'category_id'],\n",
       "      dtype='object')"
      ]
     },
     "execution_count": 6,
     "metadata": {},
     "output_type": "execute_result"
    }
   ],
   "source": [
    "dataset.columns"
   ]
  },
  {
   "cell_type": "code",
   "execution_count": 7,
   "metadata": {
    "ExecuteTime": {
     "end_time": "2018-11-08T15:15:06.086002Z",
     "start_time": "2018-11-08T15:15:05.472560Z"
    }
   },
   "outputs": [
    {
     "data": {
      "text/plain": [
       "<matplotlib.axes._subplots.AxesSubplot at 0x199aaac2748>"
      ]
     },
     "execution_count": 7,
     "metadata": {},
     "output_type": "execute_result"
    },
    {
     "data": {
      "image/png": "[encoded data removed]",
      "text/plain": [
       "<Figure size 1080x720 with 1 Axes>"
      ]
     },
     "metadata": {},
     "output_type": "display_data"
    },
    {
     "data": {
      "text/plain": [
       "Product\n",
       "Virtual currency                                                                   16\n",
       "Other financial service                                                           292\n",
       "Prepaid card                                                                     1450\n",
       "Money transfers                                                                  1497\n",
       "Payday loan                                                                      1747\n",
       "Payday loan, title loan, or personal loan                                        3335\n",
       "Vehicle loan or lease                                                            4380\n",
       "Money transfer, virtual currency, or money service                               4468\n",
       "Consumer Loan                                                                    9473\n",
       "Checking or savings account                                                      9826\n",
       "Bank account or service                                                         14885\n",
       "Credit card or prepaid card                                                     16489\n",
       "Credit card                                                                     18838\n",
       "Student loan                                                                    19385\n",
       "Credit reporting                                                                31588\n",
       "Mortgage                                                                        49047\n",
       "Credit reporting, credit repair services, or other personal consumer reports    72176\n",
       "Debt collection                                                                 76767\n",
       "Name: Consumer complaint narrative, dtype: int64"
      ]
     },
     "execution_count": 7,
     "metadata": {},
     "output_type": "execute_result"
    }
   ],
   "source": [
    "import matplotlib.pyplot as plt\n",
    "%matplotlib inline\n",
    "fig = plt.figure(figsize=(15,10))\n",
    "dataset.groupby('Product')[\"Consumer complaint narrative\"].count().plot.bar(ylim=0)\n",
    "plt.show()\n",
    "dataset.groupby('Product')[\"Consumer complaint narrative\"].count().sort_values()"
   ]
  },
  {
   "cell_type": "code",
   "execution_count": 8,
   "metadata": {
    "ExecuteTime": {
     "end_time": "2018-11-08T15:17:07.600540Z",
     "start_time": "2018-11-08T15:15:10.931581Z"
    }
   },
   "outputs": [
    {
     "data": {
      "text/plain": [
       "(335659, 655126)"
      ]
     },
     "execution_count": 8,
     "metadata": {},
     "output_type": "execute_result"
    }
   ],
   "source": [
    "from sklearn.feature_extraction.text import TfidfVectorizer\n",
    "\n",
    "matrix = TfidfVectorizer(sublinear_tf=True, min_df=5, norm='l2', encoding='latin-1', ngram_range=(1, 2), stop_words='english')\n",
    "\n",
    "X = matrix.fit_transform(dataset[\"Consumer complaint narrative\"])\n",
    "y = dataset[\"category_id\"]\n",
    "X.shape\n",
    "   "
   ]
  },
  {
   "cell_type": "code",
   "execution_count": 9,
   "metadata": {
    "ExecuteTime": {
     "end_time": "2018-11-08T14:03:40.927441Z",
     "start_time": "2018-11-08T14:02:22.236081Z"
    }
   },
   "outputs": [
    {
     "name": "stdout",
     "output_type": "stream",
     "text": [
      "# 'Bank account or service':\n",
      "  . Most correlated unigrams:\n",
      ". dir{nl}. angrily\n",
      "  . Most correlated bigrams:\n",
      ". hold week{nl}. live outside\n",
      "# 'Checking or savings account':\n",
      "  . Most correlated unigrams:\n",
      ". tablet{nl}. inexperience\n",
      "  . Most correlated bigrams:\n",
      ". xxxx duty{nl}. company advising\n",
      "# 'Consumer Loan':\n",
      "  . Most correlated unigrams:\n",
      ". wont{nl}. siding\n",
      "  . Most correlated bigrams:\n",
      ". requested taken{nl}. identity security\n",
      "# 'Credit card':\n",
      "  . Most correlated unigrams:\n",
      ". indicators{nl}. brick\n",
      "  . Most correlated bigrams:\n",
      ". finally refunded{nl}. playing catch\n",
      "# 'Credit card or prepaid card':\n",
      "  . Most correlated unigrams:\n",
      ". walkthrough{nl}. scotus\n",
      "  . Most correlated bigrams:\n",
      ". day absolutely{nl}. authorized initiated\n",
      "# 'Credit reporting':\n",
      "  . Most correlated unigrams:\n",
      ". aginst{nl}. alabama\n",
      "  . Most correlated bigrams:\n",
      ". far failed{nl}. credit borrow\n",
      "# 'Credit reporting, credit repair services, or other personal consumer reports':\n",
      "  . Most correlated unigrams:\n",
      ". unraveling{nl}. waas\n",
      "  . Most correlated bigrams:\n",
      ". things nature{nl}. certify xx\n",
      "# 'Debt collection':\n",
      "  . Most correlated unigrams:\n",
      ". vent{nl}. accountwith\n",
      "  . Most correlated bigrams:\n",
      ". processing billing{nl}. website enter\n",
      "# 'Money transfer, virtual currency, or money service':\n",
      "  . Most correlated unigrams:\n",
      ". arms{nl}. xxxxor\n",
      "  . Most correlated bigrams:\n",
      ". supervisor informed{nl}. pay claim\n",
      "# 'Money transfers':\n",
      "  . Most correlated unigrams:\n",
      ". inquiring{nl}. messing\n",
      "  . Most correlated bigrams:\n",
      ". xxxx regular{nl}. picked phone\n",
      "# 'Mortgage':\n",
      "  . Most correlated unigrams:\n",
      ". ttorney{nl}. efiled\n",
      "  . Most correlated bigrams:\n",
      ". way evident{nl}. services shows\n",
      "# 'Other financial service':\n",
      "  . Most correlated unigrams:\n",
      ". unwilling{nl}. fired\n",
      "  . Most correlated bigrams:\n",
      ". application xxxx{nl}. information accurate\n",
      "# 'Payday loan':\n",
      "  . Most correlated unigrams:\n",
      ". fine{nl}. links\n",
      "  . Most correlated bigrams:\n",
      ". using xxxx{nl}. current debt\n",
      "# 'Payday loan, title loan, or personal loan':\n",
      "  . Most correlated unigrams:\n",
      ". luck{nl}. charter\n",
      "  . Most correlated bigrams:\n",
      ". months statements{nl}. loan qualified\n",
      "# 'Prepaid card':\n",
      "  . Most correlated unigrams:\n",
      ". odd{nl}. businesses\n",
      "  . Most correlated bigrams:\n",
      ". school xx{nl}. press charges\n",
      "# 'Student loan':\n",
      "  . Most correlated unigrams:\n",
      ". seamless{nl}. fade\n",
      "  . Most correlated bigrams:\n",
      ". lender automatically{nl}. emailed contact\n",
      "# 'Vehicle loan or lease':\n",
      "  . Most correlated unigrams:\n",
      ". transferring{nl}. xxxxy\n",
      "  . Most correlated bigrams:\n",
      ". letter confirm{nl}. accrued account\n",
      "# 'Virtual currency':\n",
      "  . Most correlated unigrams:\n",
      ". tried{nl}. protection\n",
      "  . Most correlated bigrams:\n",
      ". shall obligations{nl}. silence acquiesence\n"
     ]
    }
   ],
   "source": [
    "from sklearn.feature_selection import chi2\n",
    "import numpy as np\n",
    "top_n = 2\n",
    "for Product, category_id in sorted(category_to_id_dataset.items()):\n",
    "    features_chi2 = chi2(X, y == category_id)\n",
    "    indices = np.argsort(features_chi2[0])\n",
    "    feature_names = np.array(matrix.get_feature_names())[indices]\n",
    "    unigrams = [feature for feature in feature_names if len(feature.split(' ')) == 1][:top_n]\n",
    "    bigrams = [feature for feature in feature_names if len(feature.split(' ')) == 2][:top_n]\n",
    "    nl = '\\n'\n",
    "    nl = chr(10)\n",
    "    print(f\"# '{Product}':\")\n",
    "    print(f\"  . Most correlated unigrams:{nl}. {'{nl}. '.join(unigrams)}\")\n",
    "    print(f\"  . Most correlated bigrams:{nl}. {'{nl}. '.join(bigrams)}\")"
   ]
  },
  {
   "cell_type": "code",
   "execution_count": 10,
   "metadata": {
    "ExecuteTime": {
     "end_time": "2018-11-08T14:24:13.351200Z",
     "start_time": "2018-11-08T14:03:40.929948Z"
    }
   },
   "outputs": [
    {
     "name": "stdout",
     "output_type": "stream",
     "text": [
      "                model_name  fold_id  accuracy\n",
      "0   RandomForestClassifier        0  0.282026\n",
      "1   RandomForestClassifier        1  0.288332\n",
      "2   RandomForestClassifier        2  0.283598\n",
      "3                LinearSVC        0  0.776539\n",
      "4                LinearSVC        1  0.781552\n",
      "5                LinearSVC        2  0.780408\n",
      "6            MultinomialNB        0  0.587833\n",
      "7            MultinomialNB        1  0.589445\n",
      "8            MultinomialNB        2  0.589337\n",
      "9       LogisticRegression        0  0.755983\n",
      "10      LogisticRegression        1  0.759834\n",
      "11      LogisticRegression        2  0.755854\n"
     ]
    }
   ],
   "source": [
    "from sklearn.linear_model import LogisticRegression\n",
    "from sklearn.ensemble import RandomForestClassifier\n",
    "from sklearn.naive_bayes import MultinomialNB\n",
    "from sklearn.svm import LinearSVC\n",
    "\n",
    "from sklearn.model_selection import cross_val_score\n",
    "\n",
    "models = [\n",
    "    RandomForestClassifier(n_estimators=100, max_depth=3, random_state=0),\n",
    "    LinearSVC(),\n",
    "    MultinomialNB(),\n",
    "    LogisticRegression(random_state=42),\n",
    "]\n",
    "\n",
    "number_of_folds = 3\n",
    "model_summary = pd.DataFrame(index=range(number_of_folds * len(models)))\n",
    "entries = []\n",
    "\n",
    "for model in models:\n",
    "    model_name = model.__class__.__name__\n",
    "    accuracies = cross_val_score(model, X, y, scoring='accuracy', cv=number_of_folds)\n",
    "    for fold_id, accuracy in enumerate(accuracies):\n",
    "        entries.append((model_name, fold_id, accuracy))\n",
    "model_summary = pd.DataFrame(entries, columns=['model_name', 'fold_id', 'accuracy'])\n",
    "print(model_summary)\n"
   ]
  },
  {
   "cell_type": "code",
   "execution_count": 11,
   "metadata": {
    "ExecuteTime": {
     "end_time": "2018-11-08T14:24:15.334537Z",
     "start_time": "2018-11-08T14:24:13.353206Z"
    }
   },
   "outputs": [
    {
     "data": {
      "text/plain": [
       "<matplotlib.axes._subplots.AxesSubplot at 0x242553b3390>"
      ]
     },
     "execution_count": 11,
     "metadata": {},
     "output_type": "execute_result"
    },
    {
     "data": {
      "text/plain": [
       "<matplotlib.axes._subplots.AxesSubplot at 0x242553b3390>"
      ]
     },
     "execution_count": 11,
     "metadata": {},
     "output_type": "execute_result"
    },
    {
     "data": {
      "image/png": "[encoded data removed]",
      "text/plain": [
       "<Figure size 432x288 with 1 Axes>"
      ]
     },
     "metadata": {},
     "output_type": "display_data"
    },
    {
     "data": {
      "text/plain": [
       "model_name\n",
       "LinearSVC                 0.779500\n",
       "LogisticRegression        0.757224\n",
       "MultinomialNB             0.588871\n",
       "RandomForestClassifier    0.284652\n",
       "Name: accuracy, dtype: float64"
      ]
     },
     "execution_count": 11,
     "metadata": {},
     "output_type": "execute_result"
    }
   ],
   "source": [
    "import seaborn as sns\n",
    "sns.boxplot(x='model_name', y='accuracy', data=model_summary)\n",
    "sns.stripplot(x='model_name', y='accuracy', data=model_summary, \n",
    "              size=15, jitter=True, edgecolor=\"black\", linewidth=2)\n",
    "plt.show()\n",
    "model_summary.groupby('model_name').accuracy.mean()"
   ]
  },
  {
   "cell_type": "code",
   "execution_count": 12,
   "metadata": {
    "ExecuteTime": {
     "end_time": "2018-11-08T14:24:15.340553Z",
     "start_time": "2018-11-08T14:24:15.336543Z"
    }
   },
   "outputs": [],
   "source": [
    "##########################################################################"
   ]
  },
  {
   "cell_type": "code",
   "execution_count": 13,
   "metadata": {
    "ExecuteTime": {
     "end_time": "2018-11-08T14:24:15.364617Z",
     "start_time": "2018-11-08T14:24:15.343562Z"
    }
   },
   "outputs": [],
   "source": [
    "# nltk.download('punkt')\n",
    "# from nltk.tokenize import word_tokenize as wt \n",
    "\n",
    "# nltk.download('stopwords')\n",
    "# from nltk.corpus import stopwords\n",
    "\n",
    "# from nltk.stem.porter import PorterStemmer\n",
    "# from nltk.stem.snowball import SnowballStemmer\n",
    "# stemmer = SnowballStemmer(\"english\")\n",
    "\n",
    "# #spell correction\n",
    "# from autocorrect import spell\n",
    "\n",
    "# data = []\n",
    "# dataset[\"ccn2\"] = dataset[\"Consumer complaint narrative\"].apply(\n",
    "#     lambda x: re.sub('[^A-Za-z]', ' ', x)).str.lower().apply(lambda x: wt(x))\n",
    "\n",
    "# dataset[\"ccn2\"][:10]\n",
    "# dataset[\"ccn5\"] = dataset[\"ccn2\"].apply(lambda x: \" \".join(x)) \n",
    "# data = dataset[\"ccn5\"].tolist()\n",
    "# dataset[\"ccn5\"][:10]\n",
    "\n",
    "# # creating the feature matrix \n",
    "# from sklearn.feature_extraction.text import CountVectorizer\n",
    "# matrix = CountVectorizer(min_df=5, encoding='latin-1', ngram_range=(1, 2), stop_words='english')\n",
    "# X = matrix.fit_transform(data)\n",
    "# y = dataset[\"category_id\"]\n",
    "\n",
    "# from sklearn.linear_model import LogisticRegression\n",
    "# from sklearn.ensemble import RandomForestClassifier\n",
    "# from sklearn.naive_bayes import MultinomialNB\n",
    "# from sklearn.svm import LinearSVC\n",
    "\n",
    "# from sklearn.model_selection import cross_val_score\n",
    "\n",
    "# models = [\n",
    "#     RandomForestClassifier(n_estimators=100, max_depth=3, random_state=0),\n",
    "#     LinearSVC(),\n",
    "#     MultinomialNB(),\n",
    "#     LogisticRegression(random_state=0),\n",
    "# ]\n",
    "\n",
    "# number_of_folds = 3\n",
    "# model_summary = pd.DataFrame(index=range(number_of_folds * len(models)))\n",
    "# entries = []\n",
    "\n",
    "# for model in models:\n",
    "#     model_name = model.__class__.__name__\n",
    "#     accuracies = cross_val_score(model, X, y, scoring='accuracy', cv=number_of_folds)\n",
    "#     for fold_id, accuracy in enumerate(accuracies):\n",
    "#         entries.append((model_name, fold_id, accuracy))\n",
    "# model_summary = pd.DataFrame(entries, columns=['model_name', 'fold_id', 'accuracy'])\n",
    "# print(model_summary)\n",
    "\n",
    "# import seaborn as sns\n",
    "# sns.boxplot(x='model_name', y='accuracy', data=model_summary)\n",
    "# sns.stripplot(x='model_name', y='accuracy', data=model_summary, \n",
    "#               size=8, jitter=True, edgecolor=\"black\", linewidth=2)\n",
    "# plt.show()"
   ]
  },
  {
   "cell_type": "code",
   "execution_count": 14,
   "metadata": {
    "ExecuteTime": {
     "end_time": "2018-11-08T14:24:15.383668Z",
     "start_time": "2018-11-08T14:24:15.366623Z"
    }
   },
   "outputs": [
    {
     "data": {
      "text/plain": [
       "model_name\n",
       "LinearSVC                 0.779500\n",
       "LogisticRegression        0.757224\n",
       "MultinomialNB             0.588871\n",
       "RandomForestClassifier    0.284652\n",
       "Name: accuracy, dtype: float64"
      ]
     },
     "execution_count": 14,
     "metadata": {},
     "output_type": "execute_result"
    }
   ],
   "source": [
    "model_summary.groupby('model_name').accuracy.mean()"
   ]
  },
  {
   "cell_type": "code",
   "execution_count": 15,
   "metadata": {
    "ExecuteTime": {
     "end_time": "2018-11-08T14:25:42.257438Z",
     "start_time": "2018-11-08T14:24:15.386676Z"
    }
   },
   "outputs": [
    {
     "data": {
      "text/plain": [
       "LinearSVC(C=1.0, class_weight=None, dual=True, fit_intercept=True,\n",
       "     intercept_scaling=1, loss='squared_hinge', max_iter=1000,\n",
       "     multi_class='ovr', penalty='l2', random_state=None, tol=0.0001,\n",
       "     verbose=0)"
      ]
     },
     "execution_count": 15,
     "metadata": {},
     "output_type": "execute_result"
    }
   ],
   "source": [
    "from sklearn.model_selection import train_test_split\n",
    "\n",
    "model = LinearSVC()\n",
    "\n",
    "X_train, X_test, y_train, y_test, indices_train, indices_test = train_test_split(X, y, dataset.index, test_size=0.20, random_state=42)\n",
    "model.fit(X_train, y_train)\n",
    "y_pred = model.predict(X_test)"
   ]
  },
  {
   "cell_type": "code",
   "execution_count": 16,
   "metadata": {
    "ExecuteTime": {
     "end_time": "2018-11-08T14:25:43.353126Z",
     "start_time": "2018-11-08T14:25:42.260266Z"
    }
   },
   "outputs": [
    {
     "data": {
      "text/plain": [
       "<matplotlib.axes._subplots.AxesSubplot at 0x2423b856668>"
      ]
     },
     "execution_count": 16,
     "metadata": {},
     "output_type": "execute_result"
    },
    {
     "data": {
      "text/plain": [
       "Text(114,0.5,'Actual')"
      ]
     },
     "execution_count": 16,
     "metadata": {},
     "output_type": "execute_result"
    },
    {
     "data": {
      "text/plain": [
       "Text(0.5,69,'Predicted')"
      ]
     },
     "execution_count": 16,
     "metadata": {},
     "output_type": "execute_result"
    },
    {
     "data": {
      "image/png": "[encoded data removed]",
      "text/plain": [
       "<Figure size 1080x720 with 2 Axes>"
      ]
     },
     "metadata": {},
     "output_type": "display_data"
    }
   ],
   "source": [
    "from sklearn.metrics import confusion_matrix\n",
    "\n",
    "conf_mat = confusion_matrix(y_test, y_pred)\n",
    "fig, ax = plt.subplots(figsize=(15,10))\n",
    "sns.heatmap(conf_mat, annot=True, fmt='d',\n",
    "            xticklabels=category_id_dataset.Product.values, yticklabels=category_id_dataset.Product.values)\n",
    "plt.ylabel('Actual')\n",
    "plt.xlabel('Predicted')\n",
    "plt.show()"
   ]
  },
  {
   "cell_type": "code",
   "execution_count": 17,
   "metadata": {
    "ExecuteTime": {
     "end_time": "2018-11-08T14:25:43.419303Z",
     "start_time": "2018-11-08T14:25:43.355132Z"
    }
   },
   "outputs": [
    {
     "name": "stdout",
     "output_type": "stream",
     "text": [
      "                                                                              precision    recall  f1-score   support\n",
      "\n",
      "                                                                Student loan       0.92      0.96      0.94      9839\n",
      "                                                 Credit card or prepaid card       0.89      0.89      0.89      3807\n",
      "                                                                    Mortgage       0.62      0.57      0.59      3348\n",
      "                                                            Credit reporting       0.64      0.65      0.65      3846\n",
      "Credit reporting, credit repair services, or other personal consumer reports       0.82      0.89      0.85     15195\n",
      "                                                             Debt collection       0.76      0.68      0.72      6383\n",
      "                                                       Vehicle loan or lease       0.80      0.85      0.83     14427\n",
      "                          Money transfer, virtual currency, or money service       0.64      0.67      0.66      2942\n",
      "                                                 Checking or savings account       0.60      0.50      0.55      1935\n",
      "                                   Payday loan, title loan, or personal loan       0.56      0.40      0.47       309\n",
      "                                                               Consumer Loan       0.58      0.31      0.40       907\n",
      "                                                     Bank account or service       0.73      0.63      0.68       874\n",
      "                                                                 Credit card       0.63      0.54      0.58      1952\n",
      "                                                             Money transfers       0.58      0.34      0.43       342\n",
      "                                                                Prepaid card       0.59      0.29      0.39       665\n",
      "                                                                 Payday loan       0.50      0.03      0.06        58\n",
      "                                                     Other financial service       0.67      0.58      0.63       298\n",
      "                                                            Virtual currency       1.00      0.40      0.57         5\n",
      "\n",
      "                                                                 avg / total       0.78      0.79      0.78     67132\n",
      "\n"
     ]
    }
   ],
   "source": [
    "from sklearn import metrics\n",
    "print(metrics.classification_report(y_test, y_pred, \n",
    "                                    target_names=dataset['Product'].unique()))"
   ]
  },
  {
   "cell_type": "code",
   "execution_count": 18,
   "metadata": {
    "ExecuteTime": {
     "end_time": "2018-11-08T14:25:43.426320Z",
     "start_time": "2018-11-08T14:25:43.422310Z"
    }
   },
   "outputs": [],
   "source": [
    "# from sklearn.pipeline import Pipeline\n",
    "# from sklearn.svm import LinearSVC\n",
    "# from sklearn.model_selection import GridSearchCV\n",
    "# from sklearn.preprocessing import StandardScaler\n",
    "\n",
    "# SVCpipe = Pipeline([('scale', StandardScaler()),\n",
    "#                    ('SVC',LinearSVC())])\n",
    "\n",
    "# # Gridsearch to determine the value of C\n",
    "# param_grid = {'SVC__C':np.arange(0.01,100,10)}\n",
    "# linearSVC = GridSearchCV(SVCpipe,param_grid,cv=5,return_train_score=True)\n",
    "# linearSVC.fit(X_train,y_train, with_mean=False)\n",
    "# print(linearSVC.best_params_)\n",
    "\n",
    "\n",
    "# bestlinearSVC = linearSVC.best_estimator_\n",
    "# bestlinearSVC.fit(X_train,y_train)\n",
    "# bestlinearSVC.coef_ = bestlinearSVC.named_steps['SVC'].coef_\n",
    "# bestlinearSVC.score(X_train,y_train)"
   ]
  },
  {
   "cell_type": "code",
   "execution_count": 19,
   "metadata": {
    "ExecuteTime": {
     "end_time": "2018-11-08T14:25:43.440868Z",
     "start_time": "2018-11-08T14:25:43.429334Z"
    }
   },
   "outputs": [],
   "source": [
    "# param_grid = {'C':[1,10],'gamma':[1,0.1]}\n",
    "# grid = GridSearchCV(LinearSVC(),param_grid,refit = True, verbose=2)\n",
    "# grid.fit(X_train,y_train)"
   ]
  },
  {
   "cell_type": "code",
   "execution_count": null,
   "metadata": {
    "ExecuteTime": {
     "end_time": "2018-11-08T04:31:02.225935Z",
     "start_time": "2018-11-08T03:56:55.582Z"
    }
   },
   "outputs": [],
   "source": [
    "# from sklearn import svm, grid_search\n",
    "# Cs = [0.1, 1, 10]\n",
    "# gammas = [0.1, 1]\n",
    "# param_grid = {'C': Cs, 'gamma' : gammas}\n",
    "# grid_search = GridSearchCV(svm.SVC(kernel='linear'), param_grid, cv=5)\n",
    "# grid_search.fit(X, y)\n",
    "# grid_search.best_params_\n"
   ]
  },
  {
   "cell_type": "code",
   "execution_count": 11,
   "metadata": {
    "ExecuteTime": {
     "end_time": "2018-11-08T15:49:22.473625Z",
     "start_time": "2018-11-08T15:49:19.276582Z"
    }
   },
   "outputs": [],
   "source": [
    "from sklearn.model_selection import GridSearchCV\n",
    "from sklearn.svm import SVC\n",
    "\n",
    "from sklearn import preprocessing\n",
    "X = preprocessing.scale(X, with_mean=False)"
   ]
  },
  {
   "cell_type": "code",
   "execution_count": null,
   "metadata": {
    "ExecuteTime": {
     "start_time": "2018-11-08T15:49:30.970Z"
    }
   },
   "outputs": [
    {
     "name": "stdout",
     "output_type": "stream",
     "text": [
      "# Tuning hyper-parameters for precision\n",
      "\n"
     ]
    }
   ],
   "source": [
    "# Set the parameters by cross-validation\n",
    "tuned_parameters = [{'kernel': ['rbf'], 'gamma': [0.1],\n",
    "                     'C': [0.1]},\n",
    "                    {'kernel': ['sigmoid'], 'gamma': [0.1],\n",
    "                     'C': [0.1]},\n",
    "                    {'kernel': ['linear'], 'C': [0.1]}\n",
    "                   ]\n",
    "\n",
    "scores = ['precision', 'recall']\n",
    "\n",
    "for score in scores:\n",
    "    print(\"# Tuning hyper-parameters for %s\" % score)\n",
    "    print()\n",
    "\n",
    "    clf = GridSearchCV(SVC(C=1), tuned_parameters, cv=3,\n",
    "                       scoring='%s_macro' % score)\n",
    "    clf.fit(X, y)\n",
    "\n",
    "    print(\"Best parameters set found on development set:\")\n",
    "    print()\n",
    "    print(clf.best_params_)\n",
    "    print()\n",
    "    print(\"Grid scores on development set:\")\n",
    "    print()\n",
    "    means = clf.cv_results_['mean_test_score']\n",
    "    stds = clf.cv_results_['std_test_score']\n",
    "    for mean, std, params in zip(means, stds, clf.cv_results_['params']):\n",
    "        print(\"%0.3f (+/-%0.03f) for %r\"\n",
    "              % (mean, std * 2, params))\n",
    "    print()"
   ]
  },
  {
   "cell_type": "code",
   "execution_count": null,
   "metadata": {},
   "outputs": [],
   "source": [
    "texts = [\"I requested a home loan modification through Bank of America. Bank of America never got back to me.\",\n",
    "         \"It has been difficult for me to find my past due balance. I missed a regular monthly payment\",\n",
    "         \"I can't get the money out of the country.\",\n",
    "         \"I have no money to pay my tuition\",\n",
    "         \"Coinbase closed my account for no reason and furthermore refused to give me a reason despite dozens of request\"]\n",
    "text_features = tfidf.transform(texts)\n",
    "predictions = model.predict(text_features)\n",
    "for text, predicted in zip(texts, predictions):\n",
    "    print('\"{}\"'.format(text))\n",
    "    print(\"  - Predicted as: '{}'\".format(id_to_category[predicted]))\n",
    "    print(\"\")"
   ]
  }
 ],
 "metadata": {
  "kernelspec": {
   "display_name": "Python 3",
   "language": "python",
   "name": "python3"
  },
  "language_info": {
   "codemirror_mode": {
    "name": "ipython",
    "version": 3
   },
   "file_extension": ".py",
   "mimetype": "text/x-python",
   "name": "python",
   "nbconvert_exporter": "python",
   "pygments_lexer": "ipython3",
   "version": "3.6.6"
  },
  "varInspector": {
   "cols": {
    "lenName": 16,
    "lenType": 16,
    "lenVar": 40
   },
   "kernels_config": {
    "python": {
     "delete_cmd_postfix": "",
     "delete_cmd_prefix": "del ",
     "library": "var_list.py",
     "varRefreshCmd": "print(var_dic_list())"
    },
    "r": {
     "delete_cmd_postfix": ") ",
     "delete_cmd_prefix": "rm(",
     "library": "var_list.r",
     "varRefreshCmd": "cat(var_dic_list()) "
    }
   },
   "types_to_exclude": [
    "module",
    "function",
    "builtin_function_or_method",
    "instance",
    "_Feature"
   ],
   "window_display": false
  }
 },
 "nbformat": 4,
 "nbformat_minor": 2
}
