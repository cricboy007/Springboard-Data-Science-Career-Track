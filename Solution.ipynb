{
 "cells": [
  {
   "cell_type": "markdown",
   "metadata": {},
   "source": [
    "# Relax Inc. Data Science Sample Take Home Challenge\n",
    "This is a practice take home challenge from Relax Inc.\n",
    "​\n",
    "The data is available as two attached CSV files:\n",
    "takehome_user_engagement. csv\n",
    "takehome_users . csv\n",
    "The data has the following two tables:\n",
    "1. A user table ( \"takehome_users\" ) with data on 12,000 users who signed up for the product in the last two years. This table includes:\n",
    "* name: the user's name\n",
    "* object_id: the user's id\n",
    "* email: email address\n",
    "* creation_source: how their account was created. This takes on one of 5 values:\n",
    "    * PERSONAL_PROJECTS: invited to join another user's personal workspace\n",
    "    * GUEST_INVITE: invited to an organization as a guest (limited permissions)\n",
    "    * ORG_INVITE: invited to an organization (as a full member)\n",
    "    * SIGNUP: signed up via the website\n",
    "    * SIGNUP_GOOGLE_AUTH: signed up using Google Authentication (using a Google email account for their login id)\n",
    "* creation_time: when they created their account\n",
    "* last_session_creation_time: unix timestamp of last login\n",
    "* opted_in_to_mailing_list: whether they have opted into receiving marketing emails\n",
    "* enabled_for_marketing_drip: whether they are on the regular marketing email drip\n",
    "* org_id: the organization (group of users) they belong to\n",
    "* invited_by_user_id: which user invited them to join (if applicable).\n",
    "\n",
    "\n",
    "A usage summary table ( \"takehome_user_engagement\" ) that has a row for each day that a user logged into the product.\n",
    "​\n",
    "​\n",
    "Defining an \"adopted user\" as a user who has logged into the product on three separate\n",
    "days in at least one sevenday period , identify which factors predict future user adoption .\n",
    "​\n",
    "​\n",
    "We suggest spending 12\n",
    "hours on this, but you're welcome to spend more or less.\n",
    "Please send us a brief writeup of your findings (the more concise, the better no\n",
    "more\n",
    "than one page), along with any summary tables, graphs, code, or queries that can help\n",
    "us understand your approach. Please note any factors you considered or investigation\n",
    "you did, even if they did not pan out. Feel free to identify any further research or data\n",
    "you think would be valuable."
   ]
  },
  {
   "cell_type": "code",
   "execution_count": 1,
   "metadata": {
    "ExecuteTime": {
     "end_time": "2018-11-11T18:54:07.218688Z",
     "start_time": "2018-11-11T18:54:06.041644Z"
    }
   },
   "outputs": [],
   "source": [
    "import pandas as pd\n",
    "import numpy as np\n",
    "import matplotlib.pyplot as plt\n",
    "import seaborn as sns\n",
    "import datetime\n",
    "from collections import Counter\n",
    "\n",
    "%matplotlib inline"
   ]
  },
  {
   "cell_type": "code",
   "execution_count": 2,
   "metadata": {
    "ExecuteTime": {
     "end_time": "2018-11-11T18:54:07.489924Z",
     "start_time": "2018-11-11T18:54:07.220681Z"
    }
   },
   "outputs": [
    {
     "data": {
      "text/html": [
       "<div>\n",
       "<style scoped>\n",
       "    .dataframe tbody tr th:only-of-type {\n",
       "        vertical-align: middle;\n",
       "    }\n",
       "\n",
       "    .dataframe tbody tr th {\n",
       "        vertical-align: top;\n",
       "    }\n",
       "\n",
       "    .dataframe thead th {\n",
       "        text-align: right;\n",
       "    }\n",
       "</style>\n",
       "<table border=\"1\" class=\"dataframe\">\n",
       "  <thead>\n",
       "    <tr style=\"text-align: right;\">\n",
       "      <th></th>\n",
       "      <th>object_id</th>\n",
       "      <th>creation_time</th>\n",
       "      <th>name</th>\n",
       "      <th>email</th>\n",
       "      <th>creation_source</th>\n",
       "      <th>last_session_creation_time</th>\n",
       "      <th>opted_in_to_mailing_list</th>\n",
       "      <th>enabled_for_marketing_drip</th>\n",
       "      <th>org_id</th>\n",
       "      <th>invited_by_user_id</th>\n",
       "    </tr>\n",
       "  </thead>\n",
       "  <tbody>\n",
       "    <tr>\n",
       "      <th>0</th>\n",
       "      <td>1</td>\n",
       "      <td>2014-04-22 03:53:30</td>\n",
       "      <td>Clausen August</td>\n",
       "      <td>AugustCClausen@yahoo.com</td>\n",
       "      <td>GUEST_INVITE</td>\n",
       "      <td>1.398139e+09</td>\n",
       "      <td>1</td>\n",
       "      <td>0</td>\n",
       "      <td>11</td>\n",
       "      <td>10803.0</td>\n",
       "    </tr>\n",
       "    <tr>\n",
       "      <th>1</th>\n",
       "      <td>2</td>\n",
       "      <td>2013-11-15 03:45:04</td>\n",
       "      <td>Poole Matthew</td>\n",
       "      <td>MatthewPoole@gustr.com</td>\n",
       "      <td>ORG_INVITE</td>\n",
       "      <td>1.396238e+09</td>\n",
       "      <td>0</td>\n",
       "      <td>0</td>\n",
       "      <td>1</td>\n",
       "      <td>316.0</td>\n",
       "    </tr>\n",
       "    <tr>\n",
       "      <th>2</th>\n",
       "      <td>3</td>\n",
       "      <td>2013-03-19 23:14:52</td>\n",
       "      <td>Bottrill Mitchell</td>\n",
       "      <td>MitchellBottrill@gustr.com</td>\n",
       "      <td>ORG_INVITE</td>\n",
       "      <td>1.363735e+09</td>\n",
       "      <td>0</td>\n",
       "      <td>0</td>\n",
       "      <td>94</td>\n",
       "      <td>1525.0</td>\n",
       "    </tr>\n",
       "    <tr>\n",
       "      <th>3</th>\n",
       "      <td>4</td>\n",
       "      <td>2013-05-21 08:09:28</td>\n",
       "      <td>Clausen Nicklas</td>\n",
       "      <td>NicklasSClausen@yahoo.com</td>\n",
       "      <td>GUEST_INVITE</td>\n",
       "      <td>1.369210e+09</td>\n",
       "      <td>0</td>\n",
       "      <td>0</td>\n",
       "      <td>1</td>\n",
       "      <td>5151.0</td>\n",
       "    </tr>\n",
       "    <tr>\n",
       "      <th>4</th>\n",
       "      <td>5</td>\n",
       "      <td>2013-01-17 10:14:20</td>\n",
       "      <td>Raw Grace</td>\n",
       "      <td>GraceRaw@yahoo.com</td>\n",
       "      <td>GUEST_INVITE</td>\n",
       "      <td>1.358850e+09</td>\n",
       "      <td>0</td>\n",
       "      <td>0</td>\n",
       "      <td>193</td>\n",
       "      <td>5240.0</td>\n",
       "    </tr>\n",
       "  </tbody>\n",
       "</table>\n",
       "</div>"
      ],
      "text/plain": [
       "   object_id        creation_time               name  \\\n",
       "0          1  2014-04-22 03:53:30     Clausen August   \n",
       "1          2  2013-11-15 03:45:04      Poole Matthew   \n",
       "2          3  2013-03-19 23:14:52  Bottrill Mitchell   \n",
       "3          4  2013-05-21 08:09:28    Clausen Nicklas   \n",
       "4          5  2013-01-17 10:14:20          Raw Grace   \n",
       "\n",
       "                        email creation_source  last_session_creation_time  \\\n",
       "0    AugustCClausen@yahoo.com    GUEST_INVITE                1.398139e+09   \n",
       "1      MatthewPoole@gustr.com      ORG_INVITE                1.396238e+09   \n",
       "2  MitchellBottrill@gustr.com      ORG_INVITE                1.363735e+09   \n",
       "3   NicklasSClausen@yahoo.com    GUEST_INVITE                1.369210e+09   \n",
       "4          GraceRaw@yahoo.com    GUEST_INVITE                1.358850e+09   \n",
       "\n",
       "   opted_in_to_mailing_list  enabled_for_marketing_drip  org_id  \\\n",
       "0                         1                           0      11   \n",
       "1                         0                           0       1   \n",
       "2                         0                           0      94   \n",
       "3                         0                           0       1   \n",
       "4                         0                           0     193   \n",
       "\n",
       "   invited_by_user_id  \n",
       "0             10803.0  \n",
       "1               316.0  \n",
       "2              1525.0  \n",
       "3              5151.0  \n",
       "4              5240.0  "
      ]
     },
     "execution_count": 2,
     "metadata": {},
     "output_type": "execute_result"
    },
    {
     "data": {
      "text/html": [
       "<div>\n",
       "<style scoped>\n",
       "    .dataframe tbody tr th:only-of-type {\n",
       "        vertical-align: middle;\n",
       "    }\n",
       "\n",
       "    .dataframe tbody tr th {\n",
       "        vertical-align: top;\n",
       "    }\n",
       "\n",
       "    .dataframe thead th {\n",
       "        text-align: right;\n",
       "    }\n",
       "</style>\n",
       "<table border=\"1\" class=\"dataframe\">\n",
       "  <thead>\n",
       "    <tr style=\"text-align: right;\">\n",
       "      <th></th>\n",
       "      <th>time_stamp</th>\n",
       "      <th>user_id</th>\n",
       "      <th>visited</th>\n",
       "    </tr>\n",
       "  </thead>\n",
       "  <tbody>\n",
       "    <tr>\n",
       "      <th>0</th>\n",
       "      <td>2014-04-22 03:53:30</td>\n",
       "      <td>1</td>\n",
       "      <td>1</td>\n",
       "    </tr>\n",
       "    <tr>\n",
       "      <th>1</th>\n",
       "      <td>2013-11-15 03:45:04</td>\n",
       "      <td>2</td>\n",
       "      <td>1</td>\n",
       "    </tr>\n",
       "    <tr>\n",
       "      <th>2</th>\n",
       "      <td>2013-11-29 03:45:04</td>\n",
       "      <td>2</td>\n",
       "      <td>1</td>\n",
       "    </tr>\n",
       "    <tr>\n",
       "      <th>3</th>\n",
       "      <td>2013-12-09 03:45:04</td>\n",
       "      <td>2</td>\n",
       "      <td>1</td>\n",
       "    </tr>\n",
       "    <tr>\n",
       "      <th>4</th>\n",
       "      <td>2013-12-25 03:45:04</td>\n",
       "      <td>2</td>\n",
       "      <td>1</td>\n",
       "    </tr>\n",
       "  </tbody>\n",
       "</table>\n",
       "</div>"
      ],
      "text/plain": [
       "            time_stamp  user_id  visited\n",
       "0  2014-04-22 03:53:30        1        1\n",
       "1  2013-11-15 03:45:04        2        1\n",
       "2  2013-11-29 03:45:04        2        1\n",
       "3  2013-12-09 03:45:04        2        1\n",
       "4  2013-12-25 03:45:04        2        1"
      ]
     },
     "execution_count": 2,
     "metadata": {},
     "output_type": "execute_result"
    }
   ],
   "source": [
    "users_df = pd.read_csv('takehome_users.csv', encoding='latin-1',parse_dates=True)\n",
    "user_engagement_df = pd.read_csv('takehome_user_engagement.csv', parse_dates=True)\n",
    "users_df.head(5)\n",
    "user_engagement_df.head(5)"
   ]
  },
  {
   "cell_type": "code",
   "execution_count": 3,
   "metadata": {
    "ExecuteTime": {
     "end_time": "2018-11-11T18:54:07.507972Z",
     "start_time": "2018-11-11T18:54:07.491930Z"
    }
   },
   "outputs": [
    {
     "name": "stdout",
     "output_type": "stream",
     "text": [
      "Total number of users: 8823\n",
      "Number of users signed up: 12000\n",
      "Missing users: 3177\n",
      "Users with missing last session info: 3177\n"
     ]
    }
   ],
   "source": [
    "print(f\"Total number of users: {len(user_engagement_df['user_id'].unique())}\")\n",
    "print(f\"Number of users signed up: {len(users_df['object_id'].unique())}\")\n",
    "print(f\"Missing users: {len(users_df['object_id'].unique()) - len(user_engagement_df['user_id'].unique())}\")\n",
    "print(f\"Users with missing last session info: {len(users_df[users_df['last_session_creation_time'].isnull()])}\")"
   ]
  },
  {
   "cell_type": "markdown",
   "metadata": {},
   "source": [
    "3177 users installed the app but never sued it.\n",
    "We have two datasets that will serve two different purposes: \n",
    "1. The first dataset, takehome_user_engagement.csv, will be used to determine whether any particular user is an adopted user or not (a user who has logged into the product on three separate days in at least one seven day period). \n",
    "2. The second dataset can then be used with the determined adopted user labels to create a classification model."
   ]
  },
  {
   "cell_type": "code",
   "execution_count": 4,
   "metadata": {
    "ExecuteTime": {
     "end_time": "2018-11-11T18:54:07.549087Z",
     "start_time": "2018-11-11T18:54:07.509978Z"
    }
   },
   "outputs": [
    {
     "name": "stdout",
     "output_type": "stream",
     "text": [
      "<class 'pandas.core.frame.DataFrame'>\n",
      "RangeIndex: 207917 entries, 0 to 207916\n",
      "Data columns (total 3 columns):\n",
      "time_stamp    207917 non-null object\n",
      "user_id       207917 non-null int64\n",
      "visited       207917 non-null int64\n",
      "dtypes: int64(2), object(1)\n",
      "memory usage: 4.8+ MB\n",
      "<class 'pandas.core.frame.DataFrame'>\n",
      "RangeIndex: 12000 entries, 0 to 11999\n",
      "Data columns (total 10 columns):\n",
      "object_id                     12000 non-null int64\n",
      "creation_time                 12000 non-null object\n",
      "name                          12000 non-null object\n",
      "email                         12000 non-null object\n",
      "creation_source               12000 non-null object\n",
      "last_session_creation_time    8823 non-null float64\n",
      "opted_in_to_mailing_list      12000 non-null int64\n",
      "enabled_for_marketing_drip    12000 non-null int64\n",
      "org_id                        12000 non-null int64\n",
      "invited_by_user_id            6417 non-null float64\n",
      "dtypes: float64(2), int64(4), object(4)\n",
      "memory usage: 937.6+ KB\n"
     ]
    }
   ],
   "source": [
    "user_engagement_df.info()\n",
    "users_df.info()"
   ]
  },
  {
   "cell_type": "code",
   "execution_count": 5,
   "metadata": {
    "ExecuteTime": {
     "end_time": "2018-11-11T18:54:07.616266Z",
     "start_time": "2018-11-11T18:54:07.550089Z"
    }
   },
   "outputs": [],
   "source": [
    "# Assing correct datatype to time_stamp\n",
    "user_engagement_df['time_stamp'] = pd.to_datetime(user_engagement_df['time_stamp'])"
   ]
  },
  {
   "cell_type": "code",
   "execution_count": 6,
   "metadata": {
    "ExecuteTime": {
     "end_time": "2018-11-11T18:55:12.842874Z",
     "start_time": "2018-11-11T18:54:34.792055Z"
    }
   },
   "outputs": [],
   "source": [
    "# # To classify user as adopted, he/she has to be active atleast 3 times in last 7 days\n",
    "\n",
    "seven_days = datetime.timedelta(7)\n",
    "adopted_dict = {}\n",
    "\n",
    "for user_id in sorted(list(user_engagement_df['user_id'].unique())):\n",
    "    \n",
    "    adopted_user = False\n",
    "    temp = user_engagement_df[user_engagement_df['user_id'] == user_id].sort_values('time_stamp').reset_index()\n",
    "    for i in range(len(temp)):\n",
    "        if adopted_user is not True:\n",
    "            this_time = temp.loc[i, 'time_stamp']\n",
    "            if len(temp[(temp['time_stamp'] >= this_time) & (temp['time_stamp'] <= (this_time + seven_days))]) >= 3:\n",
    "                adopted_user = True\n",
    "        adopted_dict[user_id] = adopted_user\n"
   ]
  },
  {
   "cell_type": "code",
   "execution_count": 8,
   "metadata": {
    "ExecuteTime": {
     "end_time": "2018-11-11T18:55:26.261581Z",
     "start_time": "2018-11-11T18:55:26.246540Z"
    }
   },
   "outputs": [
    {
     "data": {
      "text/html": [
       "<div>\n",
       "<style scoped>\n",
       "    .dataframe tbody tr th:only-of-type {\n",
       "        vertical-align: middle;\n",
       "    }\n",
       "\n",
       "    .dataframe tbody tr th {\n",
       "        vertical-align: top;\n",
       "    }\n",
       "\n",
       "    .dataframe thead th {\n",
       "        text-align: right;\n",
       "    }\n",
       "</style>\n",
       "<table border=\"1\" class=\"dataframe\">\n",
       "  <thead>\n",
       "    <tr style=\"text-align: right;\">\n",
       "      <th></th>\n",
       "      <th>index</th>\n",
       "      <th>0</th>\n",
       "    </tr>\n",
       "  </thead>\n",
       "  <tbody>\n",
       "    <tr>\n",
       "      <th>0</th>\n",
       "      <td>False</td>\n",
       "      <td>7167</td>\n",
       "    </tr>\n",
       "    <tr>\n",
       "      <th>1</th>\n",
       "      <td>True</td>\n",
       "      <td>1656</td>\n",
       "    </tr>\n",
       "  </tbody>\n",
       "</table>\n",
       "</div>"
      ],
      "text/plain": [
       "   index     0\n",
       "0  False  7167\n",
       "1   True  1656"
      ]
     },
     "execution_count": 8,
     "metadata": {},
     "output_type": "execute_result"
    },
    {
     "name": "stdout",
     "output_type": "stream",
     "text": [
      "Out of 8823 users 1656 users ie. 18.77% of users who have used the application are considered 'adopted users'\n"
     ]
    }
   ],
   "source": [
    "# Explore the user adoption labels\n",
    "count_df = pd.DataFrame.from_dict(Counter(list(adopted_dict.values())), orient='index').reset_index()\n",
    "count_df\n",
    "print(f'Out of {len(adopted_dict)} users {count_df.loc[1][1]} users ie. {round(count_df.loc[1][1]/(count_df.loc[1][1]+count_df.loc[0][1])*100, 2)}% of users who have used the application are considered \\'adopted users\\'')"
   ]
  },
  {
   "cell_type": "code",
   "execution_count": 12,
   "metadata": {
    "ExecuteTime": {
     "end_time": "2018-11-11T18:58:14.605649Z",
     "start_time": "2018-11-11T18:58:14.581585Z"
    }
   },
   "outputs": [],
   "source": [
    "# Add target variable\n",
    "count_df = pd.DataFrame.from_dict(adopted_dict, orient='index').reset_index()\n",
    "count_df.columns = ['user_id', 'adopted']\n",
    "users_df = pd.merge(users_df, count_df, left_on = 'object_id', right_on = 'user_id', how='left')\n",
    "users_df[['adopted']] = users_df[['adopted']].fillna(value=False)"
   ]
  },
  {
   "cell_type": "code",
   "execution_count": 14,
   "metadata": {
    "ExecuteTime": {
     "end_time": "2018-11-11T18:58:33.724726Z",
     "start_time": "2018-11-11T18:58:33.718206Z"
    }
   },
   "outputs": [
    {
     "name": "stdout",
     "output_type": "stream",
     "text": [
      "Out of all users who have signed up for the application 13.8 are considered 'adopted users'.\n"
     ]
    }
   ],
   "source": [
    "print(f\"Out of all users who have signed up for the application {round(len(users_df[users_df['adopted'] == True])/len(users_df)*100, 2)} are considered \\'adopted users\\'.\")"
   ]
  },
  {
   "cell_type": "code",
   "execution_count": 15,
   "metadata": {
    "ExecuteTime": {
     "end_time": "2018-11-11T18:58:44.024061Z",
     "start_time": "2018-11-11T18:58:44.013032Z"
    }
   },
   "outputs": [
    {
     "name": "stdout",
     "output_type": "stream",
     "text": [
      "creation_source feature:\n",
      "ORG_INVITE            4254\n",
      "GUEST_INVITE          2163\n",
      "PERSONAL_PROJECTS     2111\n",
      "SIGNUP                2087\n",
      "SIGNUP_GOOGLE_AUTH    1385\n",
      "Name: creation_source, dtype: int64\n",
      "\n",
      "opted_in_to_mailing_list feature:\n",
      "0    9006\n",
      "1    2994\n",
      "Name: opted_in_to_mailing_list, dtype: int64\n",
      "\n",
      "enabled_for_marketing_drip feature:\n",
      "0    10208\n",
      "1     1792\n",
      "Name: enabled_for_marketing_drip, dtype: int64\n",
      "\n"
     ]
    }
   ],
   "source": [
    "# overview of features\n",
    "for feature in ['creation_source', 'opted_in_to_mailing_list', 'enabled_for_marketing_drip']:\n",
    "    print(f'{feature} feature:')\n",
    "    print(users_df[feature].value_counts(), end='\\n\\n')"
   ]
  },
  {
   "cell_type": "code",
   "execution_count": 18,
   "metadata": {
    "ExecuteTime": {
     "end_time": "2018-11-11T20:05:31.891452Z",
     "start_time": "2018-11-11T20:05:31.621277Z"
    }
   },
   "outputs": [
    {
     "data": {
      "text/html": [
       "<div>\n",
       "<style scoped>\n",
       "    .dataframe tbody tr th:only-of-type {\n",
       "        vertical-align: middle;\n",
       "    }\n",
       "\n",
       "    .dataframe tbody tr th {\n",
       "        vertical-align: top;\n",
       "    }\n",
       "\n",
       "    .dataframe thead th {\n",
       "        text-align: right;\n",
       "    }\n",
       "</style>\n",
       "<table border=\"1\" class=\"dataframe\">\n",
       "  <thead>\n",
       "    <tr style=\"text-align: right;\">\n",
       "      <th></th>\n",
       "      <th>creation_source</th>\n",
       "      <th>opted_in_to_mailing_list</th>\n",
       "      <th>enabled_for_marketing_drip</th>\n",
       "      <th>org_id</th>\n",
       "      <th>adopted</th>\n",
       "    </tr>\n",
       "  </thead>\n",
       "  <tbody>\n",
       "    <tr>\n",
       "      <th>0</th>\n",
       "      <td>GUEST_INVITE</td>\n",
       "      <td>1.0</td>\n",
       "      <td>0.0</td>\n",
       "      <td>11.0</td>\n",
       "      <td>False</td>\n",
       "    </tr>\n",
       "    <tr>\n",
       "      <th>1</th>\n",
       "      <td>ORG_INVITE</td>\n",
       "      <td>0.0</td>\n",
       "      <td>0.0</td>\n",
       "      <td>1.0</td>\n",
       "      <td>True</td>\n",
       "    </tr>\n",
       "    <tr>\n",
       "      <th>2</th>\n",
       "      <td>ORG_INVITE</td>\n",
       "      <td>0.0</td>\n",
       "      <td>0.0</td>\n",
       "      <td>94.0</td>\n",
       "      <td>False</td>\n",
       "    </tr>\n",
       "    <tr>\n",
       "      <th>3</th>\n",
       "      <td>GUEST_INVITE</td>\n",
       "      <td>0.0</td>\n",
       "      <td>0.0</td>\n",
       "      <td>1.0</td>\n",
       "      <td>False</td>\n",
       "    </tr>\n",
       "    <tr>\n",
       "      <th>4</th>\n",
       "      <td>GUEST_INVITE</td>\n",
       "      <td>0.0</td>\n",
       "      <td>0.0</td>\n",
       "      <td>193.0</td>\n",
       "      <td>False</td>\n",
       "    </tr>\n",
       "  </tbody>\n",
       "</table>\n",
       "</div>"
      ],
      "text/plain": [
       "  creation_source  opted_in_to_mailing_list  enabled_for_marketing_drip  \\\n",
       "0    GUEST_INVITE                       1.0                         0.0   \n",
       "1      ORG_INVITE                       0.0                         0.0   \n",
       "2      ORG_INVITE                       0.0                         0.0   \n",
       "3    GUEST_INVITE                       0.0                         0.0   \n",
       "4    GUEST_INVITE                       0.0                         0.0   \n",
       "\n",
       "   org_id  adopted  \n",
       "0    11.0    False  \n",
       "1     1.0     True  \n",
       "2    94.0    False  \n",
       "3     1.0    False  \n",
       "4   193.0    False  "
      ]
     },
     "execution_count": 18,
     "metadata": {},
     "output_type": "execute_result"
    },
    {
     "data": {
      "text/plain": [
       "<matplotlib.axes._subplots.AxesSubplot at 0x243c89c6e80>"
      ]
     },
     "execution_count": 18,
     "metadata": {},
     "output_type": "execute_result"
    },
    {
     "data": {
      "text/plain": [
       "Text(0,0.5,'')"
      ]
     },
     "execution_count": 18,
     "metadata": {},
     "output_type": "execute_result"
    },
    {
     "data": {
      "text/plain": [
       "Text(0.5,1,'Adopted vs. Not-Adopted Users')"
      ]
     },
     "execution_count": 18,
     "metadata": {},
     "output_type": "execute_result"
    },
    {
     "data": {
      "image/png": "[encoded data removed]",
      "text/plain": [
       "<Figure size 432x288 with 1 Axes>"
      ]
     },
     "metadata": {},
     "output_type": "display_data"
    }
   ],
   "source": [
    "# Download Weka https://sourceforge.net/projects/weka/\n",
    "header = [\"creation_source\", \"opted_in_to_mailing_list\", \"enabled_for_marketing_drip\", \"org_id\", \"adopted\"]\n",
    "users_df.to_csv(\"input_for_weka.csv\", columns = header, index=False)\n",
    "# How to convert cvs to weka format \n",
    "# https://machinelearningmastery.com/load-csv-machine-learning-data-weka/\n",
    "\n",
    "# Load output of weka SMOTE-d \n",
    "users_df_edit = pd.read_csv('output_of_weka.csv')\n",
    "users_df_edit.head()\n",
    "\n",
    "sns.barplot(x = list(users_df_edit['adopted'].value_counts().index), \n",
    "            y = users_df_edit['adopted'].value_counts())\n",
    "plt.ylabel('')\n",
    "plt.title('Adopted vs. Not-Adopted Users')"
   ]
  },
  {
   "cell_type": "code",
   "execution_count": 19,
   "metadata": {
    "ExecuteTime": {
     "end_time": "2018-11-11T20:06:07.305282Z",
     "start_time": "2018-11-11T20:06:07.296220Z"
    }
   },
   "outputs": [
    {
     "name": "stdout",
     "output_type": "stream",
     "text": [
      "<class 'pandas.core.frame.DataFrame'>\n",
      "RangeIndex: 16968 entries, 0 to 16967\n",
      "Data columns (total 5 columns):\n",
      "creation_source               16968 non-null object\n",
      "opted_in_to_mailing_list      16968 non-null float64\n",
      "enabled_for_marketing_drip    16968 non-null float64\n",
      "org_id                        16968 non-null float64\n",
      "adopted                       16968 non-null bool\n",
      "dtypes: bool(1), float64(3), object(1)\n",
      "memory usage: 546.9+ KB\n"
     ]
    }
   ],
   "source": [
    "users_df_edit.info()"
   ]
  },
  {
   "cell_type": "code",
   "execution_count": 20,
   "metadata": {
    "ExecuteTime": {
     "end_time": "2018-11-11T20:07:32.645862Z",
     "start_time": "2018-11-11T20:07:31.982368Z"
    }
   },
   "outputs": [
    {
     "name": "stderr",
     "output_type": "stream",
     "text": [
      "C:\\Users\\kdeodhar\\AppData\\Local\\Continuum\\anaconda3\\lib\\site-packages\\sklearn\\cross_validation.py:41: DeprecationWarning: This module was deprecated in version 0.18 in favor of the model_selection module into which all the refactored classes and functions are moved. Also note that the interface of the new CV iterators are different from that of this module. This module will be removed in 0.20.\n",
      "  \"This module will be removed in 0.20.\", DeprecationWarning)\n",
      "C:\\Users\\kdeodhar\\AppData\\Local\\Continuum\\anaconda3\\lib\\site-packages\\sklearn\\ensemble\\weight_boosting.py:29: DeprecationWarning: numpy.core.umath_tests is an internal NumPy module and should not be imported. It will be removed in a future NumPy release.\n",
      "  from numpy.core.umath_tests import inner1d\n"
     ]
    },
    {
     "data": {
      "text/html": [
       "<div>\n",
       "<style scoped>\n",
       "    .dataframe tbody tr th:only-of-type {\n",
       "        vertical-align: middle;\n",
       "    }\n",
       "\n",
       "    .dataframe tbody tr th {\n",
       "        vertical-align: top;\n",
       "    }\n",
       "\n",
       "    .dataframe thead th {\n",
       "        text-align: right;\n",
       "    }\n",
       "</style>\n",
       "<table border=\"1\" class=\"dataframe\">\n",
       "  <thead>\n",
       "    <tr style=\"text-align: right;\">\n",
       "      <th></th>\n",
       "      <th>opted_in_to_mailing_list</th>\n",
       "      <th>enabled_for_marketing_drip</th>\n",
       "      <th>org_id</th>\n",
       "      <th>adopted</th>\n",
       "      <th>creation_source_GUEST_INVITE</th>\n",
       "      <th>creation_source_ORG_INVITE</th>\n",
       "      <th>creation_source_PERSONAL_PROJECTS</th>\n",
       "      <th>creation_source_SIGNUP</th>\n",
       "      <th>creation_source_SIGNUP_GOOGLE_AUTH</th>\n",
       "    </tr>\n",
       "  </thead>\n",
       "  <tbody>\n",
       "    <tr>\n",
       "      <th>0</th>\n",
       "      <td>1.0</td>\n",
       "      <td>0.0</td>\n",
       "      <td>11.0</td>\n",
       "      <td>False</td>\n",
       "      <td>1</td>\n",
       "      <td>0</td>\n",
       "      <td>0</td>\n",
       "      <td>0</td>\n",
       "      <td>0</td>\n",
       "    </tr>\n",
       "    <tr>\n",
       "      <th>1</th>\n",
       "      <td>0.0</td>\n",
       "      <td>0.0</td>\n",
       "      <td>1.0</td>\n",
       "      <td>True</td>\n",
       "      <td>0</td>\n",
       "      <td>1</td>\n",
       "      <td>0</td>\n",
       "      <td>0</td>\n",
       "      <td>0</td>\n",
       "    </tr>\n",
       "    <tr>\n",
       "      <th>2</th>\n",
       "      <td>0.0</td>\n",
       "      <td>0.0</td>\n",
       "      <td>94.0</td>\n",
       "      <td>False</td>\n",
       "      <td>0</td>\n",
       "      <td>1</td>\n",
       "      <td>0</td>\n",
       "      <td>0</td>\n",
       "      <td>0</td>\n",
       "    </tr>\n",
       "    <tr>\n",
       "      <th>3</th>\n",
       "      <td>0.0</td>\n",
       "      <td>0.0</td>\n",
       "      <td>1.0</td>\n",
       "      <td>False</td>\n",
       "      <td>1</td>\n",
       "      <td>0</td>\n",
       "      <td>0</td>\n",
       "      <td>0</td>\n",
       "      <td>0</td>\n",
       "    </tr>\n",
       "    <tr>\n",
       "      <th>4</th>\n",
       "      <td>0.0</td>\n",
       "      <td>0.0</td>\n",
       "      <td>193.0</td>\n",
       "      <td>False</td>\n",
       "      <td>1</td>\n",
       "      <td>0</td>\n",
       "      <td>0</td>\n",
       "      <td>0</td>\n",
       "      <td>0</td>\n",
       "    </tr>\n",
       "  </tbody>\n",
       "</table>\n",
       "</div>"
      ],
      "text/plain": [
       "   opted_in_to_mailing_list  enabled_for_marketing_drip  org_id  adopted  \\\n",
       "0                       1.0                         0.0    11.0    False   \n",
       "1                       0.0                         0.0     1.0     True   \n",
       "2                       0.0                         0.0    94.0    False   \n",
       "3                       0.0                         0.0     1.0    False   \n",
       "4                       0.0                         0.0   193.0    False   \n",
       "\n",
       "   creation_source_GUEST_INVITE  creation_source_ORG_INVITE  \\\n",
       "0                             1                           0   \n",
       "1                             0                           1   \n",
       "2                             0                           1   \n",
       "3                             1                           0   \n",
       "4                             1                           0   \n",
       "\n",
       "   creation_source_PERSONAL_PROJECTS  creation_source_SIGNUP  \\\n",
       "0                                  0                       0   \n",
       "1                                  0                       0   \n",
       "2                                  0                       0   \n",
       "3                                  0                       0   \n",
       "4                                  0                       0   \n",
       "\n",
       "   creation_source_SIGNUP_GOOGLE_AUTH  \n",
       "0                                   0  \n",
       "1                                   0  \n",
       "2                                   0  \n",
       "3                                   0  \n",
       "4                                   0  "
      ]
     },
     "execution_count": 20,
     "metadata": {},
     "output_type": "execute_result"
    }
   ],
   "source": [
    "# modeling\n",
    "from sklearn.metrics import roc_curve, auc, accuracy_score, confusion_matrix\n",
    "from sklearn.model_selection import train_test_split, GridSearchCV\n",
    "from sklearn import cross_validation\n",
    "from sklearn.ensemble import RandomForestClassifier\n",
    "\n",
    "# One-hot-enacode\n",
    "df_encoded = pd.get_dummies(users_df_edit, columns = ['creation_source'])\n",
    "df_encoded.head()"
   ]
  },
  {
   "cell_type": "code",
   "execution_count": 21,
   "metadata": {
    "ExecuteTime": {
     "end_time": "2018-11-11T20:08:35.692009Z",
     "start_time": "2018-11-11T20:08:35.665978Z"
    }
   },
   "outputs": [
    {
     "data": {
      "text/plain": [
       "(13574, 8)"
      ]
     },
     "execution_count": 21,
     "metadata": {},
     "output_type": "execute_result"
    },
    {
     "data": {
      "text/plain": [
       "(3394, 8)"
      ]
     },
     "execution_count": 21,
     "metadata": {},
     "output_type": "execute_result"
    }
   ],
   "source": [
    "# Split into train and test sets\n",
    "\n",
    "train, test = train_test_split(df_encoded, test_size=.20, \n",
    "                               random_state=42, stratify=df_encoded['adopted'])\n",
    "\n",
    "train.reset_index(drop=True, inplace=True)\n",
    "target = train['adopted']\n",
    "train = train.drop('adopted', axis=1)\n",
    "\n",
    "test.reset_index(drop=True, inplace=True)\n",
    "test_target = test['adopted']\n",
    "test = test.drop('adopted', axis=1)\n",
    "\n",
    "train.shape\n",
    "test.shape"
   ]
  },
  {
   "cell_type": "code",
   "execution_count": 22,
   "metadata": {
    "ExecuteTime": {
     "end_time": "2018-11-11T20:10:07.811195Z",
     "start_time": "2018-11-11T20:10:06.688626Z"
    }
   },
   "outputs": [
    {
     "name": "stdout",
     "output_type": "stream",
     "text": [
      "1 77.90868924889544 0.7615752239286694 [[694 127]\n",
      " [173 364]]\n",
      "2 79.82326951399116 0.784303091877643 [[705 129]\n",
      " [145 379]]\n",
      "3 78.4977908689249 0.7700394843251986 [[690 129]\n",
      " [163 376]]\n",
      "4 79.16053019145802 0.775086587706249 [[702 121]\n",
      " [162 373]]\n",
      "5 77.96610169491525 0.7640259890938624 [[702 148]\n",
      " [151 356]]\n",
      "6 79.51363301400147 0.780975282534052 [[697 125]\n",
      " [153 382]]\n",
      "7 79.58732498157701 0.7755917104884857 [[727 122]\n",
      " [155 353]]\n",
      "8 78.48194546794399 0.769624060150376 [[693 132]\n",
      " [160 372]]\n",
      "9 78.7030213706706 0.7725203684823111 [[686 123]\n",
      " [166 382]]\n",
      "10 77.59764185703759 0.7590856963425123 [[690 133]\n",
      " [171 363]]\n"
     ]
    }
   ],
   "source": [
    "# cross validation on the training set\n",
    "\n",
    "clf = RandomForestClassifier()\n",
    "cv = cross_validation.KFold(len(train), n_folds=10)\n",
    "\n",
    "cv_count = 1\n",
    "for traincv, testcv in cv:  \n",
    "        preds = clf.fit(train.loc[list(traincv),:], \n",
    "                        target.loc[list(traincv),]).predict(train.loc[list(testcv),:])\n",
    "        \n",
    "        false_positive_rate, true_positive_rate, thresholds = roc_curve(target.loc[testcv,], preds)\n",
    "\n",
    "        print(cv_count, \n",
    "              accuracy_score(target.loc[testcv,], preds)*100, \n",
    "              auc(false_positive_rate, true_positive_rate),\n",
    "              confusion_matrix(target.loc[testcv,], preds))\n",
    "        cv_count += 1"
   ]
  },
  {
   "cell_type": "markdown",
   "metadata": {},
   "source": [
    "77% Accuracy on training set"
   ]
  },
  {
   "cell_type": "code",
   "execution_count": 23,
   "metadata": {
    "ExecuteTime": {
     "end_time": "2018-11-11T20:11:07.719827Z",
     "start_time": "2018-11-11T20:11:07.573398Z"
    }
   },
   "outputs": [
    {
     "name": "stdout",
     "output_type": "stream",
     "text": [
      "79.22804949911608 [[1755  314]\n",
      " [ 391  934]]\n"
     ]
    }
   ],
   "source": [
    "# Test on test set\n",
    "final_clf = clf.fit(train, target)\n",
    "test_preds = final_clf.predict(test)\n",
    "\n",
    "print(accuracy_score(test_target, test_preds)*100, \n",
    "                  confusion_matrix(test_target, test_preds))"
   ]
  },
  {
   "cell_type": "markdown",
   "metadata": {
    "ExecuteTime": {
     "end_time": "2018-11-11T20:14:46.732774Z",
     "start_time": "2018-11-11T20:14:46.728764Z"
    }
   },
   "source": [
    "79% Accuracy on test set"
   ]
  },
  {
   "cell_type": "code",
   "execution_count": 24,
   "metadata": {
    "ExecuteTime": {
     "end_time": "2018-11-11T20:12:22.085261Z",
     "start_time": "2018-11-11T20:12:22.071227Z"
    }
   },
   "outputs": [
    {
     "data": {
      "text/html": [
       "<div>\n",
       "<style scoped>\n",
       "    .dataframe tbody tr th:only-of-type {\n",
       "        vertical-align: middle;\n",
       "    }\n",
       "\n",
       "    .dataframe tbody tr th {\n",
       "        vertical-align: top;\n",
       "    }\n",
       "\n",
       "    .dataframe thead th {\n",
       "        text-align: right;\n",
       "    }\n",
       "</style>\n",
       "<table border=\"1\" class=\"dataframe\">\n",
       "  <thead>\n",
       "    <tr style=\"text-align: right;\">\n",
       "      <th></th>\n",
       "      <th>feature_importance</th>\n",
       "    </tr>\n",
       "  </thead>\n",
       "  <tbody>\n",
       "    <tr>\n",
       "      <th>org_id</th>\n",
       "      <td>0.736831</td>\n",
       "    </tr>\n",
       "    <tr>\n",
       "      <th>opted_in_to_mailing_list</th>\n",
       "      <td>0.093773</td>\n",
       "    </tr>\n",
       "    <tr>\n",
       "      <th>enabled_for_marketing_drip</th>\n",
       "      <td>0.083336</td>\n",
       "    </tr>\n",
       "    <tr>\n",
       "      <th>creation_source_PERSONAL_PROJECTS</th>\n",
       "      <td>0.041504</td>\n",
       "    </tr>\n",
       "    <tr>\n",
       "      <th>creation_source_ORG_INVITE</th>\n",
       "      <td>0.020830</td>\n",
       "    </tr>\n",
       "    <tr>\n",
       "      <th>creation_source_GUEST_INVITE</th>\n",
       "      <td>0.014981</td>\n",
       "    </tr>\n",
       "    <tr>\n",
       "      <th>creation_source_SIGNUP</th>\n",
       "      <td>0.005581</td>\n",
       "    </tr>\n",
       "    <tr>\n",
       "      <th>creation_source_SIGNUP_GOOGLE_AUTH</th>\n",
       "      <td>0.003163</td>\n",
       "    </tr>\n",
       "  </tbody>\n",
       "</table>\n",
       "</div>"
      ],
      "text/plain": [
       "                                    feature_importance\n",
       "org_id                                        0.736831\n",
       "opted_in_to_mailing_list                      0.093773\n",
       "enabled_for_marketing_drip                    0.083336\n",
       "creation_source_PERSONAL_PROJECTS             0.041504\n",
       "creation_source_ORG_INVITE                    0.020830\n",
       "creation_source_GUEST_INVITE                  0.014981\n",
       "creation_source_SIGNUP                        0.005581\n",
       "creation_source_SIGNUP_GOOGLE_AUTH            0.003163"
      ]
     },
     "execution_count": 24,
     "metadata": {},
     "output_type": "execute_result"
    }
   ],
   "source": [
    "# Important features\n",
    "umportant_features = pd.DataFrame(final_clf.feature_importances_).T\n",
    "umportant_features.columns = list(train.columns)\n",
    "umportant_features = umportant_features.T\n",
    "umportant_features.columns = ['feature_importance']\n",
    "umportant_features.sort_values('feature_importance', ascending=False)"
   ]
  },
  {
   "cell_type": "markdown",
   "metadata": {},
   "source": [
    "## Conclusion:\n",
    "Organization ID is the most predictive feature for determining future user adoption, and this was followed by whether a user opted in to the marketing email list, whether a user was enabled for marketing email drip. "
   ]
  },
  {
   "cell_type": "code",
   "execution_count": null,
   "metadata": {},
   "outputs": [],
   "source": []
  }
 ],
 "metadata": {
  "kernelspec": {
   "display_name": "Python 3",
   "language": "python",
   "name": "python3"
  },
  "language_info": {
   "codemirror_mode": {
    "name": "ipython",
    "version": 3
   },
   "file_extension": ".py",
   "mimetype": "text/x-python",
   "name": "python",
   "nbconvert_exporter": "python",
   "pygments_lexer": "ipython3",
   "version": "3.6.6"
  },
  "varInspector": {
   "cols": {
    "lenName": 16,
    "lenType": 16,
    "lenVar": 40
   },
   "kernels_config": {
    "python": {
     "delete_cmd_postfix": "",
     "delete_cmd_prefix": "del ",
     "library": "var_list.py",
     "varRefreshCmd": "print(var_dic_list())"
    },
    "r": {
     "delete_cmd_postfix": ") ",
     "delete_cmd_prefix": "rm(",
     "library": "var_list.r",
     "varRefreshCmd": "cat(var_dic_list()) "
    }
   },
   "types_to_exclude": [
    "module",
    "function",
    "builtin_function_or_method",
    "instance",
    "_Feature"
   ],
   "window_display": false
  }
 },
 "nbformat": 4,
 "nbformat_minor": 2
}
