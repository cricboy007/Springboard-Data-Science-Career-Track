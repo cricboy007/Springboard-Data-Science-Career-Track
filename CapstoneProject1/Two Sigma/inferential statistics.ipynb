{
 "cells": [
  {
   "cell_type": "code",
   "execution_count": 1,
   "metadata": {
    "ExecuteTime": {
     "end_time": "2018-06-29T02:22:11.727126Z",
     "start_time": "2018-06-29T02:22:08.436014Z"
    }
   },
   "outputs": [
    {
     "data": {
      "text/html": [
       "<style>.container { width:100% !important; }</style>"
      ],
      "text/plain": [
       "<IPython.core.display.HTML object>"
      ]
     },
     "metadata": {},
     "output_type": "display_data"
    },
    {
     "data": {
      "text/html": [
       "<div>\n",
       "<style scoped>\n",
       "    .dataframe tbody tr th:only-of-type {\n",
       "        vertical-align: middle;\n",
       "    }\n",
       "\n",
       "    .dataframe tbody tr th {\n",
       "        vertical-align: top;\n",
       "    }\n",
       "\n",
       "    .dataframe thead th {\n",
       "        text-align: right;\n",
       "    }\n",
       "</style>\n",
       "<table border=\"1\" class=\"dataframe\">\n",
       "  <thead>\n",
       "    <tr style=\"text-align: right;\">\n",
       "      <th></th>\n",
       "      <th>bathrooms</th>\n",
       "      <th>bedrooms</th>\n",
       "      <th>building_id</th>\n",
       "      <th>created</th>\n",
       "      <th>description</th>\n",
       "      <th>display_address</th>\n",
       "      <th>features</th>\n",
       "      <th>interest_level</th>\n",
       "      <th>latitude</th>\n",
       "      <th>listing_id</th>\n",
       "      <th>longitude</th>\n",
       "      <th>manager_id</th>\n",
       "      <th>photos</th>\n",
       "      <th>price</th>\n",
       "      <th>street_address</th>\n",
       "    </tr>\n",
       "  </thead>\n",
       "  <tbody>\n",
       "    <tr>\n",
       "      <th>10</th>\n",
       "      <td>1.5</td>\n",
       "      <td>3</td>\n",
       "      <td>53a5b119ba8f7b61d4e010512e0dfc85</td>\n",
       "      <td>2016-06-24 07:54:24</td>\n",
       "      <td>A Brand New 3 Bedroom 1.5 bath ApartmentEnjoy These Following Apartment Features As You Rent Here? Modern Designed Bathroom w/ a Deep Spa Soaking Tub? Room to Room AC/Heat? Real Oak Hardwood Floors? Rain Forest Shower Head? SS steel Appliances w/ Chef Gas Cook Oven &amp; LG Fridge? washer /dryer in the apt? Cable Internet Ready? Granite Counter Top Kitchen w/ lot of cabinet storage spaceIt's Just A Few blocks To L Train&lt;br /&gt;&lt;br /&gt;Don't miss out!&lt;br /&gt;&lt;br /&gt;We have several great apartments in the immediate area.&lt;br /&gt;&lt;br /&gt;For additional information 687-878-2229&lt;p&gt;&lt;a  website_redacted</td>\n",
       "      <td>Metropolitan Avenue</td>\n",
       "      <td>[]</td>\n",
       "      <td>medium</td>\n",
       "      <td>40.7145</td>\n",
       "      <td>7211212</td>\n",
       "      <td>-73.9425</td>\n",
       "      <td>5ba989232d0489da1b5f2c45f6688adc</td>\n",
       "      <td>[https://photos.renthop.com/2/7211212_1ed4542ec81621d70d1061aa833e669c.jpg, https://photos.renthop.com/2/7211212_7dfc41dced69245065df83d08eed4a00.jpg, https://photos.renthop.com/2/7211212_c17853c4b869af6f53af08b0f5820b4c.jpg, https://photos.renthop.com/2/7211212_787ad8ea0c089792e7453e2121f8ac89.jpg, https://photos.renthop.com/2/7211212_2e88b0d293ee333c804c2f00536eee49.jpg]</td>\n",
       "      <td>3000</td>\n",
       "      <td>792 Metropolitan Avenue</td>\n",
       "    </tr>\n",
       "  </tbody>\n",
       "</table>\n",
       "</div>"
      ],
      "text/plain": [
       "    bathrooms  bedrooms                       building_id  \\\n",
       "10  1.5        3         53a5b119ba8f7b61d4e010512e0dfc85   \n",
       "\n",
       "                created  \\\n",
       "10  2016-06-24 07:54:24   \n",
       "\n",
       "                                                                                                                                                                                                                                                                                                                                                                                                                                                                                                                                                                                                     description  \\\n",
       "10  A Brand New 3 Bedroom 1.5 bath ApartmentEnjoy These Following Apartment Features As You Rent Here? Modern Designed Bathroom w/ a Deep Spa Soaking Tub? Room to Room AC/Heat? Real Oak Hardwood Floors? Rain Forest Shower Head? SS steel Appliances w/ Chef Gas Cook Oven & LG Fridge? washer /dryer in the apt? Cable Internet Ready? Granite Counter Top Kitchen w/ lot of cabinet storage spaceIt's Just A Few blocks To L Train<br /><br />Don't miss out!<br /><br />We have several great apartments in the immediate area.<br /><br />For additional information 687-878-2229<p><a  website_redacted    \n",
       "\n",
       "        display_address features interest_level  latitude  listing_id  \\\n",
       "10  Metropolitan Avenue  []       medium         40.7145   7211212      \n",
       "\n",
       "    longitude                        manager_id  \\\n",
       "10 -73.9425    5ba989232d0489da1b5f2c45f6688adc   \n",
       "\n",
       "                                                                                                                                                                                                                                                                                                                                                                                     photos  \\\n",
       "10  [https://photos.renthop.com/2/7211212_1ed4542ec81621d70d1061aa833e669c.jpg, https://photos.renthop.com/2/7211212_7dfc41dced69245065df83d08eed4a00.jpg, https://photos.renthop.com/2/7211212_c17853c4b869af6f53af08b0f5820b4c.jpg, https://photos.renthop.com/2/7211212_787ad8ea0c089792e7453e2121f8ac89.jpg, https://photos.renthop.com/2/7211212_2e88b0d293ee333c804c2f00536eee49.jpg]   \n",
       "\n",
       "    price           street_address  \n",
       "10  3000   792 Metropolitan Avenue  "
      ]
     },
     "execution_count": 1,
     "metadata": {},
     "output_type": "execute_result"
    }
   ],
   "source": [
    "from IPython.core.display import display, HTML\n",
    "display(HTML(\"<style>.container { width:100% !important; }</style>\"))\n",
    "\n",
    "\n",
    "import numpy as np # scientific computing with Python\n",
    "import pandas as pd # data processing and data analysis tools\n",
    "pd.set_option('display.max_colwidth', -1)\n",
    "import matplotlib.pyplot as plt\n",
    "% matplotlib inline\n",
    "import seaborn as sns\n",
    "\n",
    "train = pd.read_json(\"../Two Sigma/train.json\")\n",
    "train.head(1)\n",
    "\n"
   ]
  },
  {
   "cell_type": "code",
   "execution_count": 2,
   "metadata": {
    "ExecuteTime": {
     "end_time": "2018-06-29T02:22:11.741164Z",
     "start_time": "2018-06-29T02:22:11.730568Z"
    }
   },
   "outputs": [
    {
     "data": {
      "text/plain": [
       "bathrooms          float64\n",
       "bedrooms           int64  \n",
       "building_id        object \n",
       "created            object \n",
       "description        object \n",
       "display_address    object \n",
       "features           object \n",
       "interest_level     object \n",
       "latitude           float64\n",
       "listing_id         int64  \n",
       "longitude          float64\n",
       "manager_id         object \n",
       "photos             object \n",
       "price              int64  \n",
       "street_address     object \n",
       "dtype: object"
      ]
     },
     "execution_count": 2,
     "metadata": {},
     "output_type": "execute_result"
    }
   ],
   "source": [
    "train.dtypes"
   ]
  },
  {
   "cell_type": "code",
   "execution_count": 3,
   "metadata": {
    "ExecuteTime": {
     "end_time": "2018-06-29T02:22:11.839737Z",
     "start_time": "2018-06-29T02:22:11.744174Z"
    }
   },
   "outputs": [],
   "source": [
    "train['features_count'] = train['features'].str.len()\n",
    "train['photos_count'] = train['photos'].str.len()\n",
    "train[\"interest_level\"] = train[\"interest_level\"].astype('category')\n",
    "train[\"interest_level\"] = train[\"interest_level\"].cat.codes"
   ]
  },
  {
   "cell_type": "code",
   "execution_count": 4,
   "metadata": {
    "ExecuteTime": {
     "end_time": "2018-06-29T02:22:11.851779Z",
     "start_time": "2018-06-29T02:22:11.841742Z"
    }
   },
   "outputs": [
    {
     "data": {
      "text/plain": [
       "bathrooms          float64\n",
       "bedrooms           int64  \n",
       "building_id        object \n",
       "created            object \n",
       "description        object \n",
       "display_address    object \n",
       "features           object \n",
       "interest_level     int8   \n",
       "latitude           float64\n",
       "listing_id         int64  \n",
       "longitude          float64\n",
       "manager_id         object \n",
       "photos             object \n",
       "price              int64  \n",
       "street_address     object \n",
       "features_count     int64  \n",
       "photos_count       int64  \n",
       "dtype: object"
      ]
     },
     "execution_count": 4,
     "metadata": {},
     "output_type": "execute_result"
    }
   ],
   "source": [
    "train.dtypes"
   ]
  },
  {
   "cell_type": "code",
   "execution_count": 5,
   "metadata": {
    "ExecuteTime": {
     "end_time": "2018-06-29T02:22:11.929353Z",
     "start_time": "2018-06-29T02:22:11.854778Z"
    }
   },
   "outputs": [
    {
     "data": {
      "text/html": [
       "<div>\n",
       "<style scoped>\n",
       "    .dataframe tbody tr th:only-of-type {\n",
       "        vertical-align: middle;\n",
       "    }\n",
       "\n",
       "    .dataframe tbody tr th {\n",
       "        vertical-align: top;\n",
       "    }\n",
       "\n",
       "    .dataframe thead th {\n",
       "        text-align: right;\n",
       "    }\n",
       "</style>\n",
       "<table border=\"1\" class=\"dataframe\">\n",
       "  <thead>\n",
       "    <tr style=\"text-align: right;\">\n",
       "      <th></th>\n",
       "      <th>bathrooms</th>\n",
       "      <th>bedrooms</th>\n",
       "      <th>interest_level</th>\n",
       "      <th>price</th>\n",
       "      <th>features_count</th>\n",
       "      <th>photos_count</th>\n",
       "    </tr>\n",
       "  </thead>\n",
       "  <tbody>\n",
       "    <tr>\n",
       "      <th>bathrooms</th>\n",
       "      <td>1.000000</td>\n",
       "      <td>0.533446</td>\n",
       "      <td>-0.013183</td>\n",
       "      <td>0.069661</td>\n",
       "      <td>0.230389</td>\n",
       "      <td>0.147980</td>\n",
       "    </tr>\n",
       "    <tr>\n",
       "      <th>bedrooms</th>\n",
       "      <td>0.533446</td>\n",
       "      <td>1.000000</td>\n",
       "      <td>0.030213</td>\n",
       "      <td>0.051788</td>\n",
       "      <td>0.129996</td>\n",
       "      <td>0.154515</td>\n",
       "    </tr>\n",
       "    <tr>\n",
       "      <th>interest_level</th>\n",
       "      <td>-0.013183</td>\n",
       "      <td>0.030213</td>\n",
       "      <td>1.000000</td>\n",
       "      <td>-0.005527</td>\n",
       "      <td>0.060237</td>\n",
       "      <td>0.019001</td>\n",
       "    </tr>\n",
       "    <tr>\n",
       "      <th>price</th>\n",
       "      <td>0.069661</td>\n",
       "      <td>0.051788</td>\n",
       "      <td>-0.005527</td>\n",
       "      <td>1.000000</td>\n",
       "      <td>0.024273</td>\n",
       "      <td>0.004559</td>\n",
       "    </tr>\n",
       "    <tr>\n",
       "      <th>features_count</th>\n",
       "      <td>0.230389</td>\n",
       "      <td>0.129996</td>\n",
       "      <td>0.060237</td>\n",
       "      <td>0.024273</td>\n",
       "      <td>1.000000</td>\n",
       "      <td>0.158999</td>\n",
       "    </tr>\n",
       "    <tr>\n",
       "      <th>photos_count</th>\n",
       "      <td>0.147980</td>\n",
       "      <td>0.154515</td>\n",
       "      <td>0.019001</td>\n",
       "      <td>0.004559</td>\n",
       "      <td>0.158999</td>\n",
       "      <td>1.000000</td>\n",
       "    </tr>\n",
       "  </tbody>\n",
       "</table>\n",
       "</div>"
      ],
      "text/plain": [
       "                bathrooms  bedrooms  interest_level     price  features_count  \\\n",
       "bathrooms       1.000000   0.533446 -0.013183        0.069661  0.230389         \n",
       "bedrooms        0.533446   1.000000  0.030213        0.051788  0.129996         \n",
       "interest_level -0.013183   0.030213  1.000000       -0.005527  0.060237         \n",
       "price           0.069661   0.051788 -0.005527        1.000000  0.024273         \n",
       "features_count  0.230389   0.129996  0.060237        0.024273  1.000000         \n",
       "photos_count    0.147980   0.154515  0.019001        0.004559  0.158999         \n",
       "\n",
       "                photos_count  \n",
       "bathrooms       0.147980      \n",
       "bedrooms        0.154515      \n",
       "interest_level  0.019001      \n",
       "price           0.004559      \n",
       "features_count  0.158999      \n",
       "photos_count    1.000000      "
      ]
     },
     "execution_count": 5,
     "metadata": {},
     "output_type": "execute_result"
    }
   ],
   "source": [
    "train.drop(['latitude', 'longitude', 'listing_id'], axis=1, inplace=True)\n",
    "train[train['interest_level'].notnull()].corr()"
   ]
  },
  {
   "cell_type": "code",
   "execution_count": 6,
   "metadata": {
    "ExecuteTime": {
     "end_time": "2018-06-29T02:22:11.953050Z",
     "start_time": "2018-06-29T02:22:11.932997Z"
    }
   },
   "outputs": [],
   "source": [
    "train = train[train['interest_level'].notnull()]"
   ]
  },
  {
   "cell_type": "code",
   "execution_count": 7,
   "metadata": {
    "ExecuteTime": {
     "end_time": "2018-06-29T02:22:12.003839Z",
     "start_time": "2018-06-29T02:22:11.956230Z"
    }
   },
   "outputs": [
    {
     "data": {
      "text/plain": [
       "(34610, 14)"
      ]
     },
     "execution_count": 7,
     "metadata": {},
     "output_type": "execute_result"
    },
    {
     "data": {
      "text/plain": [
       "(14742, 14)"
      ]
     },
     "execution_count": 7,
     "metadata": {},
     "output_type": "execute_result"
    }
   ],
   "source": [
    "train['price'].dropna(inplace=True)\n",
    "set1 = train[train['price'] < 3830]\n",
    "set2 = train[train['price'] >= 3830]\n",
    "set1.shape\n",
    "set2.shape"
   ]
  },
  {
   "cell_type": "code",
   "execution_count": 8,
   "metadata": {
    "ExecuteTime": {
     "end_time": "2018-06-29T02:22:12.011772Z",
     "start_time": "2018-06-29T02:22:12.006758Z"
    }
   },
   "outputs": [],
   "source": [
    "from scipy import stats"
   ]
  },
  {
   "cell_type": "code",
   "execution_count": 9,
   "metadata": {
    "ExecuteTime": {
     "end_time": "2018-06-29T02:22:12.029831Z",
     "start_time": "2018-06-29T02:22:12.014821Z"
    }
   },
   "outputs": [
    {
     "data": {
      "text/plain": [
       "Ttest_indResult(statistic=5.298643571501954, pvalue=1.1716559094536672e-07)"
      ]
     },
     "execution_count": 9,
     "metadata": {},
     "output_type": "execute_result"
    }
   ],
   "source": [
    "stats.ttest_ind(set1['interest_level'], set2['interest_level'])"
   ]
  },
  {
   "cell_type": "code",
   "execution_count": null,
   "metadata": {},
   "outputs": [],
   "source": []
  }
 ],
 "metadata": {
  "kernelspec": {
   "display_name": "Python 3",
   "language": "python",
   "name": "python3"
  },
  "language_info": {
   "codemirror_mode": {
    "name": "ipython",
    "version": 3
   },
   "file_extension": ".py",
   "mimetype": "text/x-python",
   "name": "python",
   "nbconvert_exporter": "python",
   "pygments_lexer": "ipython3",
   "version": "3.6.4"
  }
 },
 "nbformat": 4,
 "nbformat_minor": 2
}
