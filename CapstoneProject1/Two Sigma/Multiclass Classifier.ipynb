{
 "cells": [
  {
   "cell_type": "code",
   "execution_count": 1,
   "metadata": {
    "ExecuteTime": {
     "end_time": "2018-08-04T04:20:29.861932Z",
     "start_time": "2018-08-04T04:20:26.136773Z"
    },
    "_cell_guid": "317d7a86-7851-cb29-843d-96899eeecdcd",
    "_uuid": "fe5f0fb9d12babdb5eb35a4c7a0c72cb2ab3cb96",
    "code_folding": []
   },
   "outputs": [],
   "source": [
    "import numpy as np # linear algebra\n",
    "import pandas as pd # data processing, CSV file I/O (e.g. pd.read_csv)\n",
    "import matplotlib.pyplot as plt\n",
    "% matplotlib inline\n",
    "import seaborn as sns\n",
    "sns.set(style=\"whitegrid\", color_codes=True)\n",
    "sns.set(font_scale=1)\n",
    "\n",
    "train = pd.read_json(r\"C:\\JupyterNotebooks\\Two Sigma\\train.json\")\n",
    "\n",
    "# train = train[5000:]\n",
    "# target = train[:5000]\n"
   ]
  },
  {
   "cell_type": "code",
   "execution_count": 2,
   "metadata": {
    "ExecuteTime": {
     "end_time": "2018-08-04T04:20:29.893516Z",
     "start_time": "2018-08-04T04:20:29.864439Z"
    },
    "_cell_guid": "ed645430-1c9d-36db-24cc-b09f8e02720a",
    "_uuid": "eff9358c107ff0a06cfd45cc1180fba50a2827c7"
   },
   "outputs": [
    {
     "name": "stdout",
     "output_type": "stream",
     "text": [
      "There are 49352 rows and 14 attributes.\n"
     ]
    }
   ],
   "source": [
    "# target = target.set_index('listing_id')\n",
    "train = train.set_index('listing_id')\n",
    "print (f'There are {train.shape[0]} rows and {train.shape[1]} attributes.')\n",
    "# print (f'There are {target.shape[0]} rows and {target.shape[1]} attributes.')"
   ]
  },
  {
   "cell_type": "code",
   "execution_count": 3,
   "metadata": {
    "ExecuteTime": {
     "end_time": "2018-08-04T04:20:31.252047Z",
     "start_time": "2018-08-04T04:20:29.896022Z"
    },
    "_cell_guid": "b5b37d9f-7d46-9c10-172b-1f73cf418817",
    "_uuid": "02b5c8b831fecbe75c2c5637fa6a737cc62a6e74",
    "code_folding": [
     38
    ]
   },
   "outputs": [],
   "source": [
    "from sklearn import svm\n",
    "from sklearn.ensemble import RandomForestClassifier\n",
    "from sklearn.ensemble import GradientBoostingClassifier\n",
    "from sklearn import model_selection\n",
    "from sklearn.model_selection import train_test_split\n",
    "from textblob import TextBlob\n",
    "from sklearn.metrics import accuracy_score\n",
    "import time\n",
    "\n",
    "# train = pd.read_json(r\"C:\\JupyterNotebooks\\Two Sigma\\train.json\")\n",
    "# test = pd.read_json(r\"C:\\JupyterNotebooks\\Two Sigma\\test.json\")\n",
    "# print (f'There are {train.shape[0]} rows and {train.shape[1]} attributes.')\n",
    "# print (f'There are {test.shape[0]} rows and {test.shape[1]} attributes.')\n",
    "\n",
    "def pre_processing(data):\n",
    "       \n",
    "    data['nb_images'] = data['photos'].apply(len)\n",
    "    data['nb_features'] = data['features'].apply(len)\n",
    "    data['nb_description'] = data['description'].apply(lambda x: len(x.split(' ')))\n",
    "    data['description_len'] = data['description'].apply(len)\n",
    "    \n",
    "    def room_price(x, y):\n",
    "        if y == 0:\n",
    "            return 0\n",
    "        return x/y\n",
    "    \n",
    "    def sentiment_analysis(x):\n",
    "        if len(x) == 0:\n",
    "            return 0\n",
    "        return TextBlob(x[0]).sentiment.polarity\n",
    "    \n",
    "    data = data.join(data['description'].apply(\n",
    "                         lambda x: TextBlob(x).sentiment.polarity).rename('sentiment'))\n",
    "    data['price_room'] = data.apply(lambda row: \n",
    "                                    room_price(row['price'],row['bedrooms']), axis=1)\n",
    "       \n",
    "    return data\n",
    "\n",
    "def print_scores(test_name, train, test):\n",
    "    print ('{0} train score: {1}\\n{0} test score: {2}\\n'.format(test_name,\n",
    "                                                               train,\n",
    "                                                               test))\n",
    "\n"
   ]
  },
  {
   "cell_type": "code",
   "execution_count": 4,
   "metadata": {
    "ExecuteTime": {
     "end_time": "2018-08-04T04:21:48.922855Z",
     "start_time": "2018-08-04T04:20:31.254552Z"
    }
   },
   "outputs": [],
   "source": [
    "processed_train_data = pre_processing(train)\n",
    "# processed_target_data = pre_processing(target)"
   ]
  },
  {
   "cell_type": "code",
   "execution_count": 5,
   "metadata": {
    "ExecuteTime": {
     "end_time": "2018-08-04T04:21:49.996661Z",
     "start_time": "2018-08-04T04:21:48.925209Z"
    }
   },
   "outputs": [
    {
     "data": {
      "text/plain": [
       "ExtraTreesClassifier(bootstrap=False, class_weight=None, criterion='gini',\n",
       "           max_depth=None, max_features='auto', max_leaf_nodes=None,\n",
       "           min_impurity_decrease=0.0, min_impurity_split=None,\n",
       "           min_samples_leaf=1, min_samples_split=2,\n",
       "           min_weight_fraction_leaf=0.0, n_estimators=10, n_jobs=1,\n",
       "           oob_score=False, random_state=None, verbose=0, warm_start=False)"
      ]
     },
     "execution_count": 5,
     "metadata": {},
     "output_type": "execute_result"
    },
    {
     "name": "stdout",
     "output_type": "stream",
     "text": [
      "[0.0186459  0.01805644 0.14115043 0.11466895 0.10907629 0.11117747\n",
      " 0.09195093 0.08790549 0.10161844 0.1055476  0.10020207]\n"
     ]
    },
    {
     "data": {
      "text/plain": [
       "(<Figure size 936x432 with 1 Axes>,\n",
       " <matplotlib.axes._subplots.AxesSubplot at 0x1a5388f9048>)"
      ]
     },
     "execution_count": 5,
     "metadata": {},
     "output_type": "execute_result"
    },
    {
     "data": {
      "text/plain": [
       "Text(0.5,1,'Feature ranking')"
      ]
     },
     "execution_count": 5,
     "metadata": {},
     "output_type": "execute_result"
    },
    {
     "data": {
      "text/plain": [
       "Text(0,0.5,'Importance degree')"
      ]
     },
     "execution_count": 5,
     "metadata": {},
     "output_type": "execute_result"
    },
    {
     "data": {
      "text/plain": [
       "Text(0.5,0,'Features')"
      ]
     },
     "execution_count": 5,
     "metadata": {},
     "output_type": "execute_result"
    },
    {
     "data": {
      "text/plain": [
       "([<matplotlib.axis.XTick at 0x1a5388ee4a8>,\n",
       "  <matplotlib.axis.XTick at 0x1a5388f6358>,\n",
       "  <matplotlib.axis.XTick at 0x1a5388f64a8>,\n",
       "  <matplotlib.axis.XTick at 0x1a5388ff908>,\n",
       "  <matplotlib.axis.XTick at 0x1a5389003c8>,\n",
       "  <matplotlib.axis.XTick at 0x1a538900dd8>,\n",
       "  <matplotlib.axis.XTick at 0x1a5389005f8>,\n",
       "  <matplotlib.axis.XTick at 0x1a5388ff588>,\n",
       "  <matplotlib.axis.XTick at 0x1a538902438>,\n",
       "  <matplotlib.axis.XTick at 0x1a538902e48>,\n",
       "  <matplotlib.axis.XTick at 0x1a538903908>],\n",
       " <a list of 11 Text xticklabel objects>)"
      ]
     },
     "execution_count": 5,
     "metadata": {},
     "output_type": "execute_result"
    },
    {
     "data": {
      "text/plain": [
       "<BarContainer object of 11 artists>"
      ]
     },
     "execution_count": 5,
     "metadata": {},
     "output_type": "execute_result"
    },
    {
     "data": {
      "image/png": "[encoded data removed]",
      "text/plain": [
       "<Figure size 936x432 with 1 Axes>"
      ]
     },
     "metadata": {},
     "output_type": "display_data"
    }
   ],
   "source": [
    "from sklearn.ensemble import ExtraTreesClassifier\n",
    "from xgboost import XGBClassifier\n",
    "from xgboost import plot_importance\n",
    "from matplotlib import pyplot\n",
    "\n",
    "numerical_features = processed_train_data[['bathrooms', 'bedrooms', 'price', 'price_room',\n",
    "                            'latitude','longitude', 'nb_images','nb_features', \n",
    "                            'nb_description', 'description_len','sentiment']]\n",
    "\n",
    "# Fit an Extra Trees model to the data\n",
    "model = ExtraTreesClassifier()\n",
    "model.fit(numerical_features, processed_train_data['interest_level'])\n",
    "\n",
    "# Display the relative importance of each attribute\n",
    "print (model.feature_importances_)\n",
    "\n",
    "# Plot feature importance\n",
    "plt.subplots(figsize=(13, 6))\n",
    "plt.title('Feature ranking', fontsize = 18)\n",
    "plt.ylabel('Importance degree', fontsize = 13)\n",
    "plt.xlabel(\"Features\", fontsize = 13)\n",
    "\n",
    "feature_names = numerical_features.columns\n",
    "plt.xticks(range(numerical_features.shape[1]), feature_names, fontsize = 8)\n",
    "pyplot.bar(range(len(model.feature_importances_)), model.feature_importances_)\n",
    "pyplot.show()"
   ]
  },
  {
   "cell_type": "code",
   "execution_count": 6,
   "metadata": {
    "ExecuteTime": {
     "end_time": "2018-08-04T04:21:50.005179Z",
     "start_time": "2018-08-04T04:21:49.999164Z"
    }
   },
   "outputs": [],
   "source": [
    "global important_features\n",
    "important_features = ['bathrooms', 'bedrooms', 'price', 'price_room',\n",
    "                      'latitude','longitude', 'nb_images','nb_features',\n",
    "                      'sentiment', 'nb_description', 'description_len']"
   ]
  },
  {
   "cell_type": "code",
   "execution_count": 7,
   "metadata": {
    "ExecuteTime": {
     "end_time": "2018-08-04T04:52:02.334352Z",
     "start_time": "2018-08-04T04:21:50.009406Z"
    }
   },
   "outputs": [
    {
     "name": "stdout",
     "output_type": "stream",
     "text": [
      "Support Vector Machine train score: 0.969251032142043\n",
      "Support Vector Machine test score: 0.7070205652922703\n",
      "\n",
      "Random Forest train score: 0.9620323700007598\n",
      "Random Forest test score: 0.7176577854320737\n",
      "\n",
      "Gradient Boosting Classifier train score: 0.7040095235682987\n",
      "Gradient Boosting Classifier test score: 0.704386586971938\n",
      "\n"
     ]
    }
   ],
   "source": [
    "\n",
    "train_data = processed_train_data\n",
    "# target_data = processed_target_data\n",
    "\n",
    "test_size=0.2\n",
    "random_state=19\n",
    "\n",
    "# Split data into X and y\n",
    "\n",
    "X = train_data[important_features]\n",
    "y = train_data['interest_level']\n",
    "y.columns = ['interest_level']    \n",
    "\n",
    "# X_target = train_data[important_features]\n",
    "# y_target = train_data['interest_level']\n",
    "# y_target.columns = ['interest_level']  \n",
    "\n",
    "\n",
    "# Split data into train and test sets\n",
    "X_train, X_test, y_train, y_test = train_test_split(X, y, test_size=test_size,\n",
    "                                                    random_state=random_state)\n",
    "\n",
    "# Support vector machine\n",
    "svm_model = svm.SVC(decision_function_shape='ovo', tol=0.00000001)\n",
    "svm_model = svm_model.fit(X_train, y_train)\n",
    "print_scores(\"Support Vector Machine\",\n",
    "             svm_model.score(X_train, y_train),\n",
    "             accuracy_score(y_test, svm_model.predict(X_test)))\n",
    "\n",
    "# Random Forest\n",
    "random_forest = RandomForestClassifier(n_estimators=10)\n",
    "random_forest = random_forest.fit(X_train, y_train)\n",
    "print_scores(\"Random Forest\",\n",
    "             random_forest.score(X_train, y_train),\n",
    "             accuracy_score(y_test, random_forest.predict(X_test)))\n",
    "\n",
    "# GradientBoostingClassifier\n",
    "gradientB_model = GradientBoostingClassifier(n_estimators=20,\n",
    "                                  learning_rate=1.0,\n",
    "                                  max_depth=1,\n",
    "                                  random_state=0).fit(X_train, y_train)\n",
    "gradientB_model = gradientB_model.fit(X_train, y_train)\n",
    "print_scores(\"Gradient Boosting Classifier\",\n",
    "             gradientB_model.score(X_train, y_train),\n",
    "             accuracy_score(y_test, gradientB_model.predict(X_test)))"
   ]
  },
  {
   "cell_type": "code",
   "execution_count": null,
   "metadata": {},
   "outputs": [],
   "source": []
  }
 ],
 "metadata": {
  "_change_revision": 0,
  "_is_fork": false,
  "kernelspec": {
   "display_name": "Python 3",
   "language": "python",
   "name": "python3"
  },
  "language_info": {
   "codemirror_mode": {
    "name": "ipython",
    "version": 3
   },
   "file_extension": ".py",
   "mimetype": "text/x-python",
   "name": "python",
   "nbconvert_exporter": "python",
   "pygments_lexer": "ipython3",
   "version": "3.6.5"
  },
  "varInspector": {
   "cols": {
    "lenName": 16,
    "lenType": 16,
    "lenVar": 40
   },
   "kernels_config": {
    "python": {
     "delete_cmd_postfix": "",
     "delete_cmd_prefix": "del ",
     "library": "var_list.py",
     "varRefreshCmd": "print(var_dic_list())"
    },
    "r": {
     "delete_cmd_postfix": ") ",
     "delete_cmd_prefix": "rm(",
     "library": "var_list.r",
     "varRefreshCmd": "cat(var_dic_list()) "
    }
   },
   "types_to_exclude": [
    "module",
    "function",
    "builtin_function_or_method",
    "instance",
    "_Feature"
   ],
   "window_display": false
  }
 },
 "nbformat": 4,
 "nbformat_minor": 1
}
