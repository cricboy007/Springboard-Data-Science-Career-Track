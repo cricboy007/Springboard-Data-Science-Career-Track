{
 "cells": [
  {
   "cell_type": "code",
   "execution_count": 1,
   "metadata": {
    "ExecuteTime": {
     "end_time": "2018-11-04T04:49:26.729515Z",
     "start_time": "2018-11-04T04:49:18.617117Z"
    }
   },
   "outputs": [
    {
     "data": {
      "text/html": [
       "<div>\n",
       "<style scoped>\n",
       "    .dataframe tbody tr th:only-of-type {\n",
       "        vertical-align: middle;\n",
       "    }\n",
       "\n",
       "    .dataframe tbody tr th {\n",
       "        vertical-align: top;\n",
       "    }\n",
       "\n",
       "    .dataframe thead th {\n",
       "        text-align: right;\n",
       "    }\n",
       "</style>\n",
       "<table border=\"1\" class=\"dataframe\">\n",
       "  <thead>\n",
       "    <tr style=\"text-align: right;\">\n",
       "      <th></th>\n",
       "      <th>Date received</th>\n",
       "      <th>Product</th>\n",
       "      <th>Sub-product</th>\n",
       "      <th>Issue</th>\n",
       "      <th>Sub-issue</th>\n",
       "      <th>Consumer complaint narrative</th>\n",
       "      <th>Company public response</th>\n",
       "      <th>Company</th>\n",
       "      <th>State</th>\n",
       "      <th>ZIP code</th>\n",
       "      <th>Tags</th>\n",
       "      <th>Consumer consent provided?</th>\n",
       "      <th>Submitted via</th>\n",
       "      <th>Date sent to company</th>\n",
       "      <th>Company response to consumer</th>\n",
       "      <th>Timely response?</th>\n",
       "      <th>Consumer disputed?</th>\n",
       "      <th>Complaint ID</th>\n",
       "    </tr>\n",
       "  </thead>\n",
       "  <tbody>\n",
       "    <tr>\n",
       "      <th>0</th>\n",
       "      <td>03/12/2014</td>\n",
       "      <td>Mortgage</td>\n",
       "      <td>Other mortgage</td>\n",
       "      <td>Loan modification,collection,foreclosure</td>\n",
       "      <td>NaN</td>\n",
       "      <td>NaN</td>\n",
       "      <td>NaN</td>\n",
       "      <td>M&amp;T BANK CORPORATION</td>\n",
       "      <td>MI</td>\n",
       "      <td>48382</td>\n",
       "      <td>NaN</td>\n",
       "      <td>NaN</td>\n",
       "      <td>Referral</td>\n",
       "      <td>03/17/2014</td>\n",
       "      <td>Closed with explanation</td>\n",
       "      <td>Yes</td>\n",
       "      <td>No</td>\n",
       "      <td>759217</td>\n",
       "    </tr>\n",
       "    <tr>\n",
       "      <th>1</th>\n",
       "      <td>01/19/2017</td>\n",
       "      <td>Student loan</td>\n",
       "      <td>Federal student loan servicing</td>\n",
       "      <td>Dealing with my lender or servicer</td>\n",
       "      <td>Received bad information about my loan</td>\n",
       "      <td>When my loan was switched over to Navient i wa...</td>\n",
       "      <td>NaN</td>\n",
       "      <td>Navient Solutions, LLC.</td>\n",
       "      <td>LA</td>\n",
       "      <td>NaN</td>\n",
       "      <td>NaN</td>\n",
       "      <td>Consent provided</td>\n",
       "      <td>Web</td>\n",
       "      <td>01/19/2017</td>\n",
       "      <td>Closed with explanation</td>\n",
       "      <td>Yes</td>\n",
       "      <td>No</td>\n",
       "      <td>2296496</td>\n",
       "    </tr>\n",
       "    <tr>\n",
       "      <th>2</th>\n",
       "      <td>04/06/2018</td>\n",
       "      <td>Credit card or prepaid card</td>\n",
       "      <td>General-purpose credit card or charge card</td>\n",
       "      <td>Other features, terms, or problems</td>\n",
       "      <td>Other problem</td>\n",
       "      <td>I tried to sign up for a spending monitoring p...</td>\n",
       "      <td>NaN</td>\n",
       "      <td>CAPITAL ONE FINANCIAL CORPORATION</td>\n",
       "      <td>VA</td>\n",
       "      <td>NaN</td>\n",
       "      <td>Older American</td>\n",
       "      <td>Consent provided</td>\n",
       "      <td>Web</td>\n",
       "      <td>04/06/2018</td>\n",
       "      <td>Closed with explanation</td>\n",
       "      <td>Yes</td>\n",
       "      <td>NaN</td>\n",
       "      <td>2866101</td>\n",
       "    </tr>\n",
       "    <tr>\n",
       "      <th>3</th>\n",
       "      <td>06/08/2014</td>\n",
       "      <td>Credit card</td>\n",
       "      <td>NaN</td>\n",
       "      <td>Bankruptcy</td>\n",
       "      <td>NaN</td>\n",
       "      <td>NaN</td>\n",
       "      <td>NaN</td>\n",
       "      <td>AMERICAN EXPRESS COMPANY</td>\n",
       "      <td>ID</td>\n",
       "      <td>83854</td>\n",
       "      <td>Older American</td>\n",
       "      <td>NaN</td>\n",
       "      <td>Web</td>\n",
       "      <td>06/10/2014</td>\n",
       "      <td>Closed with explanation</td>\n",
       "      <td>Yes</td>\n",
       "      <td>Yes</td>\n",
       "      <td>885638</td>\n",
       "    </tr>\n",
       "    <tr>\n",
       "      <th>4</th>\n",
       "      <td>09/13/2014</td>\n",
       "      <td>Debt collection</td>\n",
       "      <td>Credit card</td>\n",
       "      <td>Communication tactics</td>\n",
       "      <td>Frequent or repeated calls</td>\n",
       "      <td>NaN</td>\n",
       "      <td>NaN</td>\n",
       "      <td>CITIBANK, N.A.</td>\n",
       "      <td>VA</td>\n",
       "      <td>23233</td>\n",
       "      <td>NaN</td>\n",
       "      <td>NaN</td>\n",
       "      <td>Web</td>\n",
       "      <td>09/13/2014</td>\n",
       "      <td>Closed with explanation</td>\n",
       "      <td>Yes</td>\n",
       "      <td>Yes</td>\n",
       "      <td>1027760</td>\n",
       "    </tr>\n",
       "  </tbody>\n",
       "</table>\n",
       "</div>"
      ],
      "text/plain": [
       "  Date received                      Product  \\\n",
       "0    03/12/2014                     Mortgage   \n",
       "1    01/19/2017                 Student loan   \n",
       "2    04/06/2018  Credit card or prepaid card   \n",
       "3    06/08/2014                  Credit card   \n",
       "4    09/13/2014              Debt collection   \n",
       "\n",
       "                                  Sub-product  \\\n",
       "0                              Other mortgage   \n",
       "1              Federal student loan servicing   \n",
       "2  General-purpose credit card or charge card   \n",
       "3                                         NaN   \n",
       "4                                 Credit card   \n",
       "\n",
       "                                      Issue  \\\n",
       "0  Loan modification,collection,foreclosure   \n",
       "1        Dealing with my lender or servicer   \n",
       "2        Other features, terms, or problems   \n",
       "3                                Bankruptcy   \n",
       "4                     Communication tactics   \n",
       "\n",
       "                                Sub-issue  \\\n",
       "0                                     NaN   \n",
       "1  Received bad information about my loan   \n",
       "2                           Other problem   \n",
       "3                                     NaN   \n",
       "4              Frequent or repeated calls   \n",
       "\n",
       "                        Consumer complaint narrative Company public response  \\\n",
       "0                                                NaN                     NaN   \n",
       "1  When my loan was switched over to Navient i wa...                     NaN   \n",
       "2  I tried to sign up for a spending monitoring p...                     NaN   \n",
       "3                                                NaN                     NaN   \n",
       "4                                                NaN                     NaN   \n",
       "\n",
       "                             Company State ZIP code            Tags  \\\n",
       "0               M&T BANK CORPORATION    MI    48382             NaN   \n",
       "1            Navient Solutions, LLC.    LA      NaN             NaN   \n",
       "2  CAPITAL ONE FINANCIAL CORPORATION    VA      NaN  Older American   \n",
       "3           AMERICAN EXPRESS COMPANY    ID    83854  Older American   \n",
       "4                     CITIBANK, N.A.    VA    23233             NaN   \n",
       "\n",
       "  Consumer consent provided? Submitted via Date sent to company  \\\n",
       "0                        NaN      Referral           03/17/2014   \n",
       "1           Consent provided           Web           01/19/2017   \n",
       "2           Consent provided           Web           04/06/2018   \n",
       "3                        NaN           Web           06/10/2014   \n",
       "4                        NaN           Web           09/13/2014   \n",
       "\n",
       "  Company response to consumer Timely response? Consumer disputed?  \\\n",
       "0      Closed with explanation              Yes                 No   \n",
       "1      Closed with explanation              Yes                 No   \n",
       "2      Closed with explanation              Yes                NaN   \n",
       "3      Closed with explanation              Yes                Yes   \n",
       "4      Closed with explanation              Yes                Yes   \n",
       "\n",
       "   Complaint ID  \n",
       "0        759217  \n",
       "1       2296496  \n",
       "2       2866101  \n",
       "3        885638  \n",
       "4       1027760  "
      ]
     },
     "execution_count": 1,
     "metadata": {},
     "output_type": "execute_result"
    }
   ],
   "source": [
    "import pandas as pd\n",
    "df = pd.read_csv('Consumer_Complaints.csv')\n",
    "df.head()"
   ]
  },
  {
   "cell_type": "code",
   "execution_count": 2,
   "metadata": {
    "ExecuteTime": {
     "end_time": "2018-11-04T04:49:26.735282Z",
     "start_time": "2018-11-04T04:49:26.731324Z"
    }
   },
   "outputs": [
    {
     "data": {
      "text/plain": [
       "Index(['Date received', 'Product', 'Sub-product', 'Issue', 'Sub-issue',\n",
       "       'Consumer complaint narrative', 'Company public response', 'Company',\n",
       "       'State', 'ZIP code', 'Tags', 'Consumer consent provided?',\n",
       "       'Submitted via', 'Date sent to company', 'Company response to consumer',\n",
       "       'Timely response?', 'Consumer disputed?', 'Complaint ID'],\n",
       "      dtype='object')"
      ]
     },
     "execution_count": 2,
     "metadata": {},
     "output_type": "execute_result"
    }
   ],
   "source": [
    "df.columns"
   ]
  },
  {
   "cell_type": "code",
   "execution_count": 3,
   "metadata": {
    "ExecuteTime": {
     "end_time": "2018-11-04T04:49:27.792525Z",
     "start_time": "2018-11-04T04:49:26.737230Z"
    }
   },
   "outputs": [
    {
     "name": "stdout",
     "output_type": "stream",
     "text": [
      "<class 'pandas.core.frame.DataFrame'>\n",
      "RangeIndex: 1152267 entries, 0 to 1152266\n",
      "Data columns (total 18 columns):\n",
      "Date received                   1152267 non-null object\n",
      "Product                         1152267 non-null object\n",
      "Sub-product                     917100 non-null object\n",
      "Issue                           1152267 non-null object\n",
      "Sub-issue                       638186 non-null object\n",
      "Consumer complaint narrative    335659 non-null object\n",
      "Company public response         383414 non-null object\n",
      "Company                         1152267 non-null object\n",
      "State                           1136914 non-null object\n",
      "ZIP code                        1062465 non-null object\n",
      "Tags                            157795 non-null object\n",
      "Consumer consent provided?      595567 non-null object\n",
      "Submitted via                   1152267 non-null object\n",
      "Date sent to company            1152267 non-null object\n",
      "Company response to consumer    1152261 non-null object\n",
      "Timely response?                1152267 non-null object\n",
      "Consumer disputed?              768529 non-null object\n",
      "Complaint ID                    1152267 non-null int64\n",
      "dtypes: int64(1), object(17)\n",
      "memory usage: 158.2+ MB\n"
     ]
    }
   ],
   "source": [
    "df.info()"
   ]
  },
  {
   "cell_type": "code",
   "execution_count": 4,
   "metadata": {
    "ExecuteTime": {
     "end_time": "2018-11-04T04:49:27.924661Z",
     "start_time": "2018-11-04T04:49:27.794357Z"
    }
   },
   "outputs": [],
   "source": [
    "# remove missing values from Consumer complaint narrative\n",
    "from io import StringIO\n",
    "col = ['Product', 'Consumer complaint narrative']\n",
    "df = df[col]\n",
    "df = df[pd.notnull(df['Consumer complaint narrative'])]\n",
    "df.columns = ['Product', 'Consumer_complaint_narrative']"
   ]
  },
  {
   "cell_type": "code",
   "execution_count": 5,
   "metadata": {
    "ExecuteTime": {
     "end_time": "2018-11-04T04:49:28.018657Z",
     "start_time": "2018-11-04T04:49:27.926480Z"
    }
   },
   "outputs": [
    {
     "data": {
      "text/html": [
       "<div>\n",
       "<style scoped>\n",
       "    .dataframe tbody tr th:only-of-type {\n",
       "        vertical-align: middle;\n",
       "    }\n",
       "\n",
       "    .dataframe tbody tr th {\n",
       "        vertical-align: top;\n",
       "    }\n",
       "\n",
       "    .dataframe thead th {\n",
       "        text-align: right;\n",
       "    }\n",
       "</style>\n",
       "<table border=\"1\" class=\"dataframe\">\n",
       "  <thead>\n",
       "    <tr style=\"text-align: right;\">\n",
       "      <th></th>\n",
       "      <th>Product</th>\n",
       "      <th>Consumer_complaint_narrative</th>\n",
       "      <th>category_id</th>\n",
       "    </tr>\n",
       "  </thead>\n",
       "  <tbody>\n",
       "    <tr>\n",
       "      <th>1</th>\n",
       "      <td>Student loan</td>\n",
       "      <td>When my loan was switched over to Navient i wa...</td>\n",
       "      <td>0</td>\n",
       "    </tr>\n",
       "    <tr>\n",
       "      <th>2</th>\n",
       "      <td>Credit card or prepaid card</td>\n",
       "      <td>I tried to sign up for a spending monitoring p...</td>\n",
       "      <td>1</td>\n",
       "    </tr>\n",
       "    <tr>\n",
       "      <th>7</th>\n",
       "      <td>Mortgage</td>\n",
       "      <td>My mortgage is with BB &amp; T Bank, recently I ha...</td>\n",
       "      <td>2</td>\n",
       "    </tr>\n",
       "    <tr>\n",
       "      <th>13</th>\n",
       "      <td>Mortgage</td>\n",
       "      <td>The entire lending experience with Citizens Ba...</td>\n",
       "      <td>2</td>\n",
       "    </tr>\n",
       "    <tr>\n",
       "      <th>14</th>\n",
       "      <td>Credit reporting</td>\n",
       "      <td>My credit score has gone down XXXX points in t...</td>\n",
       "      <td>3</td>\n",
       "    </tr>\n",
       "  </tbody>\n",
       "</table>\n",
       "</div>"
      ],
      "text/plain": [
       "                        Product  \\\n",
       "1                  Student loan   \n",
       "2   Credit card or prepaid card   \n",
       "7                      Mortgage   \n",
       "13                     Mortgage   \n",
       "14             Credit reporting   \n",
       "\n",
       "                         Consumer_complaint_narrative  category_id  \n",
       "1   When my loan was switched over to Navient i wa...            0  \n",
       "2   I tried to sign up for a spending monitoring p...            1  \n",
       "7   My mortgage is with BB & T Bank, recently I ha...            2  \n",
       "13  The entire lending experience with Citizens Ba...            2  \n",
       "14  My credit score has gone down XXXX points in t...            3  "
      ]
     },
     "execution_count": 5,
     "metadata": {},
     "output_type": "execute_result"
    }
   ],
   "source": [
    "# encode product as category id \n",
    "# create a lookup for product to category and category to product\n",
    "df['category_id'] = pd.factorize(df['Product'])[0]\n",
    "category_id_df = df[['Product', 'category_id'\n",
    "                     ]].drop_duplicates().sort_values('category_id')\n",
    "category_to_id = dict(category_id_df.values)\n",
    "id_to_category = dict(category_id_df[['category_id', 'Product']].values)\n",
    "df.head()"
   ]
  },
  {
   "cell_type": "code",
   "execution_count": 6,
   "metadata": {
    "ExecuteTime": {
     "end_time": "2018-11-04T04:49:28.024767Z",
     "start_time": "2018-11-04T04:49:28.020632Z"
    }
   },
   "outputs": [
    {
     "data": {
      "text/plain": [
       "{'Student loan': 0,\n",
       " 'Credit card or prepaid card': 1,\n",
       " 'Mortgage': 2,\n",
       " 'Credit reporting': 3,\n",
       " 'Credit reporting, credit repair services, or other personal consumer reports': 4,\n",
       " 'Debt collection': 5,\n",
       " 'Vehicle loan or lease': 6,\n",
       " 'Money transfer, virtual currency, or money service': 7,\n",
       " 'Checking or savings account': 8,\n",
       " 'Payday loan, title loan, or personal loan': 9,\n",
       " 'Consumer Loan': 10,\n",
       " 'Bank account or service': 11,\n",
       " 'Credit card': 12,\n",
       " 'Money transfers': 13,\n",
       " 'Prepaid card': 14,\n",
       " 'Payday loan': 15,\n",
       " 'Other financial service': 16,\n",
       " 'Virtual currency': 17}"
      ]
     },
     "execution_count": 6,
     "metadata": {},
     "output_type": "execute_result"
    }
   ],
   "source": [
    "category_to_id"
   ]
  },
  {
   "cell_type": "code",
   "execution_count": 7,
   "metadata": {
    "ExecuteTime": {
     "end_time": "2018-11-04T04:49:28.030988Z",
     "start_time": "2018-11-04T04:49:28.026478Z"
    }
   },
   "outputs": [
    {
     "data": {
      "text/plain": [
       "{0: 'Student loan',\n",
       " 1: 'Credit card or prepaid card',\n",
       " 2: 'Mortgage',\n",
       " 3: 'Credit reporting',\n",
       " 4: 'Credit reporting, credit repair services, or other personal consumer reports',\n",
       " 5: 'Debt collection',\n",
       " 6: 'Vehicle loan or lease',\n",
       " 7: 'Money transfer, virtual currency, or money service',\n",
       " 8: 'Checking or savings account',\n",
       " 9: 'Payday loan, title loan, or personal loan',\n",
       " 10: 'Consumer Loan',\n",
       " 11: 'Bank account or service',\n",
       " 12: 'Credit card',\n",
       " 13: 'Money transfers',\n",
       " 14: 'Prepaid card',\n",
       " 15: 'Payday loan',\n",
       " 16: 'Other financial service',\n",
       " 17: 'Virtual currency'}"
      ]
     },
     "execution_count": 7,
     "metadata": {},
     "output_type": "execute_result"
    }
   ],
   "source": [
    "id_to_category"
   ]
  },
  {
   "cell_type": "code",
   "execution_count": 8,
   "metadata": {
    "ExecuteTime": {
     "end_time": "2018-11-04T04:49:28.430391Z",
     "start_time": "2018-11-04T04:49:28.032896Z"
    }
   },
   "outputs": [
    {
     "data": {
      "image/png": "[encoded data removed]",
      "text/plain": [
       "<Figure size 576x432 with 1 Axes>"
      ]
     },
     "metadata": {
      "needs_background": "light"
     },
     "output_type": "display_data"
    }
   ],
   "source": [
    "import matplotlib.pyplot as plt\n",
    "%matplotlib inline\n",
    "fig = plt.figure(figsize=(8,6))\n",
    "df.groupby('Product').Consumer_complaint_narrative.count().plot.bar(ylim=0)\n",
    "plt.show()"
   ]
  },
  {
   "cell_type": "code",
   "execution_count": 9,
   "metadata": {
    "ExecuteTime": {
     "end_time": "2018-11-04T04:49:28.512386Z",
     "start_time": "2018-11-04T04:49:28.432178Z"
    }
   },
   "outputs": [
    {
     "data": {
      "text/plain": [
       "Product\n",
       "Virtual currency                                                                   16\n",
       "Other financial service                                                           292\n",
       "Prepaid card                                                                     1450\n",
       "Money transfers                                                                  1497\n",
       "Payday loan                                                                      1747\n",
       "Payday loan, title loan, or personal loan                                        3335\n",
       "Vehicle loan or lease                                                            4380\n",
       "Money transfer, virtual currency, or money service                               4468\n",
       "Consumer Loan                                                                    9473\n",
       "Checking or savings account                                                      9826\n",
       "Bank account or service                                                         14885\n",
       "Credit card or prepaid card                                                     16489\n",
       "Credit card                                                                     18838\n",
       "Student loan                                                                    19385\n",
       "Credit reporting                                                                31588\n",
       "Mortgage                                                                        49047\n",
       "Credit reporting, credit repair services, or other personal consumer reports    72176\n",
       "Debt collection                                                                 76767\n",
       "Name: Consumer_complaint_narrative, dtype: int64"
      ]
     },
     "execution_count": 9,
     "metadata": {},
     "output_type": "execute_result"
    }
   ],
   "source": [
    "df.groupby('Product').Consumer_complaint_narrative.count().sort_values()"
   ]
  },
  {
   "cell_type": "code",
   "execution_count": 10,
   "metadata": {
    "ExecuteTime": {
     "end_time": "2018-11-04T04:49:28.516214Z",
     "start_time": "2018-11-04T04:49:28.514149Z"
    }
   },
   "outputs": [],
   "source": [
    "# Maximum complains are related to Mortgage, Credit reporting, credit repair services, or other personal consumer reports and Debt collection\n",
    "# This dataset is biased. We have to consider this while modeling "
   ]
  },
  {
   "cell_type": "code",
   "execution_count": 11,
   "metadata": {
    "ExecuteTime": {
     "end_time": "2018-11-04T04:51:15.836506Z",
     "start_time": "2018-11-04T04:49:28.517957Z"
    }
   },
   "outputs": [
    {
     "data": {
      "text/plain": [
       "(335659, 655128)"
      ]
     },
     "execution_count": 11,
     "metadata": {},
     "output_type": "execute_result"
    }
   ],
   "source": [
    "from sklearn.feature_extraction.text import TfidfVectorizer\n",
    "tfidf = TfidfVectorizer(sublinear_tf=True, min_df=5, norm='l2', encoding='latin-1', ngram_range=(1, 2), stop_words='english')\n",
    "features = tfidf.fit_transform(df.Consumer_complaint_narrative)\n",
    "labels = df.category_id\n",
    "features.shape"
   ]
  },
  {
   "cell_type": "code",
   "execution_count": 12,
   "metadata": {
    "ExecuteTime": {
     "end_time": "2018-11-04T04:51:15.842385Z",
     "start_time": "2018-11-04T04:51:15.838432Z"
    }
   },
   "outputs": [
    {
     "data": {
      "text/plain": [
       "<335659x655128 sparse matrix of type '<class 'numpy.float64'>'\n",
       "\twith 38855079 stored elements in Compressed Sparse Row format>"
      ]
     },
     "execution_count": 12,
     "metadata": {},
     "output_type": "execute_result"
    }
   ],
   "source": [
    "features"
   ]
  },
  {
   "cell_type": "code",
   "execution_count": 13,
   "metadata": {
    "ExecuteTime": {
     "end_time": "2018-11-04T04:52:25.408449Z",
     "start_time": "2018-11-04T04:51:15.844314Z"
    }
   },
   "outputs": [
    {
     "name": "stdout",
     "output_type": "stream",
     "text": [
      "# 'Bank account or service':\n",
      "  . Most correlated unigrams:\n",
      ". bank{nl}. overdraft\n",
      "  . Most correlated bigrams:\n",
      ". overdraft fees{nl}. checking account\n",
      "# 'Checking or savings account':\n",
      "  . Most correlated unigrams:\n",
      ". overdraft{nl}. deposit\n",
      "  . Most correlated bigrams:\n",
      ". overdraft fees{nl}. checking account\n",
      "# 'Consumer Loan':\n",
      "  . Most correlated unigrams:\n",
      ". vehicle{nl}. car\n",
      "  . Most correlated bigrams:\n",
      ". car loan{nl}. auto loan\n",
      "# 'Credit card':\n",
      "  . Most correlated unigrams:\n",
      ". macy{nl}. card\n",
      "  . Most correlated bigrams:\n",
      ". american express{nl}. credit card\n",
      "# 'Credit card or prepaid card':\n",
      "  . Most correlated unigrams:\n",
      ". express{nl}. card\n",
      "  . Most correlated bigrams:\n",
      ". american express{nl}. credit card\n",
      "# 'Credit reporting':\n",
      "  . Most correlated unigrams:\n",
      ". equifax{nl}. experian\n",
      "  . Most correlated bigrams:\n",
      ". verify accounts{nl}. credit report\n",
      "# 'Credit reporting, credit repair services, or other personal consumer reports':\n",
      "  . Most correlated unigrams:\n",
      ". inquiries{nl}. equifax\n",
      "  . Most correlated bigrams:\n",
      ". mistakes appear{nl}. credit report\n",
      "# 'Debt collection':\n",
      "  . Most correlated unigrams:\n",
      ". collection{nl}. debt\n",
      "  . Most correlated bigrams:\n",
      ". collection agency{nl}. collect debt\n",
      "# 'Money transfer, virtual currency, or money service':\n",
      "  . Most correlated unigrams:\n",
      ". bitcoin{nl}. coinbase\n",
      "  . Most correlated bigrams:\n",
      ". xxxx coinbase{nl}. coinbase account\n",
      "# 'Money transfers':\n",
      "  . Most correlated unigrams:\n",
      ". moneygram{nl}. western\n",
      "  . Most correlated bigrams:\n",
      ". money gram{nl}. western union\n",
      "# 'Mortgage':\n",
      "  . Most correlated unigrams:\n",
      ". modification{nl}. mortgage\n",
      "  . Most correlated bigrams:\n",
      ". mortgage company{nl}. loan modification\n",
      "# 'Other financial service':\n",
      "  . Most correlated unigrams:\n",
      ". certegy{nl}. lexington\n",
      "  . Most correlated bigrams:\n",
      ". global client{nl}. lexington law\n",
      "# 'Payday loan':\n",
      "  . Most correlated unigrams:\n",
      ". castle{nl}. payday\n",
      "  . Most correlated bigrams:\n",
      ". castle payday{nl}. payday loan\n",
      "# 'Payday loan, title loan, or personal loan':\n",
      "  . Most correlated unigrams:\n",
      ". borrowed{nl}. payday\n",
      "  . Most correlated bigrams:\n",
      ". big picture{nl}. title loan\n",
      "# 'Prepaid card':\n",
      "  . Most correlated unigrams:\n",
      ". rush{nl}. rushcard\n",
      "  . Most correlated bigrams:\n",
      ". prepaid card{nl}. rush card\n",
      "# 'Student loan':\n",
      "  . Most correlated unigrams:\n",
      ". student{nl}. navient\n",
      "  . Most correlated bigrams:\n",
      ". student loans{nl}. student loan\n",
      "# 'Vehicle loan or lease':\n",
      "  . Most correlated unigrams:\n",
      ". car{nl}. vehicle\n",
      "  . Most correlated bigrams:\n",
      ". gap insurance{nl}. gm financial\n",
      "# 'Virtual currency':\n",
      "  . Most correlated unigrams:\n",
      ". fincen{nl}. signup\n",
      "  . Most correlated bigrams:\n",
      ". met fully{nl}. signed 75\n"
     ]
    }
   ],
   "source": [
    "# print top 2 unigrams and bigrams\n",
    "# sklearn.feature_selection.chi2(X, y)\n",
    "# http://scikit-learn.org/stable/modules/generated/sklearn.feature_selection.chi2.html\n",
    "# This score can be used to select the n_features features with the highest values for the test chi-squared statistic from X\n",
    "# in our case X is features and y is category id (target variable)\n",
    "from sklearn.feature_selection import chi2\n",
    "import numpy as np\n",
    "N = 2\n",
    "for Product, category_id in sorted(category_to_id.items()):\n",
    "    features_chi2 = chi2(features, labels == category_id)\n",
    "    indices = np.argsort(features_chi2[0])\n",
    "    feature_names = np.array(tfidf.get_feature_names())[indices]\n",
    "    unigrams = [v for v in feature_names if len(v.split(' ')) == 1]\n",
    "    bigrams = [v for v in feature_names if len(v.split(' ')) == 2]\n",
    "    nl = chr(10)\n",
    "    print(f\"# '{Product}':\")\n",
    "    print(f\"  . Most correlated unigrams:{nl}. {'{nl}. '.join(unigrams[-N:])}\")\n",
    "    print(f\"  . Most correlated bigrams:{nl}. {'{nl}. '.join(bigrams[-N:])}\")\n",
    "    "
   ]
  },
  {
   "cell_type": "code",
   "execution_count": 14,
   "metadata": {
    "ExecuteTime": {
     "end_time": "2018-11-04T04:52:25.413473Z",
     "start_time": "2018-11-04T04:52:25.410646Z"
    }
   },
   "outputs": [],
   "source": [
    "### Same process with NLTK"
   ]
  },
  {
   "cell_type": "code",
   "execution_count": 15,
   "metadata": {
    "ExecuteTime": {
     "end_time": "2018-11-04T04:52:33.206255Z",
     "start_time": "2018-11-04T04:52:25.415960Z"
    }
   },
   "outputs": [],
   "source": [
    "import pandas as pd\n",
    "import re\n",
    "import nltk\n",
    "dataset = pd.read_csv('Consumer_Complaints.csv', encoding='ISO-8859-1');"
   ]
  },
  {
   "cell_type": "code",
   "execution_count": 16,
   "metadata": {
    "ExecuteTime": {
     "end_time": "2018-11-04T04:52:33.229214Z",
     "start_time": "2018-11-04T04:52:33.208650Z"
    }
   },
   "outputs": [
    {
     "data": {
      "text/html": [
       "<div>\n",
       "<style scoped>\n",
       "    .dataframe tbody tr th:only-of-type {\n",
       "        vertical-align: middle;\n",
       "    }\n",
       "\n",
       "    .dataframe tbody tr th {\n",
       "        vertical-align: top;\n",
       "    }\n",
       "\n",
       "    .dataframe thead th {\n",
       "        text-align: right;\n",
       "    }\n",
       "</style>\n",
       "<table border=\"1\" class=\"dataframe\">\n",
       "  <thead>\n",
       "    <tr style=\"text-align: right;\">\n",
       "      <th></th>\n",
       "      <th>Date received</th>\n",
       "      <th>Product</th>\n",
       "      <th>Sub-product</th>\n",
       "      <th>Issue</th>\n",
       "      <th>Sub-issue</th>\n",
       "      <th>Consumer complaint narrative</th>\n",
       "      <th>Company public response</th>\n",
       "      <th>Company</th>\n",
       "      <th>State</th>\n",
       "      <th>ZIP code</th>\n",
       "      <th>Tags</th>\n",
       "      <th>Consumer consent provided?</th>\n",
       "      <th>Submitted via</th>\n",
       "      <th>Date sent to company</th>\n",
       "      <th>Company response to consumer</th>\n",
       "      <th>Timely response?</th>\n",
       "      <th>Consumer disputed?</th>\n",
       "      <th>Complaint ID</th>\n",
       "    </tr>\n",
       "  </thead>\n",
       "  <tbody>\n",
       "    <tr>\n",
       "      <th>0</th>\n",
       "      <td>03/12/2014</td>\n",
       "      <td>Mortgage</td>\n",
       "      <td>Other mortgage</td>\n",
       "      <td>Loan modification,collection,foreclosure</td>\n",
       "      <td>NaN</td>\n",
       "      <td>NaN</td>\n",
       "      <td>NaN</td>\n",
       "      <td>M&amp;T BANK CORPORATION</td>\n",
       "      <td>MI</td>\n",
       "      <td>48382</td>\n",
       "      <td>NaN</td>\n",
       "      <td>NaN</td>\n",
       "      <td>Referral</td>\n",
       "      <td>03/17/2014</td>\n",
       "      <td>Closed with explanation</td>\n",
       "      <td>Yes</td>\n",
       "      <td>No</td>\n",
       "      <td>759217</td>\n",
       "    </tr>\n",
       "    <tr>\n",
       "      <th>1</th>\n",
       "      <td>01/19/2017</td>\n",
       "      <td>Student loan</td>\n",
       "      <td>Federal student loan servicing</td>\n",
       "      <td>Dealing with my lender or servicer</td>\n",
       "      <td>Received bad information about my loan</td>\n",
       "      <td>When my loan was switched over to Navient i wa...</td>\n",
       "      <td>NaN</td>\n",
       "      <td>Navient Solutions, LLC.</td>\n",
       "      <td>LA</td>\n",
       "      <td>NaN</td>\n",
       "      <td>NaN</td>\n",
       "      <td>Consent provided</td>\n",
       "      <td>Web</td>\n",
       "      <td>01/19/2017</td>\n",
       "      <td>Closed with explanation</td>\n",
       "      <td>Yes</td>\n",
       "      <td>No</td>\n",
       "      <td>2296496</td>\n",
       "    </tr>\n",
       "    <tr>\n",
       "      <th>2</th>\n",
       "      <td>04/06/2018</td>\n",
       "      <td>Credit card or prepaid card</td>\n",
       "      <td>General-purpose credit card or charge card</td>\n",
       "      <td>Other features, terms, or problems</td>\n",
       "      <td>Other problem</td>\n",
       "      <td>I tried to sign up for a spending monitoring p...</td>\n",
       "      <td>NaN</td>\n",
       "      <td>CAPITAL ONE FINANCIAL CORPORATION</td>\n",
       "      <td>VA</td>\n",
       "      <td>NaN</td>\n",
       "      <td>Older American</td>\n",
       "      <td>Consent provided</td>\n",
       "      <td>Web</td>\n",
       "      <td>04/06/2018</td>\n",
       "      <td>Closed with explanation</td>\n",
       "      <td>Yes</td>\n",
       "      <td>NaN</td>\n",
       "      <td>2866101</td>\n",
       "    </tr>\n",
       "    <tr>\n",
       "      <th>3</th>\n",
       "      <td>06/08/2014</td>\n",
       "      <td>Credit card</td>\n",
       "      <td>NaN</td>\n",
       "      <td>Bankruptcy</td>\n",
       "      <td>NaN</td>\n",
       "      <td>NaN</td>\n",
       "      <td>NaN</td>\n",
       "      <td>AMERICAN EXPRESS COMPANY</td>\n",
       "      <td>ID</td>\n",
       "      <td>83854</td>\n",
       "      <td>Older American</td>\n",
       "      <td>NaN</td>\n",
       "      <td>Web</td>\n",
       "      <td>06/10/2014</td>\n",
       "      <td>Closed with explanation</td>\n",
       "      <td>Yes</td>\n",
       "      <td>Yes</td>\n",
       "      <td>885638</td>\n",
       "    </tr>\n",
       "    <tr>\n",
       "      <th>4</th>\n",
       "      <td>09/13/2014</td>\n",
       "      <td>Debt collection</td>\n",
       "      <td>Credit card</td>\n",
       "      <td>Communication tactics</td>\n",
       "      <td>Frequent or repeated calls</td>\n",
       "      <td>NaN</td>\n",
       "      <td>NaN</td>\n",
       "      <td>CITIBANK, N.A.</td>\n",
       "      <td>VA</td>\n",
       "      <td>23233</td>\n",
       "      <td>NaN</td>\n",
       "      <td>NaN</td>\n",
       "      <td>Web</td>\n",
       "      <td>09/13/2014</td>\n",
       "      <td>Closed with explanation</td>\n",
       "      <td>Yes</td>\n",
       "      <td>Yes</td>\n",
       "      <td>1027760</td>\n",
       "    </tr>\n",
       "  </tbody>\n",
       "</table>\n",
       "</div>"
      ],
      "text/plain": [
       "  Date received                      Product  \\\n",
       "0    03/12/2014                     Mortgage   \n",
       "1    01/19/2017                 Student loan   \n",
       "2    04/06/2018  Credit card or prepaid card   \n",
       "3    06/08/2014                  Credit card   \n",
       "4    09/13/2014              Debt collection   \n",
       "\n",
       "                                  Sub-product  \\\n",
       "0                              Other mortgage   \n",
       "1              Federal student loan servicing   \n",
       "2  General-purpose credit card or charge card   \n",
       "3                                         NaN   \n",
       "4                                 Credit card   \n",
       "\n",
       "                                      Issue  \\\n",
       "0  Loan modification,collection,foreclosure   \n",
       "1        Dealing with my lender or servicer   \n",
       "2        Other features, terms, or problems   \n",
       "3                                Bankruptcy   \n",
       "4                     Communication tactics   \n",
       "\n",
       "                                Sub-issue  \\\n",
       "0                                     NaN   \n",
       "1  Received bad information about my loan   \n",
       "2                           Other problem   \n",
       "3                                     NaN   \n",
       "4              Frequent or repeated calls   \n",
       "\n",
       "                        Consumer complaint narrative Company public response  \\\n",
       "0                                                NaN                     NaN   \n",
       "1  When my loan was switched over to Navient i wa...                     NaN   \n",
       "2  I tried to sign up for a spending monitoring p...                     NaN   \n",
       "3                                                NaN                     NaN   \n",
       "4                                                NaN                     NaN   \n",
       "\n",
       "                             Company State ZIP code            Tags  \\\n",
       "0               M&T BANK CORPORATION    MI    48382             NaN   \n",
       "1            Navient Solutions, LLC.    LA      NaN             NaN   \n",
       "2  CAPITAL ONE FINANCIAL CORPORATION    VA      NaN  Older American   \n",
       "3           AMERICAN EXPRESS COMPANY    ID    83854  Older American   \n",
       "4                     CITIBANK, N.A.    VA    23233             NaN   \n",
       "\n",
       "  Consumer consent provided? Submitted via Date sent to company  \\\n",
       "0                        NaN      Referral           03/17/2014   \n",
       "1           Consent provided           Web           01/19/2017   \n",
       "2           Consent provided           Web           04/06/2018   \n",
       "3                        NaN           Web           06/10/2014   \n",
       "4                        NaN           Web           09/13/2014   \n",
       "\n",
       "  Company response to consumer Timely response? Consumer disputed?  \\\n",
       "0      Closed with explanation              Yes                 No   \n",
       "1      Closed with explanation              Yes                 No   \n",
       "2      Closed with explanation              Yes                NaN   \n",
       "3      Closed with explanation              Yes                Yes   \n",
       "4      Closed with explanation              Yes                Yes   \n",
       "\n",
       "   Complaint ID  \n",
       "0        759217  \n",
       "1       2296496  \n",
       "2       2866101  \n",
       "3        885638  \n",
       "4       1027760  "
      ]
     },
     "execution_count": 16,
     "metadata": {},
     "output_type": "execute_result"
    }
   ],
   "source": [
    "dataset.head()"
   ]
  },
  {
   "cell_type": "code",
   "execution_count": 17,
   "metadata": {
    "ExecuteTime": {
     "end_time": "2018-11-04T04:52:33.446966Z",
     "start_time": "2018-11-04T04:52:33.231228Z"
    }
   },
   "outputs": [
    {
     "data": {
      "text/html": [
       "<div>\n",
       "<style scoped>\n",
       "    .dataframe tbody tr th:only-of-type {\n",
       "        vertical-align: middle;\n",
       "    }\n",
       "\n",
       "    .dataframe tbody tr th {\n",
       "        vertical-align: top;\n",
       "    }\n",
       "\n",
       "    .dataframe thead th {\n",
       "        text-align: right;\n",
       "    }\n",
       "</style>\n",
       "<table border=\"1\" class=\"dataframe\">\n",
       "  <thead>\n",
       "    <tr style=\"text-align: right;\">\n",
       "      <th></th>\n",
       "      <th>Date received</th>\n",
       "      <th>Product</th>\n",
       "      <th>Sub-product</th>\n",
       "      <th>Issue</th>\n",
       "      <th>Sub-issue</th>\n",
       "      <th>Consumer complaint narrative</th>\n",
       "      <th>Company public response</th>\n",
       "      <th>Company</th>\n",
       "      <th>State</th>\n",
       "      <th>ZIP code</th>\n",
       "      <th>Tags</th>\n",
       "      <th>Consumer consent provided?</th>\n",
       "      <th>Submitted via</th>\n",
       "      <th>Date sent to company</th>\n",
       "      <th>Company response to consumer</th>\n",
       "      <th>Timely response?</th>\n",
       "      <th>Consumer disputed?</th>\n",
       "      <th>Complaint ID</th>\n",
       "      <th>category_id</th>\n",
       "    </tr>\n",
       "  </thead>\n",
       "  <tbody>\n",
       "    <tr>\n",
       "      <th>0</th>\n",
       "      <td>03/12/2014</td>\n",
       "      <td>Mortgage</td>\n",
       "      <td>Other mortgage</td>\n",
       "      <td>Loan modification,collection,foreclosure</td>\n",
       "      <td>NaN</td>\n",
       "      <td>NaN</td>\n",
       "      <td>NaN</td>\n",
       "      <td>M&amp;T BANK CORPORATION</td>\n",
       "      <td>MI</td>\n",
       "      <td>48382</td>\n",
       "      <td>NaN</td>\n",
       "      <td>NaN</td>\n",
       "      <td>Referral</td>\n",
       "      <td>03/17/2014</td>\n",
       "      <td>Closed with explanation</td>\n",
       "      <td>Yes</td>\n",
       "      <td>No</td>\n",
       "      <td>759217</td>\n",
       "      <td>0</td>\n",
       "    </tr>\n",
       "    <tr>\n",
       "      <th>1</th>\n",
       "      <td>01/19/2017</td>\n",
       "      <td>Student loan</td>\n",
       "      <td>Federal student loan servicing</td>\n",
       "      <td>Dealing with my lender or servicer</td>\n",
       "      <td>Received bad information about my loan</td>\n",
       "      <td>When my loan was switched over to Navient i wa...</td>\n",
       "      <td>NaN</td>\n",
       "      <td>Navient Solutions, LLC.</td>\n",
       "      <td>LA</td>\n",
       "      <td>NaN</td>\n",
       "      <td>NaN</td>\n",
       "      <td>Consent provided</td>\n",
       "      <td>Web</td>\n",
       "      <td>01/19/2017</td>\n",
       "      <td>Closed with explanation</td>\n",
       "      <td>Yes</td>\n",
       "      <td>No</td>\n",
       "      <td>2296496</td>\n",
       "      <td>1</td>\n",
       "    </tr>\n",
       "    <tr>\n",
       "      <th>2</th>\n",
       "      <td>04/06/2018</td>\n",
       "      <td>Credit card or prepaid card</td>\n",
       "      <td>General-purpose credit card or charge card</td>\n",
       "      <td>Other features, terms, or problems</td>\n",
       "      <td>Other problem</td>\n",
       "      <td>I tried to sign up for a spending monitoring p...</td>\n",
       "      <td>NaN</td>\n",
       "      <td>CAPITAL ONE FINANCIAL CORPORATION</td>\n",
       "      <td>VA</td>\n",
       "      <td>NaN</td>\n",
       "      <td>Older American</td>\n",
       "      <td>Consent provided</td>\n",
       "      <td>Web</td>\n",
       "      <td>04/06/2018</td>\n",
       "      <td>Closed with explanation</td>\n",
       "      <td>Yes</td>\n",
       "      <td>NaN</td>\n",
       "      <td>2866101</td>\n",
       "      <td>2</td>\n",
       "    </tr>\n",
       "    <tr>\n",
       "      <th>3</th>\n",
       "      <td>06/08/2014</td>\n",
       "      <td>Credit card</td>\n",
       "      <td>NaN</td>\n",
       "      <td>Bankruptcy</td>\n",
       "      <td>NaN</td>\n",
       "      <td>NaN</td>\n",
       "      <td>NaN</td>\n",
       "      <td>AMERICAN EXPRESS COMPANY</td>\n",
       "      <td>ID</td>\n",
       "      <td>83854</td>\n",
       "      <td>Older American</td>\n",
       "      <td>NaN</td>\n",
       "      <td>Web</td>\n",
       "      <td>06/10/2014</td>\n",
       "      <td>Closed with explanation</td>\n",
       "      <td>Yes</td>\n",
       "      <td>Yes</td>\n",
       "      <td>885638</td>\n",
       "      <td>3</td>\n",
       "    </tr>\n",
       "    <tr>\n",
       "      <th>4</th>\n",
       "      <td>09/13/2014</td>\n",
       "      <td>Debt collection</td>\n",
       "      <td>Credit card</td>\n",
       "      <td>Communication tactics</td>\n",
       "      <td>Frequent or repeated calls</td>\n",
       "      <td>NaN</td>\n",
       "      <td>NaN</td>\n",
       "      <td>CITIBANK, N.A.</td>\n",
       "      <td>VA</td>\n",
       "      <td>23233</td>\n",
       "      <td>NaN</td>\n",
       "      <td>NaN</td>\n",
       "      <td>Web</td>\n",
       "      <td>09/13/2014</td>\n",
       "      <td>Closed with explanation</td>\n",
       "      <td>Yes</td>\n",
       "      <td>Yes</td>\n",
       "      <td>1027760</td>\n",
       "      <td>4</td>\n",
       "    </tr>\n",
       "  </tbody>\n",
       "</table>\n",
       "</div>"
      ],
      "text/plain": [
       "  Date received                      Product  \\\n",
       "0    03/12/2014                     Mortgage   \n",
       "1    01/19/2017                 Student loan   \n",
       "2    04/06/2018  Credit card or prepaid card   \n",
       "3    06/08/2014                  Credit card   \n",
       "4    09/13/2014              Debt collection   \n",
       "\n",
       "                                  Sub-product  \\\n",
       "0                              Other mortgage   \n",
       "1              Federal student loan servicing   \n",
       "2  General-purpose credit card or charge card   \n",
       "3                                         NaN   \n",
       "4                                 Credit card   \n",
       "\n",
       "                                      Issue  \\\n",
       "0  Loan modification,collection,foreclosure   \n",
       "1        Dealing with my lender or servicer   \n",
       "2        Other features, terms, or problems   \n",
       "3                                Bankruptcy   \n",
       "4                     Communication tactics   \n",
       "\n",
       "                                Sub-issue  \\\n",
       "0                                     NaN   \n",
       "1  Received bad information about my loan   \n",
       "2                           Other problem   \n",
       "3                                     NaN   \n",
       "4              Frequent or repeated calls   \n",
       "\n",
       "                        Consumer complaint narrative Company public response  \\\n",
       "0                                                NaN                     NaN   \n",
       "1  When my loan was switched over to Navient i wa...                     NaN   \n",
       "2  I tried to sign up for a spending monitoring p...                     NaN   \n",
       "3                                                NaN                     NaN   \n",
       "4                                                NaN                     NaN   \n",
       "\n",
       "                             Company State ZIP code            Tags  \\\n",
       "0               M&T BANK CORPORATION    MI    48382             NaN   \n",
       "1            Navient Solutions, LLC.    LA      NaN             NaN   \n",
       "2  CAPITAL ONE FINANCIAL CORPORATION    VA      NaN  Older American   \n",
       "3           AMERICAN EXPRESS COMPANY    ID    83854  Older American   \n",
       "4                     CITIBANK, N.A.    VA    23233             NaN   \n",
       "\n",
       "  Consumer consent provided? Submitted via Date sent to company  \\\n",
       "0                        NaN      Referral           03/17/2014   \n",
       "1           Consent provided           Web           01/19/2017   \n",
       "2           Consent provided           Web           04/06/2018   \n",
       "3                        NaN           Web           06/10/2014   \n",
       "4                        NaN           Web           09/13/2014   \n",
       "\n",
       "  Company response to consumer Timely response? Consumer disputed?  \\\n",
       "0      Closed with explanation              Yes                 No   \n",
       "1      Closed with explanation              Yes                 No   \n",
       "2      Closed with explanation              Yes                NaN   \n",
       "3      Closed with explanation              Yes                Yes   \n",
       "4      Closed with explanation              Yes                Yes   \n",
       "\n",
       "   Complaint ID  category_id  \n",
       "0        759217            0  \n",
       "1       2296496            1  \n",
       "2       2866101            2  \n",
       "3        885638            3  \n",
       "4       1027760            4  "
      ]
     },
     "execution_count": 17,
     "metadata": {},
     "output_type": "execute_result"
    }
   ],
   "source": [
    "dataset['category_id'] = pd.factorize(dataset['Product'])[0]\n",
    "category_id_dataset = dataset[['Product', 'category_id'\n",
    "                     ]].drop_duplicates().sort_values('category_id')\n",
    "category_to_id_dataset = dict(category_id_dataset.values)\n",
    "id_dataset_to_category = dict(category_id_dataset[['category_id', 'Product']].values)\n",
    "dataset.head()"
   ]
  },
  {
   "cell_type": "code",
   "execution_count": 18,
   "metadata": {
    "ExecuteTime": {
     "end_time": "2018-11-04T04:52:37.906488Z",
     "start_time": "2018-11-04T04:52:33.448670Z"
    }
   },
   "outputs": [
    {
     "name": "stdout",
     "output_type": "stream",
     "text": [
      "[nltk_data] Downloading package punkt to /home/kdeodhar/nltk_data...\n",
      "[nltk_data]   Package punkt is already up-to-date!\n",
      "[nltk_data] Downloading package stopwords to\n",
      "[nltk_data]     /home/kdeodhar/nltk_data...\n",
      "[nltk_data]   Package stopwords is already up-to-date!\n"
     ]
    }
   ],
   "source": [
    "nltk.download('punkt')\n",
    "from nltk.tokenize import word_tokenize as wt \n",
    "\n",
    "nltk.download('stopwords')\n",
    "from nltk.corpus import stopwords\n",
    "\n",
    "from nltk.stem.porter import PorterStemmer\n",
    "from nltk.stem.snowball import SnowballStemmer\n",
    "stemmer = SnowballStemmer(\"english\")\n",
    "\n",
    "#spell correction\n",
    "from autocorrect import spell\n"
   ]
  },
  {
   "cell_type": "code",
   "execution_count": 19,
   "metadata": {
    "ExecuteTime": {
     "end_time": "2018-11-04T04:52:38.229767Z",
     "start_time": "2018-11-04T04:52:37.908512Z"
    }
   },
   "outputs": [],
   "source": [
    "dataset.dropna(subset=[\"Consumer complaint narrative\"], inplace = True)"
   ]
  },
  {
   "cell_type": "code",
   "execution_count": 20,
   "metadata": {
    "ExecuteTime": {
     "end_time": "2018-11-04T04:52:38.234686Z",
     "start_time": "2018-11-04T04:52:38.231791Z"
    }
   },
   "outputs": [],
   "source": [
    "# data = []\n",
    "# for i in range(dataset.shape[0]):\n",
    "#     sms = dataset.iloc[i, 5]\n",
    "#     # remove non alphabatic characters\n",
    "#     sms = re.sub('[^A-Za-z]', ' ', sms)\n",
    "#     # make words lowercase, because Go and go will be considered as two words\n",
    "#     sms = sms.lower()\n",
    "#     # tokenising\n",
    "#     tokenized_sms = wt(sms)\n",
    "#     # remove stop words and stemming\n",
    "#     sms_processed = []\n",
    "#     for word in tokenized_sms:\n",
    "#         if word not in set(stopwords.words('english')):\n",
    "#             sms_processed.append(spell(stemmer.stem(word)))\n",
    "#     sms_text = \" \".join(sms_processed)\n",
    "#     data.append(sms_text)"
   ]
  },
  {
   "cell_type": "code",
   "execution_count": 21,
   "metadata": {
    "ExecuteTime": {
     "end_time": "2018-11-04T04:57:42.123191Z",
     "start_time": "2018-11-04T04:52:38.236763Z"
    }
   },
   "outputs": [],
   "source": [
    "data = []\n",
    "dataset[\"ccn2\"] = dataset[\"Consumer complaint narrative\"].apply(lambda x: re.sub('[^A-Za-z]', ' ', x)).str.lower().apply(lambda x: wt(x))"
   ]
  },
  {
   "cell_type": "code",
   "execution_count": 22,
   "metadata": {
    "ExecuteTime": {
     "end_time": "2018-11-04T04:57:42.127443Z",
     "start_time": "2018-11-04T04:57:42.125064Z"
    }
   },
   "outputs": [],
   "source": [
    "# dataset[\"ccn2\"] = dataset.ccn2.str.lower()"
   ]
  },
  {
   "cell_type": "code",
   "execution_count": 23,
   "metadata": {
    "ExecuteTime": {
     "end_time": "2018-11-04T04:57:42.141663Z",
     "start_time": "2018-11-04T04:57:42.129153Z"
    }
   },
   "outputs": [],
   "source": [
    "# dataset[\"ccn3\"] = dataset[\"ccn2\"].apply(lambda x: wt(x))"
   ]
  },
  {
   "cell_type": "code",
   "execution_count": 24,
   "metadata": {
    "ExecuteTime": {
     "end_time": "2018-11-04T04:57:42.152200Z",
     "start_time": "2018-11-04T04:57:42.143317Z"
    }
   },
   "outputs": [
    {
     "data": {
      "text/plain": [
       "1     [when, my, loan, was, switched, over, to, navi...\n",
       "2     [i, tried, to, sign, up, for, a, spending, mon...\n",
       "7     [my, mortgage, is, with, bb, t, bank, recently...\n",
       "13    [the, entire, lending, experience, with, citiz...\n",
       "14    [my, credit, score, has, gone, down, xxxx, poi...\n",
       "16    [i, few, months, back, i, contacted, xxxx, in,...\n",
       "25    [i, m, a, victim, of, fraud, and, i, have, a, ...\n",
       "28    [i, have, been, disputing, a, bankruptcy, on, ...\n",
       "42    [today, i, received, a, phone, call, from, a, ...\n",
       "53    [i, have, gotten, calls, from, ar, resources, ...\n",
       "Name: ccn2, dtype: object"
      ]
     },
     "execution_count": 24,
     "metadata": {},
     "output_type": "execute_result"
    }
   ],
   "source": [
    "dataset[\"ccn2\"][:10]"
   ]
  },
  {
   "cell_type": "code",
   "execution_count": 25,
   "metadata": {
    "ExecuteTime": {
     "end_time": "2018-11-04T04:57:42.156199Z",
     "start_time": "2018-11-04T04:57:42.153833Z"
    }
   },
   "outputs": [],
   "source": [
    "# import itertools\n",
    "# sms_processed = list(itertools.chain.from_iterable(dataset[\"ccn2\"]))\n",
    "# sms_processed2 = list(set(sms_processed).difference(set(stopwords.words('english'))))"
   ]
  },
  {
   "cell_type": "code",
   "execution_count": 26,
   "metadata": {
    "ExecuteTime": {
     "end_time": "2018-11-04T04:57:42.160044Z",
     "start_time": "2018-11-04T04:57:42.157772Z"
    }
   },
   "outputs": [],
   "source": [
    "# dataset[\"ccn3\"] = dataset[\"ccn2\"].apply(lambda x: list(set(x).difference(set(stopwords.words('english')))))"
   ]
  },
  {
   "cell_type": "code",
   "execution_count": 27,
   "metadata": {
    "ExecuteTime": {
     "end_time": "2018-11-04T04:57:42.163987Z",
     "start_time": "2018-11-04T04:57:42.161757Z"
    }
   },
   "outputs": [],
   "source": [
    "# dataset[\"ccn3\"][:10]"
   ]
  },
  {
   "cell_type": "code",
   "execution_count": 28,
   "metadata": {
    "ExecuteTime": {
     "end_time": "2018-11-04T04:57:42.168096Z",
     "start_time": "2018-11-04T04:57:42.165720Z"
    }
   },
   "outputs": [],
   "source": [
    "# dataset[\"ccn4\"] = dataset[\"ccn3\"].apply(lambda x: [spell(stemmer.stem(item)) for item in x])"
   ]
  },
  {
   "cell_type": "code",
   "execution_count": 29,
   "metadata": {
    "ExecuteTime": {
     "end_time": "2018-11-04T04:57:42.173520Z",
     "start_time": "2018-11-04T04:57:42.169792Z"
    }
   },
   "outputs": [],
   "source": [
    "# dataset[\"ccn4\"][:10]"
   ]
  },
  {
   "cell_type": "code",
   "execution_count": 30,
   "metadata": {
    "ExecuteTime": {
     "end_time": "2018-11-04T04:57:43.997828Z",
     "start_time": "2018-11-04T04:57:42.175328Z"
    }
   },
   "outputs": [],
   "source": [
    "dataset[\"ccn5\"] = dataset[\"ccn2\"].apply(lambda x: \" \".join(x)) \n",
    "data = dataset[\"ccn5\"].tolist()"
   ]
  },
  {
   "cell_type": "code",
   "execution_count": 31,
   "metadata": {
    "ExecuteTime": {
     "end_time": "2018-11-04T04:57:44.006585Z",
     "start_time": "2018-11-04T04:57:43.999711Z"
    }
   },
   "outputs": [
    {
     "data": {
      "text/plain": [
       "1          when my loan was switched over to navient i wa...\n",
       "2          i tried to sign up for a spending monitoring p...\n",
       "7          my mortgage is with bb t bank recently i have ...\n",
       "13         the entire lending experience with citizens ba...\n",
       "14         my credit score has gone down xxxx points in t...\n",
       "16         i few months back i contacted xxxx in regards ...\n",
       "25         i m a victim of fraud and i have a file with t...\n",
       "28         i have been disputing a bankruptcy on my credi...\n",
       "42         today i received a phone call from a number li...\n",
       "53         i have gotten calls from ar resources looking ...\n",
       "55         i apparently have an outstanding debt with xxx...\n",
       "71         this is my second attempt to have the problem ...\n",
       "74         this account is old and should have been remov...\n",
       "76         on xx xx i attempted to dispute an account fro...\n",
       "78         alleged company use scare tactics to threaten ...\n",
       "83         on the credit report equifax there is a name l...\n",
       "94         i filed a complaint xxxx on bridgecrest accept...\n",
       "95         in late xxxx of i requested a balance transfer...\n",
       "105        xxxx xxxx xxxx xxxx xxxx la xxxx xx xx xxxx de...\n",
       "110        i have sent more than xxxx letters to portfoli...\n",
       "111        i transferred wire transfer money from xxxx xx...\n",
       "113        i have been trying to open a small xxxx busine...\n",
       "132        hi my name is xxxx xxxx i am reaching out to y...\n",
       "136        i m xxxx now and i m trying to get my free cre...\n",
       "140        this number calls me repeatedly and says i owe...\n",
       "141        this phone number xxxx is midland credit they ...\n",
       "142        i have written and called experian several tim...\n",
       "149        for months now xxxx xxxx from monterey financi...\n",
       "152        good afternoon i first learned about the debit...\n",
       "155        i xxxx xxxx dispute the charges had been made ...\n",
       "                                 ...                        \n",
       "1152237    i do not owe them money at the date i was rece...\n",
       "1152238    i have spent hours trying to resolve an issue ...\n",
       "1152239    i received a student loan through wells fargo ...\n",
       "1152240    late payments were reported to the credit bure...\n",
       "1152241    i m trying to buy a house so the mortgage comp...\n",
       "1152242    xxxx times i ve tried with different browsers ...\n",
       "1152243    i would like copy of contract with my authenti...\n",
       "1152244    loan number xxxx mortgage company specialized ...\n",
       "1152245    i received an email and a flyer from citibank ...\n",
       "1152246    i recently pulled my credit and discovered tha...\n",
       "1152247    please reference cfpb complaint xxxx about xxx...\n",
       "1152248    the company is reporting wrong credit history ...\n",
       "1152249    i have a mortgage loan being serviced by asc i...\n",
       "1152250    i signed up for a macy s credit card in xxxx a...\n",
       "1152251    every month i receive a collection notice from...\n",
       "1152252    i found on my experian credit report hard inqu...\n",
       "1152253    several years ago our mortgage was sold and wh...\n",
       "1152254    comerica bank xxxx bank embezzlement conspirin...\n",
       "1152255    on xxxx xxxxthe my credit was inquired by xxxx...\n",
       "1152256    from xxxx through xxxx xxxx of the nation s la...\n",
       "1152257    i had a debit that was included in my chapter ...\n",
       "1152258    to improve our credit we opened a secured card...\n",
       "1152259    there are xxxx student loan accounts for my da...\n",
       "1152260    i was in a xxxx xxxx bankruptcy which just dis...\n",
       "1152261    i ve disputed times already with transunion an...\n",
       "1152262    i have contacted exqufax numerous times in the...\n",
       "1152263    on xxxx xxxx at around xxxx i submitted a fed ...\n",
       "1152264    complaint from consumer and written by consume...\n",
       "1152265    my mortgage lender carrington mortgage service...\n",
       "1152266    re account xxxx i have attempted multiple time...\n",
       "Name: ccn5, Length: 335659, dtype: object"
      ]
     },
     "execution_count": 31,
     "metadata": {},
     "output_type": "execute_result"
    }
   ],
   "source": [
    "dataset[\"ccn5\"]"
   ]
  },
  {
   "cell_type": "code",
   "execution_count": 32,
   "metadata": {
    "ExecuteTime": {
     "end_time": "2018-11-04T04:59:22.513909Z",
     "start_time": "2018-11-04T04:57:44.008644Z"
    }
   },
   "outputs": [],
   "source": [
    "# creating the feature matrix \n",
    "from sklearn.feature_extraction.text import CountVectorizer\n",
    "matrix = CountVectorizer(min_df=5, encoding='latin-1', ngram_range=(1, 2), stop_words='english')\n",
    "X = matrix.fit_transform(data)\n",
    "y = dataset[\"category_id\"]"
   ]
  },
  {
   "cell_type": "code",
   "execution_count": 33,
   "metadata": {
    "ExecuteTime": {
     "end_time": "2018-11-04T04:59:22.519457Z",
     "start_time": "2018-11-04T04:59:22.515814Z"
    }
   },
   "outputs": [
    {
     "data": {
      "text/plain": [
       "dict_items([('Mortgage', 0), ('Student loan', 1), ('Credit card or prepaid card', 2), ('Credit card', 3), ('Debt collection', 4), ('Credit reporting', 5), ('Credit reporting, credit repair services, or other personal consumer reports', 6), ('Bank account or service', 7), ('Consumer Loan', 8), ('Money transfers', 9), ('Vehicle loan or lease', 10), ('Money transfer, virtual currency, or money service', 11), ('Checking or savings account', 12), ('Payday loan', 13), ('Payday loan, title loan, or personal loan', 14), ('Other financial service', 15), ('Prepaid card', 16), ('Virtual currency', 17)])"
      ]
     },
     "execution_count": 33,
     "metadata": {},
     "output_type": "execute_result"
    }
   ],
   "source": [
    "category_to_id_dataset.items()"
   ]
  },
  {
   "cell_type": "code",
   "execution_count": 34,
   "metadata": {
    "ExecuteTime": {
     "end_time": "2018-11-04T05:00:47.130487Z",
     "start_time": "2018-11-04T04:59:22.521241Z"
    }
   },
   "outputs": [
    {
     "name": "stdout",
     "output_type": "stream",
     "text": [
      "# 'Bank account or service':\n",
      "  . Most correlated unigrams:\n",
      ". overdraft{nl}. bank\n",
      "  . Most correlated bigrams:\n",
      ". overdraft fees{nl}. checking account\n",
      "# 'Checking or savings account':\n",
      "  . Most correlated unigrams:\n",
      ". account{nl}. bank\n",
      "  . Most correlated bigrams:\n",
      ". debit card{nl}. checking account\n",
      "# 'Consumer Loan':\n",
      "  . Most correlated unigrams:\n",
      ". vehicle{nl}. car\n",
      "  . Most correlated bigrams:\n",
      ". chrysler capital{nl}. auto loan\n",
      "# 'Credit card':\n",
      "  . Most correlated unigrams:\n",
      ". macy{nl}. card\n",
      "  . Most correlated bigrams:\n",
      ". american express{nl}. credit card\n",
      "# 'Credit card or prepaid card':\n",
      "  . Most correlated unigrams:\n",
      ". express{nl}. card\n",
      "  . Most correlated bigrams:\n",
      ". american express{nl}. credit card\n",
      "# 'Credit reporting':\n",
      "  . Most correlated unigrams:\n",
      ". experian{nl}. equifax\n",
      "  . Most correlated bigrams:\n",
      ". xx xx{nl}. credit report\n",
      "# 'Credit reporting, credit repair services, or other personal consumer reports':\n",
      "  . Most correlated unigrams:\n",
      ". credit{nl}. report\n",
      "  . Most correlated bigrams:\n",
      ". credit report{nl}. xxxx xxxx\n",
      "# 'Debt collection':\n",
      "  . Most correlated unigrams:\n",
      ". collection{nl}. debt\n",
      "  . Most correlated bigrams:\n",
      ". debt collection{nl}. collection agency\n",
      "# 'Money transfer, virtual currency, or money service':\n",
      "  . Most correlated unigrams:\n",
      ". usd{nl}. coinbase\n",
      "  . Most correlated bigrams:\n",
      ". coinbase account{nl}. xxxx usd\n",
      "# 'Money transfers':\n",
      "  . Most correlated unigrams:\n",
      ". western{nl}. paypal\n",
      "  . Most correlated bigrams:\n",
      ". money gram{nl}. western union\n",
      "# 'Mortgage':\n",
      "  . Most correlated unigrams:\n",
      ". modification{nl}. mortgage\n",
      "  . Most correlated bigrams:\n",
      ". mortgage company{nl}. loan modification\n",
      "# 'Other financial service':\n",
      "  . Most correlated unigrams:\n",
      ". lexington{nl}. fedloanhelp\n",
      "  . Most correlated bigrams:\n",
      ". lexington law{nl}. money order\n",
      "# 'Payday loan':\n",
      "  . Most correlated unigrams:\n",
      ". castle{nl}. payday\n",
      "  . Most correlated bigrams:\n",
      ". castle payday{nl}. payday loan\n",
      "# 'Payday loan, title loan, or personal loan':\n",
      "  . Most correlated unigrams:\n",
      ". payday{nl}. loan\n",
      "  . Most correlated bigrams:\n",
      ". big picture{nl}. lending club\n",
      "# 'Prepaid card':\n",
      "  . Most correlated unigrams:\n",
      ". prepaid{nl}. rushcard\n",
      "  . Most correlated bigrams:\n",
      ". prepaid card{nl}. rush card\n",
      "# 'Student loan':\n",
      "  . Most correlated unigrams:\n",
      ". loans{nl}. navient\n",
      "  . Most correlated bigrams:\n",
      ". student loans{nl}. student loan\n",
      "# 'Vehicle loan or lease':\n",
      "  . Most correlated unigrams:\n",
      ". vehicle{nl}. car\n",
      "  . Most correlated bigrams:\n",
      ". credit acceptance{nl}. gm financial\n",
      "# 'Virtual currency':\n",
      "  . Most correlated unigrams:\n",
      ". output{nl}. signup\n",
      "  . Most correlated bigrams:\n",
      ". steps stated{nl}. met fully\n"
     ]
    }
   ],
   "source": [
    "from sklearn.feature_selection import chi2\n",
    "import numpy as np\n",
    "N = 2\n",
    "for Product, category_id in sorted(category_to_id_dataset.items()):\n",
    "    features_chi2 = chi2(X, y == category_id)\n",
    "    indices = np.argsort(features_chi2[0])\n",
    "    feature_names = np.array(matrix.get_feature_names())[indices]\n",
    "    unigrams = [v for v in feature_names if len(v.split(' ')) == 1]\n",
    "    bigrams = [v for v in feature_names if len(v.split(' ')) == 2]\n",
    "    nl = '\\n'\n",
    "    nl = chr(10)\n",
    "    print(f\"# '{Product}':\")\n",
    "    print(f\"  . Most correlated unigrams:{nl}. {'{nl}. '.join(unigrams[-N:])}\")\n",
    "    print(f\"  . Most correlated bigrams:{nl}. {'{nl}. '.join(bigrams[-N:])}\")\n"
   ]
  },
  {
   "cell_type": "code",
   "execution_count": null,
   "metadata": {},
   "outputs": [],
   "source": []
  }
 ],
 "metadata": {
  "kernelspec": {
   "display_name": "Python 3",
   "language": "python",
   "name": "python3"
  },
  "language_info": {
   "codemirror_mode": {
    "name": "ipython",
    "version": 3
   },
   "file_extension": ".py",
   "mimetype": "text/x-python",
   "name": "python",
   "nbconvert_exporter": "python",
   "pygments_lexer": "ipython3",
   "version": "3.7.0"
  },
  "varInspector": {
   "cols": {
    "lenName": 16,
    "lenType": 16,
    "lenVar": 40
   },
   "kernels_config": {
    "python": {
     "delete_cmd_postfix": "",
     "delete_cmd_prefix": "del ",
     "library": "var_list.py",
     "varRefreshCmd": "print(var_dic_list())"
    },
    "r": {
     "delete_cmd_postfix": ") ",
     "delete_cmd_prefix": "rm(",
     "library": "var_list.r",
     "varRefreshCmd": "cat(var_dic_list()) "
    }
   },
   "position": {
    "height": "387.8px",
    "left": "895px",
    "right": "20px",
    "top": "130px",
    "width": "589.8px"
   },
   "types_to_exclude": [
    "module",
    "function",
    "builtin_function_or_method",
    "instance",
    "_Feature"
   ],
   "window_display": false
  }
 },
 "nbformat": 4,
 "nbformat_minor": 2
}
