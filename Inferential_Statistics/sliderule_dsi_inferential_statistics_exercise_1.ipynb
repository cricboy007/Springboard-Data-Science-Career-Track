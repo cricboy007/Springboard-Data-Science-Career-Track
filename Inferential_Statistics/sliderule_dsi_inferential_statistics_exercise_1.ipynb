{
 "cells": [
  {
   "cell_type": "markdown",
   "metadata": {},
   "source": [
    "# What is the True Normal Human Body Temperature? \n",
    "\n",
    "#### Background\n",
    "\n",
    "The mean normal body temperature was held to be 37$^{\\circ}$C or 98.6$^{\\circ}$F for more than 120 years since it was first conceptualized and reported by Carl Wunderlich in a famous 1868 book. But, is this value statistically correct?"
   ]
  },
  {
   "cell_type": "markdown",
   "metadata": {},
   "source": [
    "<h3>Exercises</h3>\n",
    "\n",
    "<p>In this exercise, you will analyze a dataset of human body temperatures and employ the concepts of hypothesis testing, confidence intervals, and statistical significance.</p>\n",
    "\n",
    "<p>Answer the following questions <b>in this notebook below and submit to your Github account</b>.</p> \n",
    "\n",
    "<ol>\n",
    "<li>  Is the distribution of body temperatures normal? \n",
    "    <ul>\n",
    "    <li> Although this is not a requirement for the Central Limit Theorem to hold (read the introduction on Wikipedia's page about the CLT carefully: https://en.wikipedia.org/wiki/Central_limit_theorem), it gives us some peace of mind that the population may also be normally distributed if we assume that this sample is representative of the population.\n",
    "    <li> Think about the way you're going to check for the normality of the distribution. Graphical methods are usually used first, but there are also other ways: https://en.wikipedia.org/wiki/Normality_test\n",
    "    </ul>\n",
    "<li>  Is the sample size large? Are the observations independent?\n",
    "    <ul>\n",
    "    <li> Remember that this is a condition for the Central Limit Theorem, and hence the statistical tests we are using, to apply.\n",
    "    </ul>\n",
    "<li>  Is the true population mean really 98.6 degrees F?\n",
    "    <ul>\n",
    "    <li> First, try a bootstrap hypothesis test.\n",
    "    <li> Now, let's try frequentist statistical testing. Would you use a one-sample or two-sample test? Why?\n",
    "    <li> In this situation, is it appropriate to use the $t$ or $z$ statistic? \n",
    "    <li> Now try using the other test. How is the result be different? Why?\n",
    "    </ul>\n",
    "<li>  Draw a small sample of size 10 from the data and repeat both frequentist tests. \n",
    "    <ul>\n",
    "    <li> Which one is the correct one to use? \n",
    "    <li> What do you notice? What does this tell you about the difference in application of the $t$ and $z$ statistic?\n",
    "    </ul>\n",
    "<li>  At what temperature should we consider someone's temperature to be \"abnormal\"?\n",
    "    <ul>\n",
    "    <li> As in the previous example, try calculating everything using the boostrap approach, as well as the frequentist approach.\n",
    "    <li> Start by computing the margin of error and confidence interval. When calculating the confidence interval, keep in mind that you should use the appropriate formula for one draw, and not N draws.\n",
    "    </ul>\n",
    "<li>  Is there a significant difference between males and females in normal temperature?\n",
    "    <ul>\n",
    "    <li> What testing approach did you use and why?\n",
    "    <li> Write a story with your conclusion in the context of the original problem.\n",
    "    </ul>\n",
    "</ol>\n",
    "\n",
    "You can include written notes in notebook cells using Markdown: \n",
    "   - In the control panel at the top, choose Cell > Cell Type > Markdown\n",
    "   - Markdown syntax: http://nestacms.com/docs/creating-content/markdown-cheat-sheet\n",
    "\n",
    "#### Resources\n",
    "\n",
    "+ Information and data sources: http://www.amstat.org/publications/jse/datasets/normtemp.txt, http://www.amstat.org/publications/jse/jse_data_archive.htm\n",
    "+ Markdown syntax: http://nestacms.com/docs/creating-content/markdown-cheat-sheet\n",
    "\n",
    "****"
   ]
  },
  {
   "cell_type": "code",
   "execution_count": 7,
   "metadata": {
    "ExecuteTime": {
     "end_time": "2018-06-25T01:56:11.528620Z",
     "start_time": "2018-06-25T01:56:11.506529Z"
    }
   },
   "outputs": [
    {
     "data": {
      "text/plain": [
       "(130, 3)"
      ]
     },
     "execution_count": 7,
     "metadata": {},
     "output_type": "execute_result"
    }
   ],
   "source": [
    "%matplotlib inline\n",
    "import pandas as pd\n",
    "import numpy as np\n",
    "from scipy import stats\n",
    "from scipy.stats import probplot\n",
    "from scipy.stats.mstats import zscore\n",
    "import seaborn as sns\n",
    "sns.set_style(\"darkgrid\")\n",
    "import matplotlib.pyplot as plt\n",
    "import statsmodels.api as sm\n",
    "\n",
    "#sns.set_style(\"darkgrid\")\n",
    "\n",
    "df = pd.read_csv('data/human_body_temperature.csv')\n",
    "df.shape"
   ]
  },
  {
   "cell_type": "markdown",
   "metadata": {
    "ExecuteTime": {
     "end_time": "2018-06-25T01:39:59.311064Z",
     "start_time": "2018-06-25T01:39:59.302542Z"
    },
    "collapsed": true
   },
   "source": [
    "<li>  Is the distribution of body temperatures normal? \n",
    "    <ul>\n",
    "    <li> Although this is not a requirement for the Central Limit Theorem to hold (read the introduction on Wikipedia's page about the CLT carefully: https://en.wikipedia.org/wiki/Central_limit_theorem), it gives us some peace of mind that the population may also be normally distributed if we assume that this sample is representative of the population.\n",
    "    <li> Think about the way you're going to check for the normality of the distribution. Graphical methods are usually used first, but there are also other ways: https://en.wikipedia.org/wiki/Normality_test\n",
    "    </ul>"
   ]
  },
  {
   "cell_type": "markdown",
   "metadata": {},
   "source": [
    "1) Check if the distribution of the sample is normal. It's general knowledge that all human beings have about same body temperature. Temperature over certain mean value and beyond standard deviation would be extremely rare and it could be an outlier. \n",
    "\n",
    "https://docs.scipy.org/doc/scipy/reference/generated/scipy.stats.normaltest.html"
   ]
  },
  {
   "cell_type": "code",
   "execution_count": 4,
   "metadata": {
    "ExecuteTime": {
     "end_time": "2018-06-25T01:51:01.823817Z",
     "start_time": "2018-06-25T01:51:01.816799Z"
    }
   },
   "outputs": [
    {
     "data": {
      "text/plain": [
       "NormaltestResult(statistic=2.703801433319203, pvalue=0.2587479863488254)"
      ]
     },
     "execution_count": 4,
     "metadata": {},
     "output_type": "execute_result"
    }
   ],
   "source": [
    "temperatures = df['temperature']\n",
    "stats.normaltest(temperatures)"
   ]
  },
  {
   "cell_type": "markdown",
   "metadata": {},
   "source": [
    "The scipy.stats.normaltest of distribution returns a tuple: the first value is the chi-squared statistic and the second is the p-value. If the p-value is above a certain threshold; in this case 0.05, we can assume that the distribution of dataset is a normal distribution. The p-value is ~0.258 which is much greater than 0.05. Therefore, the temperatures is a normal distribution.\n",
    "\n",
    "Generally histogram and a quantile-quantile plot are used to show normal distribution graphically."
   ]
  },
  {
   "cell_type": "code",
   "execution_count": 8,
   "metadata": {
    "ExecuteTime": {
     "end_time": "2018-06-25T01:56:15.537292Z",
     "start_time": "2018-06-25T01:56:15.363180Z"
    }
   },
   "outputs": [
    {
     "data": {
      "text/plain": [
       "<matplotlib.axes._subplots.AxesSubplot at 0x1f8fe241208>"
      ]
     },
     "execution_count": 8,
     "metadata": {},
     "output_type": "execute_result"
    },
    {
     "data": {
      "image/png": "[encoded data removed]",
      "text/plain": [
       "<matplotlib.figure.Figure at 0x1f8fe616358>"
      ]
     },
     "metadata": {},
     "output_type": "display_data"
    }
   ],
   "source": [
    "sns.distplot(temperatures)"
   ]
  },
  {
   "cell_type": "code",
   "execution_count": 9,
   "metadata": {
    "ExecuteTime": {
     "end_time": "2018-06-25T01:58:46.169106Z",
     "start_time": "2018-06-25T01:58:45.987679Z"
    }
   },
   "outputs": [
    {
     "data": {
      "image/png": "[encoded data removed]",
      "text/plain": [
       "<matplotlib.figure.Figure at 0x1f8fe6b34a8>"
      ]
     },
     "execution_count": 9,
     "metadata": {},
     "output_type": "execute_result"
    },
    {
     "data": {
      "image/png": "[encoded data removed]",
      "text/plain": [
       "<matplotlib.figure.Figure at 0x1f8fe6b34a8>"
      ]
     },
     "metadata": {},
     "output_type": "display_data"
    }
   ],
   "source": [
    "zscores = zscore(temperatures)\n",
    "sm.qqplot(zscores, line='45')"
   ]
  },
  {
   "cell_type": "markdown",
   "metadata": {},
   "source": [
    "### Conclusions\n",
    "* The sampled distribution is normal\n",
    "* Sample distribution is a good representative of the population"
   ]
  },
  {
   "cell_type": "markdown",
   "metadata": {},
   "source": [
    "<li>  Is the sample size large? Are the observations independent?\n",
    "    <ul>\n",
    "    <li> Remember that this is a condition for the Central Limit Theorem, and hence the statistical tests we are using, to apply.\n",
    "    </ul>"
   ]
  },
  {
   "cell_type": "code",
   "execution_count": 10,
   "metadata": {
    "ExecuteTime": {
     "end_time": "2018-06-25T02:02:13.218698Z",
     "start_time": "2018-06-25T02:02:13.214688Z"
    }
   },
   "outputs": [
    {
     "data": {
      "text/plain": [
       "(130, 3)"
      ]
     },
     "execution_count": 10,
     "metadata": {},
     "output_type": "execute_result"
    }
   ],
   "source": [
    "df.shape"
   ]
  },
  {
   "cell_type": "markdown",
   "metadata": {},
   "source": [
    "### Conclusions\n",
    "* According to the Central Limit Theorem, we require at least 30 samples to satisfy the CLT conditions. Since our sample size is much larger than 30, we can safely say that the sample size is large enough. \n",
    "* Person's body temperature is independent of other person. The samples are statistically independent\n",
    "\n"
   ]
  },
  {
   "cell_type": "markdown",
   "metadata": {},
   "source": [
    "<li>  Is the true population mean really 98.6 degrees F?\n",
    "    <ul>\n",
    "    <li> First, try a bootstrap hypothesis test.\n",
    "    <li> Now, let's try frequentist statistical testing. Would you use a one-sample or two-sample test? Why?\n",
    "    <li> In this situation, is it appropriate to use the $t$ or $z$ statistic? \n",
    "    <li> Now try using the other test. How is the result be different? Why?\n",
    "    </ul>"
   ]
  },
  {
   "cell_type": "markdown",
   "metadata": {},
   "source": [
    "**Bootstrap hypothesis:**\n",
    "\n",
    "* **Null Hypothesis:** The true population mean is 98.6 degrees F.\n",
    "* **Alternate Hypothesis:** The true population mean is not 98.6 degrees F."
   ]
  },
  {
   "cell_type": "code",
   "execution_count": 12,
   "metadata": {
    "ExecuteTime": {
     "end_time": "2018-06-25T02:21:00.754317Z",
     "start_time": "2018-06-25T02:21:00.746297Z"
    }
   },
   "outputs": [
    {
     "data": {
      "text/plain": [
       "(98.24923076923078, 0.7331831580389454, 0.06405661469519337)"
      ]
     },
     "execution_count": 12,
     "metadata": {},
     "output_type": "execute_result"
    }
   ],
   "source": [
    "true_mean = 98.6\n",
    "sample_mean = df['temperature'].mean()\n",
    "sample_std = df['temperature'].std()\n",
    "standard_error = stats.sem(df['temperature'], axis=None, ddof=0)\n",
    "sample_mean, sample_std, standard_error"
   ]
  },
  {
   "cell_type": "markdown",
   "metadata": {
    "ExecuteTime": {
     "end_time": "2018-06-25T02:21:56.698940Z",
     "start_time": "2018-06-25T02:21:56.690951Z"
    }
   },
   "source": [
    "We have now obtained the values of the sample mean, the sample standard deviation and the sigma_x value.\n",
    "\n",
    "The next step is to check how many standard deviations away is 98.6 (true mean) from 98.25 (sample mean)."
   ]
  },
  {
   "cell_type": "code",
   "execution_count": 15,
   "metadata": {
    "ExecuteTime": {
     "end_time": "2018-06-25T02:25:31.137923Z",
     "start_time": "2018-06-25T02:25:31.132912Z"
    }
   },
   "outputs": [
    {
     "data": {
      "text/plain": [
       "5.475925202078115"
      ]
     },
     "execution_count": 15,
     "metadata": {},
     "output_type": "execute_result"
    }
   ],
   "source": [
    "z = (98.6 - sample_mean) / standard_error\n",
    "z"
   ]
  },
  {
   "cell_type": "code",
   "execution_count": 16,
   "metadata": {
    "ExecuteTime": {
     "end_time": "2018-06-25T02:25:37.162073Z",
     "start_time": "2018-06-25T02:25:37.157057Z"
    }
   },
   "outputs": [
    {
     "data": {
      "text/plain": [
       "4.352315174926957e-08"
      ]
     },
     "execution_count": 16,
     "metadata": {},
     "output_type": "execute_result"
    }
   ],
   "source": [
    "p = (1-stats.norm.cdf(z))*2\n",
    "p"
   ]
  },
  {
   "cell_type": "markdown",
   "metadata": {},
   "source": [
    "### Conclusions\n",
    "\n",
    "* The p-value is extremely small. Therefore, we can **reject the null hypothesis**.\n",
    "* We are comparing the sample mean to known value of population mean. Hence, the **one sample test** is more appropriate.\n",
    "* The sample size is greater than 30. Hence, using the **z-statistic** is more appropriate."
   ]
  },
  {
   "cell_type": "markdown",
   "metadata": {},
   "source": [
    "You should do a two sample test when you are comparing two samples, each of which has variability that should be modeled. A one sample test would be if you are comparing the mean of a sample to some fixed value."
   ]
  },
  {
   "cell_type": "markdown",
   "metadata": {},
   "source": [
    "Let's calculate p value fro t-statistic"
   ]
  },
  {
   "cell_type": "code",
   "execution_count": 17,
   "metadata": {
    "ExecuteTime": {
     "end_time": "2018-06-25T02:54:28.839149Z",
     "start_time": "2018-06-25T02:54:28.833133Z"
    }
   },
   "outputs": [
    {
     "data": {
      "text/plain": [
       "2.1887464640713006e-07"
      ]
     },
     "execution_count": 17,
     "metadata": {},
     "output_type": "execute_result"
    }
   ],
   "source": [
    "t = (98.6 - sample_mean) / standard_error\n",
    "p = (1 - stats.t.cdf(t, len(df)-1))*2"
   ]
  },
  {
   "cell_type": "code",
   "execution_count": 24,
   "metadata": {
    "ExecuteTime": {
     "end_time": "2018-06-25T03:07:16.115608Z",
     "start_time": "2018-06-25T03:07:16.109623Z"
    }
   },
   "outputs": [
    {
     "data": {
      "text/plain": [
       "Ttest_1sampResult(statistic=-5.4548232923645195, pvalue=2.4106320415561276e-07)"
      ]
     },
     "execution_count": 24,
     "metadata": {},
     "output_type": "execute_result"
    }
   ],
   "source": [
    "stats.ttest_1samp(df['temperature'], 98.6)"
   ]
  },
  {
   "cell_type": "markdown",
   "metadata": {
    "ExecuteTime": {
     "end_time": "2018-06-25T03:08:53.114694Z",
     "start_time": "2018-06-25T03:08:53.108466Z"
    }
   },
   "source": [
    "### Conclusions\n",
    "\n",
    "* The p-value for the t-statistic is ten times larger than the p-value of the z-statisitc. \n",
    "* However, it is still extremely small. Therefore, we can safely reject the null hypothesis.\n",
    "* All the conclusions arrived at with z-statistics also hold with the t-statistics."
   ]
  },
  {
   "cell_type": "markdown",
   "metadata": {
    "ExecuteTime": {
     "end_time": "2018-06-25T03:12:55.683915Z",
     "start_time": "2018-06-25T03:12:55.674889Z"
    }
   },
   "source": [
    "<li>  Draw a small sample of size 10 from the data and repeat both frequentist tests. \n",
    "    <ul>\n",
    "    <li> Which one is the correct one to use? \n",
    "    <li> What do you notice? What does this tell you about the difference in application of the $t$ and $z$ statistic?\n",
    "    </ul>"
   ]
  },
  {
   "cell_type": "code",
   "execution_count": 31,
   "metadata": {
    "ExecuteTime": {
     "end_time": "2018-06-25T03:14:55.679555Z",
     "start_time": "2018-06-25T03:14:55.653486Z"
    }
   },
   "outputs": [
    {
     "name": "stdout",
     "output_type": "stream",
     "text": [
      "98.28 0.5613475849338914 0.17751369274259166\n",
      "0.07143882453877404\n"
     ]
    },
    {
     "data": {
      "text/plain": [
       "0.07377341333566223"
      ]
     },
     "execution_count": 31,
     "metadata": {},
     "output_type": "execute_result"
    }
   ],
   "source": [
    "sample = df.sample(10)\n",
    "sample\n",
    "\n",
    "true_mean = 98.6\n",
    "sample_mean = sample['temperature'].mean()\n",
    "sample_std = sample['temperature'].std()\n",
    "standard_error = sample_std/np.sqrt(len(sample))\n",
    "\n",
    "print(sample_mean, sample_std, standard_error)\n",
    "\n",
    "z = (98.6 - sample_mean) / standard_error\n",
    "zp = (1-stats.norm.cdf(z))*2\n",
    "print(zp)\n",
    "\n",
    "t = z\n",
    "tp = (1 - stats.t.cdf(t, len(df)-1))*2\n",
    "tp"
   ]
  },
  {
   "cell_type": "markdown",
   "metadata": {},
   "source": [
    "### Conclusions\n",
    "\n",
    "* p-values obtained from random sample of 10 values for the z-statistic and t-statistic are considerably larger. \n",
    "* Therefore, we can not safely reject the null hypothesis.\n",
    "* All the conclusions arrived at with z-statistics do not hold with sample of 10 statistics."
   ]
  },
  {
   "cell_type": "markdown",
   "metadata": {
    "ExecuteTime": {
     "end_time": "2018-06-25T03:21:28.144325Z",
     "start_time": "2018-06-25T03:21:28.135296Z"
    }
   },
   "source": [
    "<li>  At what temperature should we consider someone's temperature to be \"abnormal\"?\n",
    "    <ul>\n",
    "    <li> As in the previous example, try calculating everything using the boostrap approach, as well as the frequentist approach.\n",
    "    <li> Start by computing the margin of error and confidence interval. When calculating the confidence interval, keep in mind that you should use the appropriate formula for one draw, and not N draws.\n",
    "    </ul>"
   ]
  },
  {
   "cell_type": "markdown",
   "metadata": {},
   "source": [
    "Let us first calculate the true mean of human temperature with a confidence interval of 95%."
   ]
  },
  {
   "cell_type": "code",
   "execution_count": 36,
   "metadata": {
    "ExecuteTime": {
     "end_time": "2018-06-25T03:29:40.272788Z",
     "start_time": "2018-06-25T03:29:40.266773Z"
    }
   },
   "outputs": [
    {
     "data": {
      "text/plain": [
       "(98.12200290560804, 98.37645863285351)"
      ]
     },
     "execution_count": 36,
     "metadata": {},
     "output_type": "execute_result"
    }
   ],
   "source": [
    "a = df['temperature']\n",
    "stats.t.interval(0.95, len(a)-1, loc=np.mean(a), scale=st.sem(a))"
   ]
  },
  {
   "cell_type": "markdown",
   "metadata": {},
   "source": [
    "From the above results, we are 95% confident that the true mean is somewhere between 98.122F and 98.376F. The margin of error is 10%. Therefore, we can consider any temperature outside this range to be abnormal.\n",
    "\n",
    "### Conclusion\n",
    "A body temperature below 98.123 and above 98.375 should be considered abnormal."
   ]
  },
  {
   "cell_type": "markdown",
   "metadata": {},
   "source": [
    "<li>  Is there a significant difference between males and females in normal temperature?\n",
    "    <ul>\n",
    "    <li> What testing approach did you use and why?\n",
    "    <li> Write a story with your conclusion in the context of the original problem.\n",
    "    </ul>"
   ]
  },
  {
   "cell_type": "code",
   "execution_count": 45,
   "metadata": {
    "ExecuteTime": {
     "end_time": "2018-06-25T03:38:03.677817Z",
     "start_time": "2018-06-25T03:38:03.665824Z"
    }
   },
   "outputs": [
    {
     "data": {
      "text/plain": [
       "(65, 65)"
      ]
     },
     "execution_count": 45,
     "metadata": {},
     "output_type": "execute_result"
    }
   ],
   "source": [
    "male_temps = df[df['gender'] == 'M']['temperature']\n",
    "female_temps = df[df['gender'] == 'F']['temperature']\n",
    "\n",
    "len(male_temps), len(female_temps)"
   ]
  },
  {
   "cell_type": "code",
   "execution_count": 40,
   "metadata": {
    "ExecuteTime": {
     "end_time": "2018-06-25T03:34:53.433768Z",
     "start_time": "2018-06-25T03:34:53.427752Z"
    }
   },
   "outputs": [
    {
     "data": {
      "text/plain": [
       "(98.1046153846154, 0.6987557623265908)"
      ]
     },
     "execution_count": 40,
     "metadata": {},
     "output_type": "execute_result"
    }
   ],
   "source": [
    "male_mean = male_temps.mean()\n",
    "male_std = male_temps.std()\n",
    "\n",
    "male_mean, male_std"
   ]
  },
  {
   "cell_type": "code",
   "execution_count": 41,
   "metadata": {
    "ExecuteTime": {
     "end_time": "2018-06-25T03:34:59.271396Z",
     "start_time": "2018-06-25T03:34:59.265440Z"
    }
   },
   "outputs": [
    {
     "data": {
      "text/plain": [
       "(98.39384615384613, 0.7434877527313665)"
      ]
     },
     "execution_count": 41,
     "metadata": {},
     "output_type": "execute_result"
    }
   ],
   "source": [
    "female_mean = female_temps.mean()\n",
    "female_std = female_temps.std()\n",
    "\n",
    "female_mean, female_std"
   ]
  },
  {
   "cell_type": "markdown",
   "metadata": {},
   "source": [
    "From the above calculations, it can be seen that the mean and the standard deviations of male and female temperatures differ slightly. The next step is to determine if this difference is a statistically significant one.\n",
    "\n",
    "For hypothesis testing, the following are defined:\n",
    "\n",
    "* **Null Hypothesis:** The true mean temperature for men and women are the same.\n",
    "* **Alternate Hypothesis:** The true mean temperature for men and women are not the same.\n",
    "\n",
    "The threshold value of $\\alpha$ is assumed to be 0.05.\n",
    "Assuming Null Hypothesis is true."
   ]
  },
  {
   "cell_type": "code",
   "execution_count": 46,
   "metadata": {
    "ExecuteTime": {
     "end_time": "2018-06-25T03:38:17.257936Z",
     "start_time": "2018-06-25T03:38:17.250918Z"
    }
   },
   "outputs": [
    {
     "name": "stdout",
     "output_type": "stream",
     "text": [
      "t = -2.2854345381656103\n",
      "p = 0.04786376624479122\n"
     ]
    }
   ],
   "source": [
    "t2, p2 = stats.ttest_ind(male_temps,female_temps)\n",
    "print(\"t = \" + str(t2))\n",
    "print(\"p = \" + str(2*p2))"
   ]
  },
  {
   "cell_type": "markdown",
   "metadata": {},
   "source": [
    "The p-value obtained in this case is 0.04 which is less than the accepted threshold of 0.05.\n",
    "\n",
    "Therefore, we have to reject the null hypothesis and accept the alternate hypothesis. In other words, **there is a significant difference in male and female body temperatures.**\n",
    "\n",
    "For this test, two-sample test was used as we were trying to compare the means of two different groups. "
   ]
  },
  {
   "cell_type": "markdown",
   "metadata": {},
   "source": [
    "## Summary\n",
    "\n",
    "1. The distribution of human temperatures is normal and can be modeled as a Gaussian distribution.\n",
    "2. The human temperatures are statistically independent.\n",
    "3. We are reasonably confident that the mean temperature of the human body is not 98.6F. This is done by hypothesis testing and calculating the corresponding z-statistic.\n",
    "4. With smaller random sample size results were contradicting with larger population.\n",
    "4. The z-statistic and t-statsitic yield similar results for sample sizes greater than 30.\n",
    "5. Male and female body temperatures differ significantly to be of statistical importance."
   ]
  },
  {
   "cell_type": "code",
   "execution_count": null,
   "metadata": {},
   "outputs": [],
   "source": []
  }
 ],
 "metadata": {
  "kernelspec": {
   "display_name": "Python 3",
   "language": "python",
   "name": "python3"
  },
  "language_info": {
   "codemirror_mode": {
    "name": "ipython",
    "version": 3
   },
   "file_extension": ".py",
   "mimetype": "text/x-python",
   "name": "python",
   "nbconvert_exporter": "python",
   "pygments_lexer": "ipython3",
   "version": "3.6.4"
  }
 },
 "nbformat": 4,
 "nbformat_minor": 1
}
