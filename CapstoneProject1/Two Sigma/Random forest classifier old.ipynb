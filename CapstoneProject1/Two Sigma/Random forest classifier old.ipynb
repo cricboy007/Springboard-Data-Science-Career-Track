{
 "cells": [
  {
   "cell_type": "markdown",
   "metadata": {},
   "source": [
    "Two Sigma Connect: Rental Listing Inquiries \n",
    "===\n",
    "---\n",
    "\n",
    " - This classification model predicts the degree of popularity for a rental listing based on listings' attribute such as the number of rooms, location, price, etc.  \n",
    " - It predicts whether a given listing would receive \"low,\" \"medium,\" or\n",
    "   \"high\" interest with its corresponding probability to a particular listing.\n",
    "\n",
    "---\n",
    "**Multiclass Classifier with Probability Estimates**\n",
    "---\n",
    "As target variable Interest level has 3 values. This dataset is a good candidate for multiclass classifier. \n",
    "\n",
    "**Datasets**\n",
    "---\n",
    "NYC rent listing data from the rental website RentHop which is used to find the desired home.\n",
    "Data is freely available for non commercial use at See https://www.kaggle.com/c/two-sigma-connect-rental-listing-inquiries/data"
   ]
  },
  {
   "cell_type": "code",
   "execution_count": 1,
   "metadata": {
    "ExecuteTime": {
     "end_time": "2018-08-01T23:51:34.904893Z",
     "start_time": "2018-08-01T23:51:33.852454Z"
    }
   },
   "outputs": [],
   "source": [
    "# import libraries\n",
    "\n",
    "import collections\n",
    "import warnings\n",
    "warnings.filterwarnings(\"ignore\")\n",
    "import numpy as np\n",
    "import pandas as pd\n",
    "from pprint import pprint\n",
    "from sklearn.metrics import classification_report, confusion_matrix, accuracy_score\n",
    "from sklearn.model_selection import cross_val_score\n",
    "from sklearn.model_selection import train_test_split\n",
    "from sklearn.linear_model import LogisticRegression\n",
    "from sklearn.multiclass import OneVsRestClassifier\n",
    "from sklearn.ensemble import RandomForestClassifier\n",
    "from sklearn.metrics import log_loss\n",
    "from sklearn import preprocessing\n",
    "from scipy import stats\n",
    "from sklearn.preprocessing import StandardScaler"
   ]
  },
  {
   "cell_type": "code",
   "execution_count": 2,
   "metadata": {
    "ExecuteTime": {
     "end_time": "2018-08-01T23:51:34.919611Z",
     "start_time": "2018-08-01T23:51:34.906576Z"
    }
   },
   "outputs": [
    {
     "data": {
      "text/plain": [
       "'C:\\\\Users\\\\kdeodhar\\\\twoSigma\\\\input'"
      ]
     },
     "execution_count": 2,
     "metadata": {},
     "output_type": "execute_result"
    }
   ],
   "source": [
    "# import data\n",
    "\n",
    "data_path = r\"C:\\Users\\kdeodhar\\twoSigma\\input\"\n",
    "data_path"
   ]
  },
  {
   "cell_type": "code",
   "execution_count": 3,
   "metadata": {
    "ExecuteTime": {
     "end_time": "2018-08-01T23:51:36.444665Z",
     "start_time": "2018-08-01T23:51:34.921616Z"
    }
   },
   "outputs": [
    {
     "name": "stdout",
     "output_type": "stream",
     "text": [
      "Training data loaded\n"
     ]
    }
   ],
   "source": [
    "# seperate split training dataframe in X and y\n",
    "# X has all the fetures\n",
    "# y has target variable\n",
    "\n",
    "train_file = data_path + r\"\\train.json\"\n",
    "train = pd.read_json(train_file)\n",
    "train['interest_level'] = train['interest_level'].astype('category')\n",
    "train['interest_level'] = train['interest_level'].cat.codes\n",
    "X = train.drop('interest_level', axis=1)\n",
    "y = train['interest_level']\n",
    "y.columns = ['interest_level']\n",
    "print(\"Training data loaded\")"
   ]
  },
  {
   "cell_type": "code",
   "execution_count": 4,
   "metadata": {
    "ExecuteTime": {
     "end_time": "2018-08-01T23:51:36.746265Z",
     "start_time": "2018-08-01T23:51:36.447674Z"
    }
   },
   "outputs": [],
   "source": [
    "# preprocess X (training data)\n",
    "# I am keeping only numerical variables for this run\n",
    "\n",
    "X['created'] = pd.to_datetime(X['created'])\n",
    "X['year'] = X['created'].dt.year\n",
    "X['month'] = X['created'].dt.month\n",
    "X['day'] = X['created'].dt.day\n",
    "\n",
    "num_photos = []\n",
    "for photo in X['photos']:\n",
    "    num_photos.append(len(photo))\n",
    "num_photos_df = pd.DataFrame(num_photos, index=X.index, columns=['num_photos'])\n",
    "X = X.assign(num_photos=num_photos_df)\n",
    "\n",
    "len_description = []\n",
    "for description in X['description']:\n",
    "    len_description.append(len(description))\n",
    "len_description_df = pd.DataFrame(len_description, index=X.index, columns=['len_description'])\n",
    "X = X.assign(len_description=len_description_df)\n",
    "\n",
    "num_features = []\n",
    "for feature in X['features']:\n",
    "    num_features.append(len(feature))\n",
    "num_features_df = pd.DataFrame(num_features, index=X.index, columns=['num_features'])\n",
    "X = X.assign(num_features=num_features_df)\n",
    "\n",
    "X = X.drop('building_id', axis=1)\n",
    "X = X.drop('created', axis=1)\n",
    "X = X.drop('description', axis=1)\n",
    "X = X.drop('display_address', axis=1)\n",
    "X = X.drop('features', axis=1)\n",
    "X = X.drop('manager_id', axis=1)\n",
    "X = X.drop('photos', axis=1)\n",
    "X = X.drop('street_address', axis=1)\n",
    "X = X.drop('listing_id', axis=1)\n"
   ]
  },
  {
   "cell_type": "code",
   "execution_count": 5,
   "metadata": {
    "ExecuteTime": {
     "end_time": "2018-08-01T23:51:36.763117Z",
     "start_time": "2018-08-01T23:51:36.749078Z"
    }
   },
   "outputs": [],
   "source": [
    "# split the dataset \n",
    "\n",
    "X_train, X_test, y_train, y_test = train_test_split(X, y, test_size = 0.25, random_state = 0)"
   ]
  },
  {
   "cell_type": "code",
   "execution_count": 7,
   "metadata": {
    "ExecuteTime": {
     "end_time": "2018-08-01T23:51:36.792196Z",
     "start_time": "2018-08-01T23:51:36.783677Z"
    }
   },
   "outputs": [],
   "source": [
    "# convert dataset to arrays.\n",
    "\n",
    "X_train = np.asarray(X_train, dtype='int')\n",
    "y_train = np.asarray(y_train, dtype='int')\n",
    "X_test = np.asarray(X_test, dtype='int')\n",
    "y_test = np.asarray(y_test, dtype='int')"
   ]
  },
  {
   "cell_type": "code",
   "execution_count": 8,
   "metadata": {
    "ExecuteTime": {
     "end_time": "2018-08-01T23:51:36.824846Z",
     "start_time": "2018-08-01T23:51:36.794766Z"
    }
   },
   "outputs": [],
   "source": [
    "# Feature Scaling\n",
    "\n",
    "scaler = StandardScaler()\n",
    "X_train = scaler.fit_transform(X_train)\n",
    "X_test = scaler.transform(X_test)"
   ]
  },
  {
   "cell_type": "code",
   "execution_count": 9,
   "metadata": {
    "ExecuteTime": {
     "end_time": "2018-08-01T23:52:34.054511Z",
     "start_time": "2018-08-01T23:51:36.826852Z"
    }
   },
   "outputs": [
    {
     "data": {
      "text/plain": [
       "RandomForestClassifier(bootstrap=True, class_weight=None, criterion='entropy',\n",
       "            max_depth=None, max_features='auto', max_leaf_nodes=None,\n",
       "            min_impurity_decrease=0.0, min_impurity_split=None,\n",
       "            min_samples_leaf=1, min_samples_split=2,\n",
       "            min_weight_fraction_leaf=0.0, n_estimators=1000, n_jobs=1,\n",
       "            oob_score=False, random_state=42, verbose=0, warm_start=False)"
      ]
     },
     "execution_count": 9,
     "metadata": {},
     "output_type": "execute_result"
    }
   ],
   "source": [
    "# Fitting Random Forest Classification to the Training set\n",
    "\n",
    "classifier = RandomForestClassifier(n_estimators = 1000, criterion = 'entropy', random_state = 42)\n",
    "classifier.fit(X_train, y_train)"
   ]
  },
  {
   "cell_type": "code",
   "execution_count": 10,
   "metadata": {
    "ExecuteTime": {
     "end_time": "2018-08-01T23:52:37.150612Z",
     "start_time": "2018-08-01T23:52:34.056517Z"
    }
   },
   "outputs": [],
   "source": [
    "# Predicting the Test set results\n",
    "\n",
    "y_pred = classifier.predict(X_test)"
   ]
  },
  {
   "cell_type": "code",
   "execution_count": 11,
   "metadata": {
    "ExecuteTime": {
     "end_time": "2018-08-01T23:52:37.183315Z",
     "start_time": "2018-08-01T23:52:37.153275Z"
    }
   },
   "outputs": [
    {
     "data": {
      "text/plain": [
       "array([[ 173,  514,  254],\n",
       "       [  83, 8001,  524],\n",
       "       [ 115, 2109,  565]], dtype=int64)"
      ]
     },
     "execution_count": 11,
     "metadata": {},
     "output_type": "execute_result"
    },
    {
     "name": "stdout",
     "output_type": "stream",
     "text": [
      "             precision    recall  f1-score   support\n",
      "\n",
      "          0       0.47      0.18      0.26       941\n",
      "          1       0.75      0.93      0.83      8608\n",
      "          2       0.42      0.20      0.27      2789\n",
      "\n",
      "avg / total       0.66      0.71      0.66     12338\n",
      "\n"
     ]
    },
    {
     "data": {
      "text/plain": [
       "0.7082995623277679"
      ]
     },
     "execution_count": 11,
     "metadata": {},
     "output_type": "execute_result"
    }
   ],
   "source": [
    "# Evaluating the Algorithm\n",
    "\n",
    "confusion_matrix(y_test,y_pred)\n",
    "print(classification_report(y_test,y_pred))\n",
    "accuracy_score(y_test, y_pred)"
   ]
  },
  {
   "cell_type": "code",
   "execution_count": 12,
   "metadata": {
    "ExecuteTime": {
     "end_time": "2018-08-01T23:52:37.193848Z",
     "start_time": "2018-08-01T23:52:37.186324Z"
    }
   },
   "outputs": [
    {
     "name": "stdout",
     "output_type": "stream",
     "text": [
      "{'bootstrap': [True, False],\n",
      " 'max_depth': [10, 20, 30, 40, 50, 60, 70, 80, 90, 100, 110, None],\n",
      " 'max_features': ['auto', 'sqrt'],\n",
      " 'min_samples_leaf': [1, 2, 4],\n",
      " 'min_samples_split': [2, 5, 10],\n",
      " 'n_estimators': [1, 223, 445, 667, 889, 1111, 1333, 1555, 1777, 2000]}\n"
     ]
    }
   ],
   "source": [
    "# tune the hyperparameters\n",
    "\n",
    "from sklearn.model_selection import RandomizedSearchCV\n",
    "\n",
    "# Number of trees in random forest\n",
    "n_estimators = [int(x) for x in np.linspace(start = 1, stop = 2000, num = 10)]\n",
    "# Number of features to consider at every split\n",
    "max_features = ['auto', 'sqrt']\n",
    "# Maximum number of levels in tree\n",
    "max_depth = [int(x) for x in np.linspace(10, 110, num = 11)]\n",
    "max_depth.append(None)\n",
    "# Minimum number of samples required to split a node\n",
    "min_samples_split = [2, 5, 10]\n",
    "# Minimum number of samples required at each leaf node\n",
    "min_samples_leaf = [1, 2, 4]\n",
    "# Method of selecting samples for training each tree\n",
    "bootstrap = [True, False]\n",
    "\n",
    "# Create the random grid\n",
    "random_grid = {'n_estimators': n_estimators,\n",
    "               'max_features': max_features,\n",
    "               'max_depth': max_depth,\n",
    "               'min_samples_split': min_samples_split,\n",
    "               'min_samples_leaf': min_samples_leaf,\n",
    "               'bootstrap': bootstrap}\n",
    "\n",
    "pprint(random_grid)"
   ]
  },
  {
   "cell_type": "code",
   "execution_count": 13,
   "metadata": {
    "ExecuteTime": {
     "end_time": "2018-08-02T00:00:46.990499Z",
     "start_time": "2018-08-01T23:52:37.196855Z"
    }
   },
   "outputs": [
    {
     "name": "stdout",
     "output_type": "stream",
     "text": [
      "Fitting 3 folds for each of 10 candidates, totalling 30 fits\n"
     ]
    },
    {
     "name": "stderr",
     "output_type": "stream",
     "text": [
      "[Parallel(n_jobs=-1)]: Done  30 out of  30 | elapsed:  7.5min finished\n"
     ]
    }
   ],
   "source": [
    "# Use the random grid to search for best hyperparameters\n",
    "# First create the base model to tune\n",
    "rf = RandomForestClassifier(random_state = 42)\n",
    "# Random search of parameters, using 3 fold cross validation, \n",
    "# search across 10 different combinations, and use all available cores\n",
    "rf_random = RandomizedSearchCV(estimator=rf, param_distributions=random_grid,\n",
    "                              n_iter = 10, scoring='neg_mean_absolute_error', \n",
    "                              cv = 3, verbose=2, random_state=42, n_jobs=-1,\n",
    "                              return_train_score=True)\n",
    "\n",
    "# Fit the random search model\n",
    "rf_random.fit(X_train, y_train);"
   ]
  },
  {
   "cell_type": "code",
   "execution_count": 14,
   "metadata": {
    "ExecuteTime": {
     "end_time": "2018-08-02T00:00:46.999522Z",
     "start_time": "2018-08-02T00:00:46.993507Z"
    }
   },
   "outputs": [
    {
     "data": {
      "text/plain": [
       "{'n_estimators': 1111,\n",
       " 'min_samples_split': 2,\n",
       " 'min_samples_leaf': 4,\n",
       " 'max_features': 'auto',\n",
       " 'max_depth': 100,\n",
       " 'bootstrap': True}"
      ]
     },
     "execution_count": 14,
     "metadata": {},
     "output_type": "execute_result"
    }
   ],
   "source": [
    "# find the best parameters\n",
    "\n",
    "rf_random.best_params_"
   ]
  },
  {
   "cell_type": "code",
   "execution_count": 15,
   "metadata": {
    "ExecuteTime": {
     "end_time": "2018-08-02T00:03:44.800121Z",
     "start_time": "2018-08-02T00:02:50.147135Z"
    }
   },
   "outputs": [
    {
     "data": {
      "text/plain": [
       "RandomForestClassifier(bootstrap=True, class_weight=None, criterion='entropy',\n",
       "            max_depth=100, max_features='auto', max_leaf_nodes=None,\n",
       "            min_impurity_decrease=0.0, min_impurity_split=None,\n",
       "            min_samples_leaf=4, min_samples_split=2,\n",
       "            min_weight_fraction_leaf=0.0, n_estimators=1111, n_jobs=1,\n",
       "            oob_score=False, random_state=42, verbose=0, warm_start=False)"
      ]
     },
     "execution_count": 15,
     "metadata": {},
     "output_type": "execute_result"
    },
    {
     "data": {
      "text/plain": [
       "array([[ 140,  610,  191],\n",
       "       [  57, 8258,  293],\n",
       "       [  80, 2328,  381]], dtype=int64)"
      ]
     },
     "execution_count": 15,
     "metadata": {},
     "output_type": "execute_result"
    },
    {
     "name": "stdout",
     "output_type": "stream",
     "text": [
      "             precision    recall  f1-score   support\n",
      "\n",
      "          0       0.51      0.15      0.23       941\n",
      "          1       0.74      0.96      0.83      8608\n",
      "          2       0.44      0.14      0.21      2789\n",
      "\n",
      "avg / total       0.65      0.71      0.65     12338\n",
      "\n"
     ]
    },
    {
     "data": {
      "text/plain": [
       "0.7115415788620522"
      ]
     },
     "execution_count": 15,
     "metadata": {},
     "output_type": "execute_result"
    }
   ],
   "source": [
    "# apply best parameters to training set and rerun\n",
    "\n",
    "classifier = RandomForestClassifier(n_estimators = 1111, min_samples_split = 2, min_samples_leaf = 4, max_features= 'auto',\n",
    "                                    max_depth = 100, bootstrap = True,\n",
    "                                    criterion = 'entropy', random_state = 42)\n",
    "classifier.fit(X_train, y_train)\n",
    "y_pred = classifier.predict(X_test)\n",
    "\n",
    "# Evaluating the Algorithm\n",
    "confusion_matrix(y_test,y_pred)\n",
    "print(classification_report(y_test,y_pred))\n",
    "accuracy_score(y_test, y_pred)"
   ]
  },
  {
   "cell_type": "markdown",
   "metadata": {},
   "source": [
    "By using best fit parameter we improved the model by 1%"
   ]
  },
  {
   "cell_type": "code",
   "execution_count": 16,
   "metadata": {
    "ExecuteTime": {
     "end_time": "2018-08-02T00:04:54.506612Z",
     "start_time": "2018-08-02T00:04:52.201495Z"
    }
   },
   "outputs": [
    {
     "name": "stdout",
     "output_type": "stream",
     "text": [
      "Test dataset loaded\n"
     ]
    },
    {
     "data": {
      "text/plain": [
       "pandas.core.frame.DataFrame"
      ]
     },
     "execution_count": 16,
     "metadata": {},
     "output_type": "execute_result"
    }
   ],
   "source": [
    "#apply model to Real test Set\n",
    "\n",
    "test_file = data_path + r\"\\test.json\"\n",
    "X_test2 = pd.read_json(test_file)\n",
    "print(\"Test dataset loaded\")\n",
    "\n",
    "type(X_test2)"
   ]
  },
  {
   "cell_type": "code",
   "execution_count": 17,
   "metadata": {
    "ExecuteTime": {
     "end_time": "2018-08-02T00:04:58.331672Z",
     "start_time": "2018-08-02T00:04:57.841272Z"
    }
   },
   "outputs": [],
   "source": [
    "# preprocess Real test data\n",
    "X_test2['created'] = pd.to_datetime(X_test2['created'])\n",
    "X_test2['year'] = X_test2['created'].dt.year\n",
    "X_test2['month'] = X_test2['created'].dt.month\n",
    "X_test2['day'] = X_test2['created'].dt.day\n",
    "\n",
    "num_photos = []\n",
    "for photo in X_test2['photos']:\n",
    "    num_photos.append(len(photo))\n",
    "num_photos_df = pd.DataFrame(num_photos, index=X_test2.index, columns=['num_photos'])\n",
    "X_test2 = X_test2.assign(num_photos=num_photos_df)\n",
    "\n",
    "len_description = []\n",
    "for description in X_test2['description']:\n",
    "    len_description.append(len(description))\n",
    "len_description_df = pd.DataFrame(len_description, index=X_test2.index, columns=['len_description'])\n",
    "X_test2 = X_test2.assign(len_description=len_description_df)\n",
    "\n",
    "num_features = []\n",
    "for feature in X_test2['features']:\n",
    "    num_features.append(len(feature))\n",
    "num_features_df = pd.DataFrame(num_features, index=X_test2.index, columns=['num_features'])\n",
    "X_test2 = X_test2.assign(num_features=num_features_df)\n",
    "\n",
    "X_test2 = X_test2.drop('building_id', axis=1)\n",
    "X_test2 = X_test2.drop('created', axis=1)\n",
    "X_test2 = X_test2.drop('description', axis=1)\n",
    "X_test2 = X_test2.drop('display_address', axis=1)\n",
    "X_test2 = X_test2.drop('features', axis=1)\n",
    "X_test2 = X_test2.drop('manager_id', axis=1)\n",
    "X_test2 = X_test2.drop('photos', axis=1)\n",
    "X_test2 = X_test2.drop('street_address', axis=1)\n",
    "X_test2 = X_test2.drop('listing_id', axis=1)"
   ]
  },
  {
   "cell_type": "code",
   "execution_count": 18,
   "metadata": {
    "ExecuteTime": {
     "end_time": "2018-08-02T00:05:19.623420Z",
     "start_time": "2018-08-02T00:05:19.601892Z"
    }
   },
   "outputs": [],
   "source": [
    "# convert data into array\n",
    "\n",
    "X_test2 = np.asarray(X_test2, dtype='int')\n",
    "X_test2 = scaler.transform(X_test2)"
   ]
  },
  {
   "cell_type": "code",
   "execution_count": 20,
   "metadata": {
    "ExecuteTime": {
     "end_time": "2018-08-02T00:06:20.671678Z",
     "start_time": "2018-08-02T00:06:03.521138Z"
    }
   },
   "outputs": [],
   "source": [
    "# here are predictions \n",
    "\n",
    "y_pred = classifier.predict(X_test2)"
   ]
  },
  {
   "cell_type": "code",
   "execution_count": null,
   "metadata": {},
   "outputs": [],
   "source": []
  }
 ],
 "metadata": {
  "kernelspec": {
   "display_name": "Python 3",
   "language": "python",
   "name": "python3"
  },
  "language_info": {
   "codemirror_mode": {
    "name": "ipython",
    "version": 3
   },
   "file_extension": ".py",
   "mimetype": "text/x-python",
   "name": "python",
   "nbconvert_exporter": "python",
   "pygments_lexer": "ipython3",
   "version": "3.6.5"
  },
  "varInspector": {
   "cols": {
    "lenName": 16,
    "lenType": 16,
    "lenVar": 40
   },
   "kernels_config": {
    "python": {
     "delete_cmd_postfix": "",
     "delete_cmd_prefix": "del ",
     "library": "var_list.py",
     "varRefreshCmd": "print(var_dic_list())"
    },
    "r": {
     "delete_cmd_postfix": ") ",
     "delete_cmd_prefix": "rm(",
     "library": "var_list.r",
     "varRefreshCmd": "cat(var_dic_list()) "
    }
   },
   "types_to_exclude": [
    "module",
    "function",
    "builtin_function_or_method",
    "instance",
    "_Feature"
   ],
   "window_display": false
  }
 },
 "nbformat": 4,
 "nbformat_minor": 2
}
